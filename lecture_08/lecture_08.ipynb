{
 "cells": [
  {
   "cell_type": "markdown",
   "metadata": {
    "slideshow": {
     "slide_type": "notes"
    }
   },
   "source": [
    "# Introduction to Python - Lecture 07 (29Oct 2018)\n",
    "\n",
    "### Agenda for today:\n",
    "+ Working with files and filesystem:\n",
    "    - basics of file handling in python\n",
    "+ Introduction to Numpy\n",
    "+ Introduction to Matplotlib\n",
    "+ Introduction to Seaborn (Next Lecture)\n",
    "+ Introduction to Pandas (Next Lecture)"
   ]
  },
  {
   "cell_type": "markdown",
   "metadata": {
    "collapsed": true
   },
   "source": [
    "# Data Persistence\n",
    "\n",
    "+ Files\n",
    "    + **<font color='blue'>\\*.txt**</font>, \\*.xml, *.json\n",
    "    + \\*.csv, \\*.tab, *.xlsx (covered later, with pandas)\n",
    "+ Databases (covered later in thhe course), when you want to capture relationships between data / entities"
   ]
  },
  {
   "cell_type": "markdown",
   "metadata": {},
   "source": [
    "# Built-in *<font color='blue'>file</font>* object\n",
    "\n",
    "+ Basic format:\n",
    "```python\n",
    "fh = open('<filename>', '<mode>')   # Creates a file object fh\n",
    "```\n",
    "+ *filename* can be _**absolute**_ or _**relative**_\n",
    "+ *mode*: {'r', 'w', 'a'}; Default='r'\n",
    "+ 'r': open file for reading if exists, else **<font color='blue'>FileNotFoundError</font>**\n",
    "+ 'w': open new file for writing; overwrite if exists; use 'a' to avoid overwriting\n",
    "\n",
    "```python\n",
    "fh = open('data/data.txt')\n",
    "type(fh)\n",
    "dir(fh)\n",
    "```\n",
    "\n",
    "+ If the file does not exist, open will raise a **FileNotFound** error with traceback\n",
    "\n",
    "**Notes**:\n",
    "+ *fh* is not the file itself, but a handle/reference to it. Use it to do desired operations (read/write).\n",
    "<br />  \n",
    "![alt text](filehandle.svg)\n",
    "<br />\n",
    "+ <font color='blue'>Some additional mode options: 'rb', 'wb' for reading and writing binary files; '+' to open the file for both reading and writing."
   ]
  },
  {
   "cell_type": "code",
   "execution_count": 3,
   "metadata": {},
   "outputs": [
    {
     "data": {
      "text/plain": [
       "['_CHUNK_SIZE',\n",
       " '__class__',\n",
       " '__del__',\n",
       " '__delattr__',\n",
       " '__dict__',\n",
       " '__dir__',\n",
       " '__doc__',\n",
       " '__enter__',\n",
       " '__eq__',\n",
       " '__exit__',\n",
       " '__format__',\n",
       " '__ge__',\n",
       " '__getattribute__',\n",
       " '__getstate__',\n",
       " '__gt__',\n",
       " '__hash__',\n",
       " '__init__',\n",
       " '__init_subclass__',\n",
       " '__iter__',\n",
       " '__le__',\n",
       " '__lt__',\n",
       " '__ne__',\n",
       " '__new__',\n",
       " '__next__',\n",
       " '__reduce__',\n",
       " '__reduce_ex__',\n",
       " '__repr__',\n",
       " '__setattr__',\n",
       " '__sizeof__',\n",
       " '__str__',\n",
       " '__subclasshook__',\n",
       " '_checkClosed',\n",
       " '_checkReadable',\n",
       " '_checkSeekable',\n",
       " '_checkWritable',\n",
       " '_finalizing',\n",
       " 'buffer',\n",
       " 'close',\n",
       " 'closed',\n",
       " 'detach',\n",
       " 'encoding',\n",
       " 'errors',\n",
       " 'fileno',\n",
       " 'flush',\n",
       " 'isatty',\n",
       " 'line_buffering',\n",
       " 'mode',\n",
       " 'name',\n",
       " 'newlines',\n",
       " 'read',\n",
       " 'readable',\n",
       " 'readline',\n",
       " 'readlines',\n",
       " 'seek',\n",
       " 'seekable',\n",
       " 'tell',\n",
       " 'truncate',\n",
       " 'writable',\n",
       " 'write',\n",
       " 'writelines']"
      ]
     },
     "execution_count": 3,
     "metadata": {},
     "output_type": "execute_result"
    }
   ],
   "source": [
    "fh = open('data/data.txt')\n",
    "# type(fh)\n",
    "dir(fh)"
   ]
  },
  {
   "cell_type": "markdown",
   "metadata": {},
   "source": [
    "# Reading from Files in \"text mode\"\n",
    "+ File content is always read in as strings  \n",
    "<br />\n",
    "+ Here are the **most common approaches**:\n",
    "\n",
    "    - **Read all data at once as a string**\n",
    "\n",
    "    ```python\n",
    "    import pprint\n",
    "    fh = open('data/data.txt', 'r')\n",
    "    data = fh.read()              # to read in all data as one big string\n",
    "    print(type(data), '\\n\\n')\n",
    "    print(data)\n",
    "    print('\\n', data.split('\\n'))   # split the big string on new line character (\\n); '\\r\\n' on windows\n",
    "    ```"
   ]
  },
  {
   "cell_type": "code",
   "execution_count": 6,
   "metadata": {},
   "outputs": [
    {
     "name": "stdout",
     "output_type": "stream",
     "text": [
      "<class 'str'> \n",
      "\n",
      "\n",
      "\n",
      " ['Writing programs or programming is a very creative', 'and rewarding activity  You can write programs for', 'many reasons ranging from making your living to solving', 'a difficult data analysis problem to having fun to helping', 'someone else solve a problem  This book assumes that', '{\\\\em everyone} needs to know how to program and that once', 'you know how to program, you will figure out what you want', 'to do with your newfound skills', '', 'We are surrounded in our daily lives with computers ranging', 'from laptops to cell phones  We can think of these computers', 'as our personal assistants who can take care of many things', 'on our behalf  The hardware in our current-day computers', 'is essentially built to continuously ask us the question', 'What would you like me to do next', '', 'Our computers are fast and have vasts amounts of memory and ', 'could be very helpful to us if we only knew the language to ', 'speak to explain to the computer what we would like it to ', 'do next If we knew this language we could tell the ', 'computer to do tasks on our behalf that were reptitive  ', 'Interestingly, the kinds of things computers can do best', 'are often the kinds of things that we humans find boring', 'and mind-numbing']\n"
     ]
    }
   ],
   "source": [
    "import pprint\n",
    "fh = open('data/data.txt', 'r')\n",
    "data = fh.read()              # to read in all data as one big string\n",
    "print(type(data), '\\n\\n')\n",
    "#print(data)\n",
    "print('\\n', data.split('\\n'))  "
   ]
  },
  {
   "cell_type": "markdown",
   "metadata": {},
   "source": [
    "+ **file pointers and *<font color='blue'>seek</font>* operation**\n",
    "\n",
    "    ```python\n",
    "data_read_again = fh.read()        # can't read more without resetting the read pointer\n",
    "print(\"length of data_read_again is: \", len(data_read_again))\n",
    "fh.seek(0, 0)          # reset the pointer to beginning of the file: fh.seek(offset, from_what)\n",
    "                       # https://docs.python.org/3/tutorial/inputoutput.html\n",
    "data_now = fh.read()\n",
    "print(data_now)\n",
    "```"
   ]
  },
  {
   "cell_type": "code",
   "execution_count": 11,
   "metadata": {},
   "outputs": [
    {
     "name": "stdout",
     "output_type": "stream",
     "text": [
      "length of data_read_again is:  0\n",
      "length of data_read_again is:  1170\n"
     ]
    }
   ],
   "source": [
    "data_read_again = fh.read() \n",
    "print(\"length of data_read_again is: \", len(data_read_again))\n",
    "\n",
    "fh.seek(0, 0)\n",
    "\n",
    "data_now = fh.read()\n",
    "print(\"length of data_read_again is: \", len(data_now))\n"
   ]
  },
  {
   "cell_type": "markdown",
   "metadata": {},
   "source": [
    "+ **Read individual lines as strings**\n",
    "```python\n",
    "fh.seek(0, 0)\n",
    "data = fh.readlines()       # returns list of strings\n",
    "print(type(data), \"\\n\\n\")   # check out the \\n newline character at the end of lines\n",
    "print(data)         # (\\r\\n on windows machines)\n",
    "```"
   ]
  },
  {
   "cell_type": "code",
   "execution_count": 12,
   "metadata": {},
   "outputs": [
    {
     "name": "stdout",
     "output_type": "stream",
     "text": [
      "<class 'list'> \n",
      "\n",
      "\n",
      "['Writing programs or programming is a very creative\\n', 'and rewarding activity  You can write programs for\\n', 'many reasons ranging from making your living to solving\\n', 'a difficult data analysis problem to having fun to helping\\n', 'someone else solve a problem  This book assumes that\\n', '{\\\\em everyone} needs to know how to program and that once\\n', 'you know how to program, you will figure out what you want\\n', 'to do with your newfound skills\\n', '\\n', 'We are surrounded in our daily lives with computers ranging\\n', 'from laptops to cell phones  We can think of these computers\\n', 'as our personal assistants who can take care of many things\\n', 'on our behalf  The hardware in our current-day computers\\n', 'is essentially built to continuously ask us the question\\n', 'What would you like me to do next\\n', '\\n', 'Our computers are fast and have vasts amounts of memory and \\n', 'could be very helpful to us if we only knew the language to \\n', 'speak to explain to the computer what we would like it to \\n', 'do next If we knew this language we could tell the \\n', 'computer to do tasks on our behalf that were reptitive  \\n', 'Interestingly, the kinds of things computers can do best\\n', 'are often the kinds of things that we humans find boring\\n', 'and mind-numbing']\n"
     ]
    }
   ],
   "source": [
    "fh.seek(0, 0)\n",
    "data = fh.readlines()       # returns list of strings\n",
    "print(type(data), \"\\n\\n\")   # check out the \\n newline character at the end of lines\n",
    "print(data) "
   ]
  },
  {
   "cell_type": "markdown",
   "metadata": {},
   "source": [
    "+ **Iterate over large files**\n",
    "```python\n",
    "fh.seek(0, 0)\n",
    "for line in fh:           # 'fh' is iterable; use in iteration context for efficient\n",
    "    print(len(line), line)  # reading of large files\n",
    "fh.close()                # close file; good practice (esp. when writing files)\n",
    "```"
   ]
  },
  {
   "cell_type": "code",
   "execution_count": 16,
   "metadata": {},
   "outputs": [
    {
     "name": "stdout",
     "output_type": "stream",
     "text": [
      "51 Writing programs or programming is a very creative\n",
      "\n",
      "51 and rewarding activity  You can write programs for\n",
      "\n",
      "56 many reasons ranging from making your living to solving\n",
      "\n",
      "59 a difficult data analysis problem to having fun to helping\n",
      "\n",
      "53 someone else solve a problem  This book assumes that\n",
      "\n",
      "58 {\\em everyone} needs to know how to program and that once\n",
      "\n",
      "59 you know how to program, you will figure out what you want\n",
      "\n",
      "32 to do with your newfound skills\n",
      "\n",
      "1 \n",
      "\n",
      "60 We are surrounded in our daily lives with computers ranging\n",
      "\n",
      "61 from laptops to cell phones  We can think of these computers\n",
      "\n",
      "60 as our personal assistants who can take care of many things\n",
      "\n",
      "57 on our behalf  The hardware in our current-day computers\n",
      "\n",
      "57 is essentially built to continuously ask us the question\n",
      "\n",
      "34 What would you like me to do next\n",
      "\n",
      "1 \n",
      "\n",
      "61 Our computers are fast and have vasts amounts of memory and \n",
      "\n",
      "61 could be very helpful to us if we only knew the language to \n",
      "\n",
      "59 speak to explain to the computer what we would like it to \n",
      "\n",
      "52 do next If we knew this language we could tell the \n",
      "\n",
      "57 computer to do tasks on our behalf that were reptitive  \n",
      "\n",
      "57 Interestingly, the kinds of things computers can do best\n",
      "\n",
      "57 are often the kinds of things that we humans find boring\n",
      "\n",
      "16 and mind-numbing\n"
     ]
    }
   ],
   "source": [
    "fh = open('data/data.txt', 'r')\n",
    "fh.seek(0, 0)\n",
    "for line in fh:           # 'fh' is iterable; use in iteration context for efficient\n",
    "    print(len(line), line)  # reading of large files\n",
    "fh.close()  "
   ]
  },
  {
   "cell_type": "markdown",
   "metadata": {},
   "source": [
    "+ **Context manager**\n",
    "```python\n",
    "with open('data/data.txt', 'r') as fh:  # Context-manager; automatically closes the file\n",
    "    for line in fh:\n",
    "        print(line)\n",
    "print('\\nFile closed? : ', fh.closed)\n",
    "```"
   ]
  },
  {
   "cell_type": "code",
   "execution_count": 18,
   "metadata": {},
   "outputs": [
    {
     "name": "stdout",
     "output_type": "stream",
     "text": [
      "Writing programs or programming is a very creative\n",
      "and rewarding activity  You can write programs for\n",
      "many reasons ranging from making your living to solving\n",
      "a difficult data analysis problem to having fun to helping\n",
      "someone else solve a problem  This book assumes that\n",
      "{\\em everyone} needs to know how to program and that once\n",
      "you know how to program, you will figure out what you want\n",
      "to do with your newfound skills\n",
      "\n",
      "We are surrounded in our daily lives with computers ranging\n",
      "from laptops to cell phones  We can think of these computers\n",
      "as our personal assistants who can take care of many things\n",
      "on our behalf  The hardware in our current-day computers\n",
      "is essentially built to continuously ask us the question\n",
      "What would you like me to do next\n",
      "\n",
      "Our computers are fast and have vasts amounts of memory and\n",
      "could be very helpful to us if we only knew the language to\n",
      "speak to explain to the computer what we would like it to\n",
      "do next If we knew this language we could tell the\n",
      "computer to do tasks on our behalf that were reptitive\n",
      "Interestingly, the kinds of things computers can do best\n",
      "are often the kinds of things that we humans find boring\n",
      "and mind-numbing\n",
      "\n",
      "File closed? :  True\n"
     ]
    }
   ],
   "source": [
    "with open('data/data.txt', 'r') as fh:  # Context-manager; automatically closes the file\n",
    "    for line in fh:\n",
    "        print(line.strip())\n",
    "print('\\nFile closed? : ', fh.closed)"
   ]
  },
  {
   "cell_type": "markdown",
   "metadata": {},
   "source": [
    "# Writing to Files in \"text mode\"\n",
    "+ Like reading, writing is also done as strings\n",
    "<br />\n",
    "+ Here are the **most common approaches**:\n",
    "\n",
    "```python\n",
    "fh = open('data/fresh.txt', 'w')           # Open a new file in write mode\n",
    "fh.write('This is the 1st line\\n')    # Write a line; \n",
    "                                      # Note that newline chars must be explicitly added\n",
    "fh.close()\n",
    "```\n",
    "\n"
   ]
  },
  {
   "cell_type": "code",
   "execution_count": 19,
   "metadata": {
    "collapsed": true
   },
   "outputs": [],
   "source": [
    "fh = open('data/fresh.txt', 'w')           # Open a new file in write mode\n",
    "fh.write('This is the 1st line\\n')    # Write a line; \n",
    "                                      # Note that newline chars must be explicitly added\n",
    "fh.close()"
   ]
  },
  {
   "cell_type": "markdown",
   "metadata": {},
   "source": [
    "+ **Flushing buffers**\n",
    "\n",
    "```python\n",
    "fh = open('data/fresh.txt', 'a')           # Open the earlier file in 'append' mode\n",
    "                                      #    to avoid overwriting\n",
    "fh.write('This is the 2nd line\\n')    # Write a line; \n",
    "                                      # Note that newline chars must be explicitly added\n",
    "fh.flush()                            # Clears the buffer\n",
    "```"
   ]
  },
  {
   "cell_type": "code",
   "execution_count": 22,
   "metadata": {},
   "outputs": [],
   "source": [
    "fh = open('data/fresh.txt', 'a')           # Open the earlier file in 'append' mode\n",
    "                                      #    to avoid overwriting\n",
    "fh.write('This is the 3rd line\\n')    # Write a line; \n",
    "                                      # Note that newline chars must be explicitly added\n",
    "fh.flush() "
   ]
  },
  {
   "cell_type": "markdown",
   "metadata": {},
   "source": [
    "+ **Write multiple lines at once**\n",
    "\n",
    "```python\n",
    "fh.writelines(['This is the 3rd line\\n', 'This is the 4th line\\n'])   # Note the newline\n",
    "fh.flush()\n",
    "```"
   ]
  },
  {
   "cell_type": "code",
   "execution_count": 24,
   "metadata": {
    "collapsed": true
   },
   "outputs": [],
   "source": [
    "fh.writelines(['This is the 3rd line\\n', 'This is the 4th line\\n'])   # Note the newline\n",
    "fh.flush()"
   ]
  },
  {
   "cell_type": "code",
   "execution_count": 23,
   "metadata": {},
   "outputs": [
    {
     "name": "stdout",
     "output_type": "stream",
     "text": [
      "Help on built-in function writelines:\n",
      "\n",
      "writelines(lines, /) method of _io.TextIOWrapper instance\n",
      "\n"
     ]
    }
   ],
   "source": []
  },
  {
   "cell_type": "markdown",
   "metadata": {},
   "source": [
    "+ **Write iteratively**\n",
    "\n",
    "```python\n",
    "more_lines = ['5th line', '6th line', '7th line']\n",
    "\n",
    "for line in more_lines:       # iteration context\n",
    "    fh.write(line + '\\n')\n",
    "    fh.flush()                # Don't need to add flush after every write: inefficient; let python handle it\n",
    "fh.close()\n",
    "```\n",
    "\n"
   ]
  },
  {
   "cell_type": "code",
   "execution_count": 25,
   "metadata": {
    "collapsed": true
   },
   "outputs": [],
   "source": [
    "more_lines = ['5th line', '6th line', '7th line']\n",
    "\n",
    "for line in more_lines:       # iteration context\n",
    "    fh.write(line + '\\n')\n",
    "#     fh.flush()                # Don't need to add flush after every write: inefficient; let python handle it\n",
    "fh.close()"
   ]
  },
  {
   "cell_type": "markdown",
   "metadata": {},
   "source": [
    "### There are specialized modules to work with specific file formats:\n",
    "1. csv (comma-separated values)\n",
    "2. xlrd (excel documents): **pip install** xlrd OR **conda install** xlrd\n",
    "3. json (hierarchical text-based format like python dictionares)\n",
    "4. yaml (another hierarchical text-based format like json): **pip install** pyyaml OR **conda install** pyyaml\n",
    "5. pandas (works with csv, tsv, xls and many more formats): **pip install pandas** OR **conda install pandas**"
   ]
  },
  {
   "cell_type": "markdown",
   "metadata": {},
   "source": [
    "## os.path module\n",
    "```python\n",
    "import os\n",
    "dir(os.path)  # Note that path is another module that os module imports. \n",
    "              # When we import os, path becomes available as a module variable within os namespace.\n",
    "              # --> module / namespace hierarchy\n",
    "```\n",
    "+ **path parsing:**\n",
    "    - os.path.split(<path_str>):\n",
    "    - os.path.splitext(<path_str>) \n",
    "```python\n",
    "# Ex.\n",
    "print(os.path.split(os.path.expanduser('~/Documents/my_data.txt')))\n",
    "print(os.path.splitext('my_data.txt'))\n",
    "```\n",
    "+ **path building:**\n",
    "    - os.path.join(<path_components>)\n",
    "```python\n",
    "# Ex.\n",
    "print(os.path.join('~', 'Desktop', 'itp'))\n",
    "```\n",
    "+ **common tests:**\n",
    "    - os.path.<test>, where test = {isdir(), isfile(), exists(), ...}\n",
    "```python\n",
    "# Ex.\n",
    "print(os.path.isdir('data/data.txt'))\n",
    "print(os.path.isfile('data/data.txt')\n",
    "print(os.path.exists('data')\n",
    "print(os.path.exists('data.txt')\n",
    "print(os.path.exists('/Users/mark')\n",
    "```\n",
    "+ **listing contents of a dir:**\n",
    "    - os.listdir\n",
    "```python\n",
    "# Ex.\n",
    "import pprint\n",
    "pprint.pprint(os.listdir(os.path.expanduser('~/Desktop')))\n",
    "pprint.pprint(os.listdir('.'))\n",
    "pprint.pprint(os.listdir('..'))\n",
    "```"
   ]
  },
  {
   "cell_type": "code",
   "execution_count": 42,
   "metadata": {},
   "outputs": [
    {
     "name": "stdout",
     "output_type": "stream",
     "text": [
      "['assignments',\n",
      " 'test.py',\n",
      " '2018_fall_itp',\n",
      " 'grivam01@bigpurple.nyumc.org',\n",
      " '2018_ITP']\n"
     ]
    }
   ],
   "source": [
    "pprint.pprint(os.listdir('../..'))\n"
   ]
  },
  {
   "cell_type": "markdown",
   "metadata": {},
   "source": [
    "## Numpy\n",
    "\n",
    "+ A package for scientific computing\n",
    "+ A more powerful version of lists\n",
    "+ All of the methods are optimized to run fast\n",
    "+ Great for linear algebra, statistical analysis\n",
    "\n",
    "Numpy is not part of Pythons standard libraries and needs to be installed.\n",
    "\n",
    "This can be done using the conda command if you are using Anaconda:\n",
    "\n",
    "```bash\n",
    "conda install numpy\n",
    "```\n",
    "\n",
    "Alternatively this can be done using the built in Python package manager Pip\n",
    "\n",
    "```bash\n",
    "pip install numpy\n",
    "```\n",
    "\n",
    "Once numpy is installed it then needs to be imported to use its functionality\n",
    "\n",
    "```python\n",
    "import numpy as np\n",
    "```"
   ]
  },
  {
   "cell_type": "code",
   "execution_count": 43,
   "metadata": {
    "collapsed": true
   },
   "outputs": [],
   "source": [
    "import numpy as np"
   ]
  },
  {
   "cell_type": "markdown",
   "metadata": {},
   "source": [
    "### Lists recap\n",
    "\n",
    "Lists are created using '[]'\n",
    "\n",
    "```python\n",
    "l1 = [1, 2, 3, 4]\n",
    "```\n",
    "\n",
    "Lists can contain mixed types\n",
    "\n",
    "```python\n",
    "l2 = [1, 'a', {'abs': abs}, (1, 2)]\n",
    "```\n",
    "\n",
    "\n",
    "Lists can be joined using the + operator which creates a new list\n",
    "\n",
    "```python\n",
    "l3 = l1 + l2\n",
    "```\n",
    "\n",
    "Lists can be extended using the .extend() method which happens in place\n",
    "\n",
    "```python\n",
    "l1.extend(l2)\n",
    "```\n",
    "\n",
    "The range() function can be used to initialize numeric lists\n",
    "\n",
    "```python\n",
    "base = list(range(0, 101, 2))\n",
    "```\n",
    "\n",
    "To perform calculations using a list, a for loop is required\n",
    "\n",
    "```python\n",
    "base_squared = []\n",
    "for x in base:\n",
    "    base_squared.append(x**2)\n",
    "```"
   ]
  },
  {
   "cell_type": "code",
   "execution_count": 44,
   "metadata": {},
   "outputs": [
    {
     "name": "stdout",
     "output_type": "stream",
     "text": [
      "[0, 2, 4, 6, 8, 10, 12, 14, 16, 18, 20, 22, 24, 26, 28, 30, 32, 34, 36, 38, 40, 42, 44, 46, 48, 50, 52, 54, 56, 58, 60, 62, 64, 66, 68, 70, 72, 74, 76, 78, 80, 82, 84, 86, 88, 90, 92, 94, 96, 98, 100]\n",
      "[0, 4, 16, 36, 64, 100, 144, 196, 256, 324, 400, 484, 576, 676, 784, 900, 1024, 1156, 1296, 1444, 1600, 1764, 1936, 2116, 2304, 2500, 2704, 2916, 3136, 3364, 3600, 3844, 4096, 4356, 4624, 4900, 5184, 5476, 5776, 6084, 6400, 6724, 7056, 7396, 7744, 8100, 8464, 8836, 9216, 9604, 10000]\n"
     ]
    }
   ],
   "source": [
    "base = list(range(0, 101, 2))\n",
    "base_squared = []\n",
    "for x in base:\n",
    "    base_squared.append(x**2)\n",
    "\n",
    "print(base)\n",
    "print(base_squared)"
   ]
  },
  {
   "cell_type": "markdown",
   "metadata": {},
   "source": [
    "### Creating arrays with Numpy\n",
    "\n",
    "There are a number of ways of creating numpy arrays.\n",
    "\n",
    "##### Converting a regular python list into a numpy array:\n",
    "\n",
    "```python\n",
    "var = np.array(< list >)\n",
    "```\n",
    "\n",
    "This is useful when the original list needs to be constructed from a file. Numpy does not have a simple method to append to lists. For this reason it is sometimes easier to build a normal python list before converting it to a numpy array.\n",
    "\n",
    "```python\n",
    "characters = []\n",
    "for i in range(32, 100):\n",
    "    characters.append(chr(i))\n",
    "print(characters)\n",
    "np_char = np.array(characters)\n",
    "print(np_char)\n",
    "```"
   ]
  },
  {
   "cell_type": "code",
   "execution_count": 45,
   "metadata": {},
   "outputs": [
    {
     "name": "stdout",
     "output_type": "stream",
     "text": [
      "[' ', '!', '\"', '#', '$', '%', '&', \"'\", '(', ')', '*', '+', ',', '-', '.', '/', '0', '1', '2', '3', '4', '5', '6', '7', '8', '9', ':', ';', '<', '=', '>', '?', '@', 'A', 'B', 'C', 'D', 'E', 'F', 'G', 'H', 'I', 'J', 'K', 'L', 'M', 'N', 'O', 'P', 'Q', 'R', 'S', 'T', 'U', 'V', 'W', 'X', 'Y', 'Z', '[', '\\\\', ']', '^', '_', '`', 'a', 'b', 'c']\n",
      "[' ' '!' '\"' '#' '$' '%' '&' \"'\" '(' ')' '*' '+' ',' '-' '.' '/' '0' '1'\n",
      " '2' '3' '4' '5' '6' '7' '8' '9' ':' ';' '<' '=' '>' '?' '@' 'A' 'B' 'C'\n",
      " 'D' 'E' 'F' 'G' 'H' 'I' 'J' 'K' 'L' 'M' 'N' 'O' 'P' 'Q' 'R' 'S' 'T' 'U'\n",
      " 'V' 'W' 'X' 'Y' 'Z' '[' '\\\\' ']' '^' '_' '`' 'a' 'b' 'c']\n"
     ]
    }
   ],
   "source": [
    "characters = []\n",
    "for i in range(32, 100):\n",
    "    characters.append(chr(i))\n",
    "print(characters)\n",
    "np_char = np.array(characters)\n",
    "print(np_char)"
   ]
  },
  {
   "cell_type": "markdown",
   "metadata": {},
   "source": [
    "##### Initializing arrays using numpy\n",
    "\n",
    "1. Creating an array with *n* zeros\n",
    "\n",
    "```python\n",
    "lst = np.zeros(25)\n",
    "lst_2d = np.zeros((5, 5))\n",
    "```\n",
    "\n",
    "2. Creating an array with *n* ones\n",
    "\n",
    "```python\n",
    "lst = np.ones(25)\n",
    "lst_2d = np.ones((5, 5))\n",
    "```\n",
    "\n",
    "3. Using a range(start, end, incriment)\n",
    "\n",
    "```python\n",
    "lst = np.arange(10, 20, 2)\n",
    "```\n",
    "\n",
    "4. Linspace is similar to range - linspace(start, end, number_of_elements) \n",
    "\n",
    "```python\n",
    "lst = np.linspace(10, 20, 2)\n",
    "```\n",
    "\n",
    "5. Filling a list with random numbers between [0, 1)\n",
    "\n",
    "```python\n",
    "lst = np.random.rand(5)\n",
    "lst_2d = np.random.rand(5, 5)\n",
    "```"
   ]
  },
  {
   "cell_type": "code",
   "execution_count": 4,
   "metadata": {},
   "outputs": [
    {
     "data": {
      "text/plain": [
       "array([[0.06689521, 0.79998576, 0.57903857, 0.40696955, 0.52646909],\n",
       "       [0.39550806, 0.33068131, 0.08150117, 0.46675002, 0.32785017],\n",
       "       [0.14159486, 0.35035181, 0.68039871, 0.97799116, 0.13861149],\n",
       "       [0.05794118, 0.84421031, 0.47138771, 0.5549029 , 0.58181592],\n",
       "       [0.22444156, 0.30352393, 0.99436612, 0.59083201, 0.70012481]])"
      ]
     },
     "execution_count": 4,
     "metadata": {},
     "output_type": "execute_result"
    }
   ],
   "source": [
    "import numpy as np\n",
    "np.random.seed(123454321)\n",
    "lst = np.random.rand(5)\n",
    "lst_2d = np.random.rand(5, 5)\n",
    "lst_2d"
   ]
  },
  {
   "cell_type": "markdown",
   "metadata": {},
   "source": [
    "### Numpy mathematical operations\n",
    "\n",
    "Numpy is a tool which simplifies performing linear algebra in Python, for this reason most operations will match linear algebra operations.\n",
    "\n",
    "1. Addition\n",
    "    1. Adding a scalar to a matrix does not follow normal mathematical rules as the scalar is \n",
    "    added to each object in the matrix\n",
    "  \n",
    "    ```\n",
    "    ```\n",
    "        $\n",
    "            \\begin{bmatrix} \n",
    "            a_{0,0} & a_{0,1} & \\cdots & a_{0,n} \\\\\n",
    "            a_{1,0} & a_{1,1} & \\cdots & a_{1,n} \\\\\n",
    "            \\vdots & \\vdots & \\ddots & \\vdots \\\\\n",
    "            a_{m,0} & a_{m,1} & \\cdots & a_{m,n} \\\\\n",
    "            \\end{bmatrix} + C\n",
    "        $\n",
    "        $ =\n",
    "            \\begin{bmatrix} \n",
    "            a_{0,0} + C & a_{0,1} + C & \\cdots & a_{0,n} + C \\\\\n",
    "            a_{1,0} + C & a_{1,1} + C & \\cdots & a_{1,n} + C \\\\\n",
    "            \\vdots & \\vdots & \\ddots & \\vdots \\\\\n",
    "            a_{m,0} + C & a_{m,1} + C & \\cdots & a_{m,n} + C \\\\\n",
    "            \\end{bmatrix}\n",
    "        $\n",
    "\n",
    "    ```python\n",
    "    lst_2d = np.ones((n, m)) + C\n",
    "    ```"
   ]
  },
  {
   "cell_type": "code",
   "execution_count": 6,
   "metadata": {},
   "outputs": [
    {
     "data": {
      "text/plain": [
       "array([[6., 6., 6.],\n",
       "       [6., 6., 6.]])"
      ]
     },
     "execution_count": 6,
     "metadata": {},
     "output_type": "execute_result"
    }
   ],
   "source": [
    "lst_2d = np.ones((2, 3)) + 5\n",
    "lst_2d"
   ]
  },
  {
   "cell_type": "markdown",
   "metadata": {},
   "source": [
    "1. \n",
    "    2. Adding two numpy arrays requires them to have the same shape\n",
    "  \n",
    "    ```\n",
    "    ```\n",
    "        $\n",
    "            \\begin{bmatrix} \n",
    "            a_{0,0} & a_{0,1} & \\cdots & a_{0,n} \\\\\n",
    "            a_{1,0} & a_{1,1} & \\cdots & a_{1,n} \\\\\n",
    "            \\vdots & \\vdots & \\ddots & \\vdots \\\\\n",
    "            a_{m,0} & a_{m,1} & \\cdots & a_{m,n} \\\\\n",
    "            \\end{bmatrix} + \n",
    "            \\begin{bmatrix} \n",
    "            b_{0,0} & b_{0,1} & \\cdots & b_{0,n} \\\\\n",
    "            b_{1,0} & b_{1,1} & \\cdots & b_{1,n} \\\\\n",
    "            \\vdots & \\vdots & \\ddots & \\vdots \\\\\n",
    "            b_{m,0} & b_{m,1} & \\cdots & b_{m,n} \\\\\n",
    "            \\end{bmatrix} =\n",
    "            \\begin{bmatrix} \n",
    "            a_{0,0} + b_{0,0} & a_{0,1} + b_{0,1} & \\cdots & a_{0,n} + b_{0,n} \\\\\n",
    "            a_{1,0} + b_{1,0} & a_{1,1} + b_{1,1} & \\cdots & a_{1,n} + b_{1,n} \\\\\n",
    "            \\vdots & \\vdots & \\ddots & \\vdots \\\\\n",
    "            a_{m,0} + b_{m,0} & a_{m,1} + b_{m,1} & \\cdots & a_{m,n} + b_{m,n} \\\\\n",
    "            \\end{bmatrix}\n",
    "        $\n",
    "\n",
    "    ```python\n",
    "    lst_2d = np.ones((n, m)) + np.ones((n, m))\n",
    "    ```\n",
    "    "
   ]
  },
  {
   "cell_type": "code",
   "execution_count": 9,
   "metadata": {},
   "outputs": [
    {
     "ename": "ValueError",
     "evalue": "operands could not be broadcast together with shapes (2,3) (3,3) ",
     "output_type": "error",
     "traceback": [
      "\u001b[0;31m---------------------------------------------------------------------------\u001b[0m",
      "\u001b[0;31mValueError\u001b[0m                                Traceback (most recent call last)",
      "\u001b[0;32m<ipython-input-9-f094c080a6d5>\u001b[0m in \u001b[0;36m<module>\u001b[0;34m()\u001b[0m\n\u001b[0;32m----> 1\u001b[0;31m \u001b[0mlst_2d\u001b[0m \u001b[0;34m=\u001b[0m \u001b[0mnp\u001b[0m\u001b[0;34m.\u001b[0m\u001b[0mones\u001b[0m\u001b[0;34m(\u001b[0m\u001b[0;34m(\u001b[0m\u001b[0;36m2\u001b[0m\u001b[0;34m,\u001b[0m \u001b[0;36m3\u001b[0m\u001b[0;34m)\u001b[0m\u001b[0;34m)\u001b[0m \u001b[0;34m+\u001b[0m \u001b[0mnp\u001b[0m\u001b[0;34m.\u001b[0m\u001b[0mones\u001b[0m\u001b[0;34m(\u001b[0m\u001b[0;34m(\u001b[0m\u001b[0;36m3\u001b[0m\u001b[0;34m,\u001b[0m \u001b[0;36m3\u001b[0m\u001b[0;34m)\u001b[0m\u001b[0;34m)\u001b[0m\u001b[0;34m\u001b[0m\u001b[0m\n\u001b[0m\u001b[1;32m      2\u001b[0m \u001b[0mlst_2d\u001b[0m\u001b[0;34m\u001b[0m\u001b[0m\n",
      "\u001b[0;31mValueError\u001b[0m: operands could not be broadcast together with shapes (2,3) (3,3) "
     ]
    }
   ],
   "source": [
    "lst_2d = np.ones((2, 3)) + np.ones((2, 3))\n",
    "lst_2d"
   ]
  },
  {
   "cell_type": "markdown",
   "metadata": {},
   "source": [
    "2. Multiplication\n",
    "    1. By a scalar - each element is multiplied by the scalar\n",
    "  \n",
    "    ```\n",
    "    ```\n",
    "        $\n",
    "            \\begin{bmatrix} \n",
    "            a_{0,0} & a_{0,1} & \\cdots & a_{0,n} \\\\\n",
    "            a_{1,0} & a_{1,1} & \\cdots & a_{1,n} \\\\\n",
    "            \\vdots & \\vdots & \\ddots & \\vdots \\\\\n",
    "            a_{m,0} & a_{m,1} & \\cdots & a_{m,n} \\\\\n",
    "            \\end{bmatrix} * C\n",
    "        $\n",
    "        $ =\n",
    "            \\begin{bmatrix} \n",
    "            a_{0,0} * C & a_{0,1} * C & \\cdots & a_{0,n} * C \\\\\n",
    "            a_{1,0} * C & a_{1,1} * C & \\cdots & a_{1,n} * C \\\\\n",
    "            \\vdots & \\vdots & \\ddots & \\vdots \\\\\n",
    "            a_{m,0} * C & a_{m,1} * C & \\cdots & a_{m,n} * C \\\\\n",
    "            \\end{bmatrix}\n",
    "        $\n",
    "\n",
    "    ```python\n",
    "    lst_2d = np.ones((n, m)) * C\n",
    "    ```"
   ]
  },
  {
   "cell_type": "code",
   "execution_count": 10,
   "metadata": {},
   "outputs": [
    {
     "data": {
      "text/plain": [
       "array([[5., 5., 5.],\n",
       "       [5., 5., 5.]])"
      ]
     },
     "execution_count": 10,
     "metadata": {},
     "output_type": "execute_result"
    }
   ],
   "source": [
    "lst_2d = np.ones((2, 3)) * 5\n",
    "lst_2d"
   ]
  },
  {
   "cell_type": "markdown",
   "metadata": {},
   "source": [
    "2.    \n",
    "    2. Multiplying two equally sized matricies results in element wise multiplication\n",
    "  \n",
    "    ```\n",
    "    ```\n",
    "        $\n",
    "            \\begin{bmatrix} \n",
    "            a_{0,0} & a_{0,1} & \\cdots & a_{0,n} \\\\\n",
    "            a_{1,0} & a_{1,1} & \\cdots & a_{1,n} \\\\\n",
    "            \\vdots & \\vdots & \\ddots & \\vdots \\\\\n",
    "            a_{m,0} & a_{m,1} & \\cdots & a_{m,n} \\\\\n",
    "            \\end{bmatrix} * \n",
    "            \\begin{bmatrix} \n",
    "            b_{0,0} & b_{0,1} & \\cdots & b_{0,n} \\\\\n",
    "            b_{1,0} & b_{1,1} & \\cdots & b_{1,n} \\\\\n",
    "            \\vdots & \\vdots & \\ddots & \\vdots \\\\\n",
    "            b_{m,0} & b_{m,1} & \\cdots & b_{m,n} \\\\\n",
    "            \\end{bmatrix} =\n",
    "            \\begin{bmatrix} \n",
    "            a_{0,0} * b_{0,0} & a_{0,1} * b_{0,1} & \\cdots & a_{0,n} * b_{0,n} \\\\\n",
    "            a_{1,0} * b_{1,0} & a_{1,1} * b_{1,1} & \\cdots & a_{1,n} * b_{1,n} \\\\\n",
    "            \\vdots & \\vdots & \\ddots & \\vdots \\\\\n",
    "            a_{m,0} * b_{m,0} & a_{m,1} * b_{m,1} & \\cdots & a_{m,n} * b_{m,n} \\\\\n",
    "            \\end{bmatrix}\n",
    "        $\n",
    "\n",
    "    ```python\n",
    "    lst_2d = np.ones((n, m)) * np.ones((n, m))\n",
    "    ```\n",
    "    "
   ]
  },
  {
   "cell_type": "code",
   "execution_count": 12,
   "metadata": {},
   "outputs": [
    {
     "data": {
      "text/plain": [
       "array([[2., 2., 2.],\n",
       "       [2., 2., 2.]])"
      ]
     },
     "execution_count": 12,
     "metadata": {},
     "output_type": "execute_result"
    }
   ],
   "source": [
    "lst_2d = np.ones((2, 3)) * (np.ones((2, 3)) * 2)\n",
    "lst_2d"
   ]
  },
  {
   "cell_type": "markdown",
   "metadata": {},
   "source": [
    "2. \n",
    "    3. Multiplying a n x m matrix with a vector of size n results in each row being multiplied by the vector\n",
    "  \n",
    "    ```\n",
    "    ```\n",
    "        $\n",
    "            \\begin{bmatrix} \n",
    "            a_{0,0} & a_{0,1} & \\cdots & a_{0,n} \\\\\n",
    "            a_{1,0} & a_{1,1} & \\cdots & a_{1,n} \\\\\n",
    "            \\vdots & \\vdots & \\ddots & \\vdots \\\\\n",
    "            a_{m,0} & a_{m,1} & \\cdots & a_{m,n} \\\\\n",
    "            \\end{bmatrix} * \n",
    "            \\begin{bmatrix} \n",
    "            b_{0} & b_{1} & \\cdots & b_{n}\n",
    "            \\end{bmatrix} =\n",
    "            \\begin{bmatrix} \n",
    "            a_{0,0} * b_{0} & a_{0,1} * b_{1} & \\cdots & a_{0,n} * b_{n} \\\\\n",
    "            a_{1,0} * b_{0} & a_{1,1} * b_{1} & \\cdots & a_{1,n} * b_{n} \\\\\n",
    "            \\vdots & \\vdots & \\ddots & \\vdots \\\\\n",
    "            a_{m,0} * b_{0} & a_{m,1} * b_{1} & \\cdots & a_{m,n} * b_{n} \\\\\n",
    "            \\end{bmatrix}\n",
    "        $\n",
    "\n",
    "    ```python\n",
    "    lst_2d = np.ones((6, 5)) * np.array([1, 2, 3, 2, 1])\n",
    "    ```"
   ]
  },
  {
   "cell_type": "code",
   "execution_count": 14,
   "metadata": {},
   "outputs": [
    {
     "data": {
      "text/plain": [
       "array([[2., 3., 4., 3., 2.],\n",
       "       [2., 3., 4., 3., 2.],\n",
       "       [2., 3., 4., 3., 2.],\n",
       "       [2., 3., 4., 3., 2.],\n",
       "       [2., 3., 4., 3., 2.],\n",
       "       [2., 3., 4., 3., 2.]])"
      ]
     },
     "execution_count": 14,
     "metadata": {},
     "output_type": "execute_result"
    }
   ],
   "source": [
    "lst_2d = np.ones((6, 5)) + np.array([1, 2, 3, 2, 1])\n",
    "lst_2d"
   ]
  },
  {
   "cell_type": "markdown",
   "metadata": {},
   "source": [
    "3. Division follows the same rules as multiplication\n",
    "\n",
    "    ```python\n",
    "    lst_2d = np.ones((6, 5)) / np.array([1, 2, 3, 2, 1])\n",
    "    ```\n"
   ]
  },
  {
   "cell_type": "code",
   "execution_count": null,
   "metadata": {
    "collapsed": true
   },
   "outputs": [],
   "source": []
  },
  {
   "cell_type": "markdown",
   "metadata": {},
   "source": [
    "### Accessing elements/rows/columns\n",
    "\n",
    "\n",
    "##### Constructing a 2d array for demonstration purposes\n",
    "\n",
    "```python\n",
    "lst_2d = np.vstack((np.arange(1, 100, 2), np.arange(100, 1, -2)))\n",
    "```\n",
    "\n",
    "This is a 2D array in which the first row comprises of all the odd numbers between [1 and 99] and the second row comprises the even numbers between [100 and 2]."
   ]
  },
  {
   "cell_type": "code",
   "execution_count": 15,
   "metadata": {},
   "outputs": [
    {
     "data": {
      "text/plain": [
       "array([[  1,   3,   5,   7,   9,  11,  13,  15,  17,  19,  21,  23,  25,\n",
       "         27,  29,  31,  33,  35,  37,  39,  41,  43,  45,  47,  49,  51,\n",
       "         53,  55,  57,  59,  61,  63,  65,  67,  69,  71,  73,  75,  77,\n",
       "         79,  81,  83,  85,  87,  89,  91,  93,  95,  97,  99],\n",
       "       [100,  98,  96,  94,  92,  90,  88,  86,  84,  82,  80,  78,  76,\n",
       "         74,  72,  70,  68,  66,  64,  62,  60,  58,  56,  54,  52,  50,\n",
       "         48,  46,  44,  42,  40,  38,  36,  34,  32,  30,  28,  26,  24,\n",
       "         22,  20,  18,  16,  14,  12,  10,   8,   6,   4,   2]])"
      ]
     },
     "execution_count": 15,
     "metadata": {},
     "output_type": "execute_result"
    }
   ],
   "source": [
    "lst_2d = np.vstack((np.arange(1, 100, 2), np.arange(100, 1, -2)))\n",
    "lst_2d"
   ]
  },
  {
   "cell_type": "markdown",
   "metadata": {},
   "source": [
    "##### Accessing individual values\n",
    "\n",
    "1. Using standard list indexing\n",
    "```python\n",
    "# lst_2d[row_index][column_index]\n",
    "lst_2d[1][2]\n",
    "```\n",
    "\n",
    "2. Numpy has more advanced indexing which allows both values to be specified together\n",
    "```python\n",
    "# lst_2d[row_index, column_index]\n",
    "lst_2d[1, 2]\n",
    "```\n",
    "\n",
    "##### Retrieving a row\n",
    "\n",
    "```python\n",
    "# lst_2d[row_index, :]\n",
    "lst_2d[0, :] # return an array of all the elements in the first row\n",
    "lst_2d[1, :] # return an array of all the elements in the second row\n",
    "```\n",
    "\n",
    "##### Retrieving a column\n",
    "\n",
    "```python\n",
    "# lst_2d[:, column_index]\n",
    "lst_2d[:, 5] # return an array of all the elements in the fifth column\n",
    "lst_2d[:, 20] # return an array of all the elements in the twentieth column\n",
    "```"
   ]
  },
  {
   "cell_type": "code",
   "execution_count": 19,
   "metadata": {},
   "outputs": [
    {
     "data": {
      "text/plain": [
       "array([[  1,   5,   9,  13,  17,  21,  25,  29,  33,  37,  41,  45,  49,\n",
       "         53,  57,  61,  65,  69,  73,  77,  81,  85,  89,  93,  97],\n",
       "       [100,  96,  92,  88,  84,  80,  76,  72,  68,  64,  60,  56,  52,\n",
       "         48,  44,  40,  36,  32,  28,  24,  20,  16,  12,   8,   4]])"
      ]
     },
     "execution_count": 19,
     "metadata": {},
     "output_type": "execute_result"
    }
   ],
   "source": [
    "lst_2d[:, ::2]"
   ]
  },
  {
   "cell_type": "markdown",
   "metadata": {},
   "source": [
    "### A few numpy functions \n",
    "\n",
    "#### Note - There are often two ways of using Numpy functions\n",
    "\n",
    "1. np.<< function >>()\n",
    "2. np_list.<< function >>()\n",
    "\n",
    "#### Example\n",
    "\n",
    "1. Using the np function\n",
    "    ```python\n",
    "lst = np.arange(10)\n",
    "m = np.mean(lst)\n",
    "    ```\n",
    "2. Using the array method\n",
    "    ```python\n",
    "lst = np.arange(10)\n",
    "m = lst.mean()\n",
    "    ```\n",
    "    \n",
    "There are some functions which are only available as one of these two options. But when both are available they are generally interchangable."
   ]
  },
  {
   "cell_type": "code",
   "execution_count": 22,
   "metadata": {},
   "outputs": [
    {
     "name": "stdout",
     "output_type": "stream",
     "text": [
      "4.5\n",
      "4.5\n"
     ]
    }
   ],
   "source": [
    "lst = np.arange(10)\n",
    "m = np.mean(lst)\n",
    "print(m)\n",
    "\n",
    "lst = np.arange(10)\n",
    "m = lst.mean()\n",
    "print(m\n",
    "     )"
   ]
  },
  {
   "cell_type": "markdown",
   "metadata": {},
   "source": [
    "#### Min and Max\n",
    "\n",
    "The names are self explanatory, they will output the minimum and maximum values of the array.\n",
    "\n",
    "##### 1D Arrays\n",
    "\n",
    "```python\n",
    "lst = np.array([21, 19, 11, 17, 20])\n",
    "print(lst.min())\n",
    "print(lst.max())\n",
    "```"
   ]
  },
  {
   "cell_type": "code",
   "execution_count": 23,
   "metadata": {},
   "outputs": [
    {
     "name": "stdout",
     "output_type": "stream",
     "text": [
      "11\n",
      "21\n"
     ]
    }
   ],
   "source": [
    "lst = np.array([21, 19, 11, 17, 20])\n",
    "print(lst.min())\n",
    "print(lst.max())"
   ]
  },
  {
   "cell_type": "markdown",
   "metadata": {},
   "source": [
    "##### 2D Arrays\n",
    "\n",
    "1. Getting the min and max for the entire 2D array\n",
    "\n",
    "```python\n",
    "# How I generated the random 2D array\n",
    "# lst = np.random.randint(5, 25, (5, 5))\n",
    "lst = np.array(\n",
    "      [[15, 21,  7, 21, 24],\n",
    "       [13, 19, 21, 23,  7],\n",
    "       [ 8, 17, 13, 21, 14],\n",
    "       [11, 16, 20, 20, 12],\n",
    "       [22,  5,  8, 23,  8]]\n",
    ")\n",
    "\n",
    "min_v = lst.min()\n",
    "max_v = lst.max()\n",
    "\n",
    "print('The min is {}'.format(min_v))\n",
    "print('The max is {}'.format(max_v))\n",
    "```"
   ]
  },
  {
   "cell_type": "code",
   "execution_count": 24,
   "metadata": {},
   "outputs": [
    {
     "name": "stdout",
     "output_type": "stream",
     "text": [
      "The min is 5\n",
      "The max is 24\n"
     ]
    }
   ],
   "source": [
    "\n",
    "# How I generated the random 2D array\n",
    "# lst = np.random.randint(5, 25, (5, 5))\n",
    "lst = np.array(\n",
    "      [[15, 21,  7, 21, 24],\n",
    "       [13, 19, 21, 23,  7],\n",
    "       [ 8, 17, 13, 21, 14],\n",
    "       [11, 16, 20, 20, 12],\n",
    "       [22,  5,  8, 23,  8]]\n",
    ")\n",
    "\n",
    "min_v = lst.min()\n",
    "max_v = lst.max()\n",
    "\n",
    "print('The min is {}'.format(min_v))\n",
    "print('The max is {}'.format(max_v))"
   ]
  },
  {
   "cell_type": "markdown",
   "metadata": {},
   "source": [
    "Getting the min and max for each column\n",
    "\n",
    "```python\n",
    "lst = np.array(\n",
    "      [[15, 21,  7, 21, 24],\n",
    "       [13, 19, 21, 23,  7],\n",
    "       [ 8, 17, 13, 21, 14],\n",
    "       [11, 16, 20, 20, 12],\n",
    "       [22,  5,  8, 23,  8]]\n",
    ")\n",
    "\n",
    "min_v = lst.min(axis=0)\n",
    "max_v = lst.max(axis=0)\n",
    "\n",
    "print('The min for each column is {}'.format(min_v))\n",
    "print('The max for each column is {}'.format(max_v))\n",
    "\n",
    "```"
   ]
  },
  {
   "cell_type": "code",
   "execution_count": 25,
   "metadata": {},
   "outputs": [
    {
     "name": "stdout",
     "output_type": "stream",
     "text": [
      "The min for each column is [ 8  5  7 20  7]\n",
      "The max for each column is [22 21 21 23 24]\n"
     ]
    }
   ],
   "source": [
    "lst = np.array(\n",
    "      [[15, 21,  7, 21, 24],\n",
    "       [13, 19, 21, 23,  7],\n",
    "       [ 8, 17, 13, 21, 14],\n",
    "       [11, 16, 20, 20, 12],\n",
    "       [22,  5,  8, 23,  8]]\n",
    ")\n",
    "\n",
    "min_v = lst.min(axis=0)\n",
    "max_v = lst.max(axis=0)\n",
    "\n",
    "print('The min for each column is {}'.format(min_v))\n",
    "print('The max for each column is {}'.format(max_v))"
   ]
  },
  {
   "cell_type": "markdown",
   "metadata": {},
   "source": [
    "Getting the min and max for each row\n",
    "\n",
    "```python\n",
    "lst = np.array(\n",
    "      [[15, 21,  7, 21, 24],\n",
    "       [13, 19, 21, 23,  7],\n",
    "       [ 8, 17, 13, 21, 14],\n",
    "       [11, 16, 20, 20, 12],\n",
    "       [22,  5,  8, 23,  8]]\n",
    ")\n",
    "\n",
    "min_v = lst.min(axis=1)\n",
    "max_v = lst.max(axis=1)\n",
    "\n",
    "print('The min for each row is {}'.format(min_v))\n",
    "print('The max for each row is {}'.format(max_v))\n",
    "```"
   ]
  },
  {
   "cell_type": "code",
   "execution_count": 26,
   "metadata": {},
   "outputs": [
    {
     "name": "stdout",
     "output_type": "stream",
     "text": [
      "The min for each row is [ 7  7  8 11  5]\n",
      "The max for each row is [24 23 21 20 23]\n"
     ]
    }
   ],
   "source": [
    "lst = np.array(\n",
    "      [[15, 21,  7, 21, 24],\n",
    "       [13, 19, 21, 23,  7],\n",
    "       [ 8, 17, 13, 21, 14],\n",
    "       [11, 16, 20, 20, 12],\n",
    "       [22,  5,  8, 23,  8]]\n",
    ")\n",
    "\n",
    "min_v = lst.min(axis=1)\n",
    "max_v = lst.max(axis=1)\n",
    "\n",
    "print('The min for each row is {}'.format(min_v))\n",
    "print('The max for each row is {}'.format(max_v))"
   ]
  },
  {
   "cell_type": "code",
   "execution_count": null,
   "metadata": {
    "collapsed": true
   },
   "outputs": [],
   "source": []
  },
  {
   "cell_type": "markdown",
   "metadata": {},
   "source": [
    "#### The axis argument\n",
    "```\n",
    "      [[15, 21,  7, 21, 24],  |\n",
    "       [13, 19, 21, 23,  7],  |\n",
    "       [ 8, 17, 13, 21, 14],  | axis = 0\n",
    "       [11, 16, 20, 20, 12],  |\n",
    "       [22,  5,  8, 23,  8]]  V\n",
    "       \n",
    "       ------------------->\n",
    "               axis=1\n",
    "```\n",
    "\n",
    "- axis 0 applies the operation row-wise\n",
    "- axis 1 appries the operation column-wise\n",
    "\n",
    "If the data has a third dimension then axis 2 will apply the function in that dimension and so on..."
   ]
  },
  {
   "cell_type": "markdown",
   "metadata": {},
   "source": [
    "##### Min Max normalization\n",
    "\n",
    "Subtract the minimum value from each element and divide it by the difference between the maximum and the minimum.\n",
    "\n",
    "$$ \\frac{ X - X_{min}}{X_{max} - X_{min}} $$\n",
    "\n",
    "Using numpy it is easy to perform these types of calculations\n",
    "\n",
    "```python\n",
    "lst = np.array([21, 19, 11, 17, 20])\n",
    "lst_norm = (lst - lst.min()) / (lst.max() - lst.min())\n",
    "lst_norm\n",
    "```"
   ]
  },
  {
   "cell_type": "code",
   "execution_count": 27,
   "metadata": {},
   "outputs": [
    {
     "data": {
      "text/plain": [
       "array([1. , 0.8, 0. , 0.6, 0.9])"
      ]
     },
     "execution_count": 27,
     "metadata": {},
     "output_type": "execute_result"
    }
   ],
   "source": [
    "lst = np.array([21, 19, 11, 17, 20])\n",
    "lst_norm = (lst - lst.min()) / (lst.max() - lst.min())\n",
    "lst_norm"
   ]
  },
  {
   "cell_type": "markdown",
   "metadata": {},
   "source": [
    "The same method will also work even if the data is 2 dimensional\n",
    "\n",
    "```python\n",
    "lst = np.array(\n",
    "      [[15, 21,  7, 21, 24],\n",
    "       [13, 19, 21, 23,  7],\n",
    "       [ 8, 17, 13, 21, 14],\n",
    "       [11, 16, 20, 20, 12],\n",
    "       [22,  5,  8, 23,  8]]\n",
    ")\n",
    "lst_norm = (lst - lst.min()) / (lst.max() - lst.min())\n",
    "lst_norm\n",
    "```"
   ]
  },
  {
   "cell_type": "code",
   "execution_count": 28,
   "metadata": {},
   "outputs": [
    {
     "data": {
      "text/plain": [
       "array([[0.52631579, 0.84210526, 0.10526316, 0.84210526, 1.        ],\n",
       "       [0.42105263, 0.73684211, 0.84210526, 0.94736842, 0.10526316],\n",
       "       [0.15789474, 0.63157895, 0.42105263, 0.84210526, 0.47368421],\n",
       "       [0.31578947, 0.57894737, 0.78947368, 0.78947368, 0.36842105],\n",
       "       [0.89473684, 0.        , 0.15789474, 0.94736842, 0.15789474]])"
      ]
     },
     "execution_count": 28,
     "metadata": {},
     "output_type": "execute_result"
    }
   ],
   "source": [
    "lst = np.array(\n",
    "      [[15, 21,  7, 21, 24],\n",
    "       [13, 19, 21, 23,  7],\n",
    "       [ 8, 17, 13, 21, 14],\n",
    "       [11, 16, 20, 20, 12],\n",
    "       [22,  5,  8, 23,  8]]\n",
    ")\n",
    "lst_norm = (lst - lst.min()) / (lst.max() - lst.min())\n",
    "lst_norm"
   ]
  },
  {
   "cell_type": "markdown",
   "metadata": {},
   "source": [
    "#### Some additional functions\n",
    "\n",
    "1. mean([axis = 0, 1, ...])\n",
    "  - This will return the mean (row-wise/column-wise/everything)\n",
    "2. std([axis = 0, 1, ...])\n",
    "  - This will return the standard deviation (row-wise/column-wise/everything)\n",
    "3. sum([axis = 0, 1, ...])\n",
    "  - This will the sum (row-wise/column-wise/everything)\n",
    "4. np.concat((np_array, np_array, ...))\n",
    "  - This will combine numpy arrays into a single array\n",
    "\n",
    "These are just a few of the functions which numpy offers. All of the available functions are listed in their documentation [https://docs.scipy.org/doc/numpy-1.15.1/reference/#]"
   ]
  },
  {
   "cell_type": "markdown",
   "metadata": {},
   "source": [
    "### The basics of Seaborn / Matplotlib\n",
    "\n",
    "Just like Numpy, Seaborn is an external library which needs to be installed.\n",
    "\n",
    "This can be done using the conda command if you are using Anaconda:\n",
    "\n",
    "```shell\n",
    "conda install seaborn\n",
    "```\n",
    "\n",
    "Alternatively this can be done using the built in Python package manager Pip\n",
    "\n",
    "```shell\n",
    "pip install seaborn\n",
    "```\n",
    "\n",
    "Once numpy is installed it then needs to be imported to use its functionality.\n",
    "\n",
    "Seaborn will also install Matplotlib so there is no need to install both of them.\n",
    "\n",
    "```python\n",
    "import seaborn as sns\n",
    "import matplotlib.pyplot as plt\n",
    "\n",
    "# If you are in jupyter then you need to tell matplotlib to display the plots in the notebook\n",
    "%matplotlib inline\n",
    "```\n",
    "\n",
    "Matplotlib: \n",
    "+ library for generating plots in Python. \n",
    "+ It is extremely powerful \n",
    "  + every aspect of a plot can be customized \n",
    "+ Unfortunately many of the plots are not very aesthetically pleasing out of the box\n",
    "  \n",
    "Seaborn:\n",
    "+ Uses Matplotlib in the background\n",
    "+ Allows the same customizability that Matplotlib does\n",
    "+ Has options for setting plot themes\n",
    "  + These generally look better than the default Matplotlib plots"
   ]
  },
  {
   "cell_type": "markdown",
   "metadata": {},
   "source": [
    "### Creating a plot using Matplotlib\n",
    "\n",
    "#### Simple line plot\n",
    "\n",
    "Matplotlib needs to be imported before we can use it.\n",
    "\n",
    "\n",
    "As with many of the commonly used libraries it has a name which it is assigned to:\n",
    "+ plt\n",
    "\n",
    "```python\n",
    "import matplotlib.pyplot as plt\n",
    "%matplotlib inline\n",
    "```\n",
    "\n",
    "Matplotlib will work with both regular lists as well as numpy arrays\n",
    "\n",
    "```python\n",
    "# list of numbers to plot\n",
    "lst = [21, 19, 11, 17, 20]\n",
    "\n",
    "plt.plot(lst)\n",
    "plt.show()\n",
    "```"
   ]
  },
  {
   "cell_type": "code",
   "execution_count": 29,
   "metadata": {
    "collapsed": true
   },
   "outputs": [],
   "source": [
    "import matplotlib.pyplot as plt\n",
    "%matplotlib inline\n",
    "\n"
   ]
  },
  {
   "cell_type": "code",
   "execution_count": 30,
   "metadata": {},
   "outputs": [
    {
     "data": {
      "image/png": "[encoded data removed]",
      "text/plain": [
       "<Figure size 432x288 with 1 Axes>"
      ]
     },
     "metadata": {},
     "output_type": "display_data"
    }
   ],
   "source": [
    "# list of numbers to plot\n",
    "lst = [21, 19, 11, 17, 20]\n",
    "\n",
    "plt.plot(lst)\n",
    "plt.show()"
   ]
  },
  {
   "cell_type": "markdown",
   "metadata": {},
   "source": [
    "#### Adding more lines to the plot\n",
    "\n",
    "```python\n",
    "lst = [21, 19, 11, 17, 20]\n",
    "lst_2 = np.random.randint(5, 25, 5)\n",
    "\n",
    "plt.plot(lst)\n",
    "plt.plot(lst_2)\n",
    "plt.show()\n",
    "```"
   ]
  },
  {
   "cell_type": "code",
   "execution_count": 31,
   "metadata": {},
   "outputs": [
    {
     "data": {
      "image/png": "[encoded data removed]",
      "text/plain": [
       "<Figure size 432x288 with 1 Axes>"
      ]
     },
     "metadata": {},
     "output_type": "display_data"
    }
   ],
   "source": [
    "lst = [21, 19, 11, 17, 20]\n",
    "lst_2 = np.random.randint(5, 25, 5)\n",
    "\n",
    "plt.plot(lst)\n",
    "plt.plot(lst_2)\n",
    "plt.show()"
   ]
  },
  {
   "cell_type": "markdown",
   "metadata": {},
   "source": [
    "#### Setting plot parameters\n",
    "\n",
    "##### Figure size and labels\n",
    "\n",
    "```python\n",
    "lst = [21, 19, 11, 17, 20]\n",
    "lst_2 = np.random.randint(5, 25, 5)\n",
    "\n",
    "# Setting the size of the plot\n",
    "fig = plt.figure(figsize=(7, 7))\n",
    "\n",
    "# Setting the labels\n",
    "plt.title('Plotting Lines')\n",
    "plt.xlabel('X value')\n",
    "plt.ylabel('Y value')\n",
    "\n",
    "plt.plot(lst)\n",
    "plt.plot(lst_2)\n",
    "\n",
    "plt.show()\n",
    "```"
   ]
  },
  {
   "cell_type": "code",
   "execution_count": 33,
   "metadata": {},
   "outputs": [
    {
     "data": {
      "image/png": "[encoded data removed]",
      "text/plain": [
       "<Figure size 504x504 with 1 Axes>"
      ]
     },
     "metadata": {},
     "output_type": "display_data"
    }
   ],
   "source": [
    "lst = [21, 19, 11, 17, 20]\n",
    "lst_2 = np.random.randint(5, 25, 5)\n",
    "\n",
    "# Setting the size of the plot\n",
    "fig = plt.figure(figsize=(7, 7))\n",
    "\n",
    "# Setting the labels\n",
    "plt.title('Plotting Lines')\n",
    "plt.xlabel('X value')\n",
    "plt.ylabel('Y value')\n",
    "\n",
    "plt.plot(lst)\n",
    "plt.plot(lst_2)\n",
    "\n",
    "plt.show()"
   ]
  },
  {
   "cell_type": "markdown",
   "metadata": {},
   "source": [
    "###### Setting the range of the X axis\n",
    "\n",
    "+ An array is used to do this\n",
    "+ It must have the same number of elements as the data does\n",
    "+ the plot() function accepts data in different ways\n",
    "  + plot(y < list >) - will plot the list data, the x values will be 0., 1., ...\n",
    "  + plot(x < list >, y < list >) - will plot the data using the x & y coordinates\n",
    "  + plot(mat < list < list > >) - will plot data using columns to differentiate data\n",
    "\n",
    "\n",
    "```python \n",
    "lst = [21, 19, 11, 17, 20]\n",
    "lst_2 = np.random.randint(5, 25, 5)\n",
    "\n",
    "# Setting the size of the plot\n",
    "fig = plt.figure(figsize=(7, 7))\n",
    "\n",
    "# Setting the labels\n",
    "plt.title('Plotting Lines')\n",
    "plt.xlabel('X value')\n",
    "plt.ylabel('Y value')\n",
    "\n",
    "# Define the x axis values\n",
    "x = np.linspace(0, 100, len(lst))\n",
    "\n",
    "# define a 2d array of x, y pairs\n",
    "x_mat = np.vstack((np.linspace(0, 100, 5), np.linspace(0, 100, 5))).T\n",
    "mat = np.vstack((np.random.randint(5, 25, 5), np.random.randint(5, 25, 5))).T\n",
    "\n",
    "plt.plot(lst)\n",
    "plt.plot(x, lst_2)\n",
    "plt.plot(x_mat, mat)\n",
    "\n",
    "plt.show()\n",
    "```"
   ]
  },
  {
   "cell_type": "code",
   "execution_count": 34,
   "metadata": {},
   "outputs": [
    {
     "data": {
      "image/png": "[encoded data removed]",
      "text/plain": [
       "<Figure size 504x504 with 1 Axes>"
      ]
     },
     "metadata": {},
     "output_type": "display_data"
    }
   ],
   "source": [
    "lst = [21, 19, 11, 17, 20]\n",
    "lst_2 = np.random.randint(5, 25, 5)\n",
    "\n",
    "# Setting the size of the plot\n",
    "fig = plt.figure(figsize=(7, 7))\n",
    "\n",
    "# Setting the labels\n",
    "plt.title('Plotting Lines')\n",
    "plt.xlabel('X value')\n",
    "plt.ylabel('Y value')\n",
    "\n",
    "# Define the x axis values\n",
    "x = np.linspace(0, 100, len(lst))\n",
    "\n",
    "# define a 2d array of x, y pairs\n",
    "x_mat = np.vstack((np.linspace(0, 100, 5), np.linspace(0, 100, 5))).T\n",
    "mat = np.vstack((np.random.randint(5, 25, 5), np.random.randint(5, 25, 5))).T\n",
    "\n",
    "plt.plot(lst)\n",
    "plt.plot(x, lst_2)\n",
    "plt.plot(x_mat, mat)\n",
    "\n",
    "plt.show()"
   ]
  },
  {
   "cell_type": "markdown",
   "metadata": {},
   "source": [
    "#### Customizing the lines\n",
    "\n",
    "```python\n",
    "lst = [21, 19, 11, 17, 20]\n",
    "lst_2 = np.random.randint(5, 25, (5, 3))\n",
    "\n",
    "# Define the x axis values\n",
    "x = np.linspace(0, 100, len(lst))\n",
    "\n",
    "# Setting the size of the plot\n",
    "fig = plt.figure(figsize=(7, 7))\n",
    "\n",
    "# Setting the labels\n",
    "plt.title('Plotting Lines')\n",
    "plt.xlabel('X value')\n",
    "plt.ylabel('Y value')\n",
    "\n",
    "# solid line\n",
    "plt.plot(x, lst, '-')\n",
    "# dashed line\n",
    "plt.plot(x, lst_2[:,0], '--')\n",
    "# dotted line\n",
    "plt.plot(x, lst_2[:,1], ':')\n",
    "# dash dot line\n",
    "plt.plot(x, lst_2[:,2], '-.')\n",
    "\n",
    "plt.show()\n",
    "```"
   ]
  },
  {
   "cell_type": "code",
   "execution_count": 35,
   "metadata": {},
   "outputs": [
    {
     "data": {
      "image/png": "[encoded data removed]",
      "text/plain": [
       "<Figure size 504x504 with 1 Axes>"
      ]
     },
     "metadata": {},
     "output_type": "display_data"
    }
   ],
   "source": [
    "lst = [21, 19, 11, 17, 20]\n",
    "lst_2 = np.random.randint(5, 25, (5, 3))\n",
    "\n",
    "# Define the x axis values\n",
    "x = np.linspace(0, 100, len(lst))\n",
    "\n",
    "# Setting the size of the plot\n",
    "fig = plt.figure(figsize=(7, 7))\n",
    "\n",
    "# Setting the labels\n",
    "plt.title('Plotting Lines')\n",
    "plt.xlabel('X value')\n",
    "plt.ylabel('Y value')\n",
    "\n",
    "# solid line\n",
    "plt.plot(x, lst, '-')\n",
    "# dashed line\n",
    "plt.plot(x, lst_2[:,0], '--')\n",
    "# dotted line\n",
    "plt.plot(x, lst_2[:,1], ':')\n",
    "# dash dot line\n",
    "plt.plot(x, lst_2[:,2], '-.')\n",
    "\n",
    "plt.show()"
   ]
  },
  {
   "cell_type": "markdown",
   "metadata": {},
   "source": [
    "##### Changing the line color\n",
    "\n",
    "```python\n",
    "lst = [21, 19, 11, 17, 20]\n",
    "lst_2 = np.random.randint(5, 25, (5, 3))\n",
    "\n",
    "# Define the x axis values\n",
    "x = np.linspace(0, 100, len(lst))\n",
    "\n",
    "# Setting the size of the plot\n",
    "fig = plt.figure(figsize=(7, 7))\n",
    "\n",
    "# Setting the labels\n",
    "plt.title('Plotting Lines')\n",
    "plt.xlabel('X value')\n",
    "plt.ylabel('Y value')\n",
    "\n",
    "# solid line\n",
    "plt.plot(x, lst, '-', c='r')\n",
    "# dashed line\n",
    "plt.plot(x, lst_2[:,0], '--', c='r')\n",
    "# dotted line\n",
    "plt.plot(x, lst_2[:,1], '-', c='b')\n",
    "# dash dot line\n",
    "plt.plot(x, lst_2[:,2], '--', c='b')\n",
    "\n",
    "plt.show()\n",
    "```"
   ]
  },
  {
   "cell_type": "code",
   "execution_count": 36,
   "metadata": {},
   "outputs": [
    {
     "data": {
      "image/png": "[encoded data removed]",
      "text/plain": [
       "<Figure size 504x504 with 1 Axes>"
      ]
     },
     "metadata": {},
     "output_type": "display_data"
    }
   ],
   "source": [
    "lst = [21, 19, 11, 17, 20]\n",
    "lst_2 = np.random.randint(5, 25, (5, 3))\n",
    "\n",
    "# Define the x axis values\n",
    "x = np.linspace(0, 100, len(lst))\n",
    "\n",
    "# Setting the size of the plot\n",
    "fig = plt.figure(figsize=(7, 7))\n",
    "\n",
    "# Setting the labels\n",
    "plt.title('Plotting Lines')\n",
    "plt.xlabel('X value')\n",
    "plt.ylabel('Y value')\n",
    "\n",
    "# solid line\n",
    "plt.plot(x, lst, '-', c='r')\n",
    "# dashed line\n",
    "plt.plot(x, lst_2[:,0], '--', c='r')\n",
    "# dotted line\n",
    "plt.plot(x, lst_2[:,1], '-', c='b')\n",
    "# dash dot line\n",
    "plt.plot(x, lst_2[:,2], '--', c='b')\n",
    "\n",
    "plt.show()"
   ]
  },
  {
   "cell_type": "markdown",
   "metadata": {},
   "source": [
    "##### Limiting the axis\n",
    "\n",
    "```python\n",
    "lst = [21, 19, 11, 17, 20]\n",
    "lst_2 = np.random.randint(5, 25, (5, 3))\n",
    "\n",
    "# Define the x axis values\n",
    "x = np.linspace(0, 100, len(lst))\n",
    "\n",
    "# Setting the size of the plot\n",
    "fig = plt.figure(figsize=(7, 7))\n",
    "\n",
    "# Setting the labels\n",
    "plt.title('Plotting Lines')\n",
    "plt.xlabel('X value')\n",
    "plt.ylabel('Y value')\n",
    "\n",
    "# solid line\n",
    "plt.plot(x, lst, '-', c='r')\n",
    "# dashed line\n",
    "plt.plot(x, lst_2[:,0], '--', c='r')\n",
    "# dotted line\n",
    "plt.plot(x, lst_2[:,1], '-', c='b')\n",
    "# dash dot line\n",
    "plt.plot(x, lst_2[:,2], '--', c='b')\n",
    "\n",
    "# Set a limit on the x axis\n",
    "plt.xlim((50, 100))\n",
    "\n",
    "# You could do the same for the y axis\n",
    "\n",
    "plt.show()\n",
    "```"
   ]
  },
  {
   "cell_type": "code",
   "execution_count": 37,
   "metadata": {},
   "outputs": [
    {
     "data": {
      "image/png": "[encoded data removed]",
      "text/plain": [
       "<Figure size 504x504 with 1 Axes>"
      ]
     },
     "metadata": {},
     "output_type": "display_data"
    }
   ],
   "source": [
    "# Define the x axis values\n",
    "x = np.linspace(0, 100, len(lst))\n",
    "\n",
    "# Setting the size of the plot\n",
    "fig = plt.figure(figsize=(7, 7))\n",
    "\n",
    "# Setting the labels\n",
    "plt.title('Plotting Lines')\n",
    "plt.xlabel('X value')\n",
    "plt.ylabel('Y value')\n",
    "\n",
    "# solid line\n",
    "plt.plot(x, lst, '-', c='r')\n",
    "# dashed line\n",
    "plt.plot(x, lst_2[:,0], '--', c='r')\n",
    "# dotted line\n",
    "plt.plot(x, lst_2[:,1], '-', c='b')\n",
    "# dash dot line\n",
    "plt.plot(x, lst_2[:,2], '--', c='b')\n",
    "\n",
    "# Set a limit on the x axis\n",
    "plt.xlim((50, 100))\n",
    "\n",
    "# You could do the same for the y axis\n",
    "\n",
    "plt.show()"
   ]
  },
  {
   "cell_type": "markdown",
   "metadata": {},
   "source": [
    "##### Figure Legends\n",
    "\n",
    "```python\n",
    "#### lst = [21, 19, 11, 17, 20]\n",
    "lst_2 = np.random.randint(5, 25, (5, 3))\n",
    "\n",
    "# Define the x axis values\n",
    "x = np.linspace(0, 100, len(lst))\n",
    "\n",
    "# Setting the size of the plot\n",
    "fig = plt.figure(figsize=(7, 7))\n",
    "\n",
    "# Setting the labels\n",
    "plt.title('Plotting Lines')\n",
    "plt.xlabel('X value')\n",
    "plt.ylabel('Y value')\n",
    "\n",
    "# solid line\n",
    "plt.plot(x, lst, '-', c='r', label='red solid')\n",
    "# dashed line\n",
    "plt.plot(x, lst_2[:,0], '--', c='r', label='red dash')\n",
    "# dotted line\n",
    "plt.plot(x, lst_2[:,1], '-', c='b', label='blue solid')\n",
    "# dash dot line\n",
    "plt.plot(x, lst_2[:,2], '--', c='b', label='blue dash')\n",
    "\n",
    "# Set a limit on the x axis\n",
    "plt.xlim((50, 100))\n",
    "\n",
    "# You could do the same for the y axis\n",
    "\n",
    "#Add the legend\n",
    "plt.legend()\n",
    "\n",
    "plt.show()\n",
    "```"
   ]
  },
  {
   "cell_type": "code",
   "execution_count": 39,
   "metadata": {},
   "outputs": [
    {
     "data": {
      "image/png": "[encoded data removed]",
      "text/plain": [
       "<Figure size 504x504 with 1 Axes>"
      ]
     },
     "metadata": {},
     "output_type": "display_data"
    }
   ],
   "source": [
    "# Setting the size of the plot\n",
    "fig = plt.figure(figsize=(7, 7))\n",
    "\n",
    "# Setting the labels\n",
    "plt.title('Plotting Lines')\n",
    "plt.xlabel('X value')\n",
    "plt.ylabel('Y value')\n",
    "\n",
    "# solid line\n",
    "plt.plot(x, lst, '-', c='r', label='red solid')\n",
    "# dashed line\n",
    "plt.plot(x, lst_2[:,0], '--', c='r', label='red dash')\n",
    "# dotted line\n",
    "plt.plot(x, lst_2[:,1], '-', c='b', label='blue solid')\n",
    "# dash dot line\n",
    "plt.plot(x, lst_2[:,2], '--', c='b', label='blue dash')\n",
    "\n",
    "# Set a limit on the x axis\n",
    "# plt.xlim((50, 100))\n",
    "\n",
    "# You could do the same for the y axis\n",
    "\n",
    "#Add the legend\n",
    "plt.legend()\n",
    "\n",
    "plt.show()"
   ]
  },
  {
   "cell_type": "markdown",
   "metadata": {},
   "source": [
    "#### Histograms\n",
    "\n",
    "We can start by generating some random numbers\n",
    "\n",
    "```python\n",
    "mu, sigma = 0, 0.5 # mean, standard deviation\n",
    "\n",
    "lst = np.random.normal(mu, sigma, 1000)\n",
    "```"
   ]
  },
  {
   "cell_type": "code",
   "execution_count": 40,
   "metadata": {},
   "outputs": [
    {
     "data": {
      "text/plain": [
       "array([ 5.14875993e-01,  2.93152966e-02, -1.38973254e-01,  3.56708342e-01,\n",
       "        5.61474339e-01,  6.33289998e-01, -4.53568772e-01,  2.44768416e-04,\n",
       "        2.17796530e-01, -8.93516208e-01, -4.14758471e-01,  2.57648360e-01,\n",
       "        6.03514778e-01,  1.44775500e-01,  4.56613220e-01,  8.23912550e-01,\n",
       "        5.92635699e-02, -2.28407355e-01,  1.33068013e-01,  8.06869447e-01,\n",
       "       -5.89946579e-01, -2.28231971e-01,  4.75526423e-01,  4.55049385e-01,\n",
       "       -5.31507177e-02,  5.92216112e-02,  4.46310320e-01,  3.11377162e-01,\n",
       "       -3.65889397e-01,  9.91013419e-02, -7.84100690e-03, -4.10643649e-01,\n",
       "        1.70597179e-01,  2.22807865e-01,  2.14377590e-01, -3.74626139e-01,\n",
       "       -1.60209571e-02,  5.52513577e-02,  3.61918937e-01, -4.51472945e-01,\n",
       "        1.04528778e+00, -8.49614323e-02, -5.32221092e-01,  4.74545897e-01,\n",
       "       -3.35012439e-01,  5.69731942e-01,  6.74672365e-02,  6.52687297e-01,\n",
       "       -5.84048968e-01,  7.97474894e-01, -9.24190670e-01,  3.38077907e-02,\n",
       "        7.27505684e-01,  1.01116362e+00,  5.31955546e-02,  2.90646344e-02,\n",
       "       -2.99109807e-01,  2.06302211e-02,  7.15570352e-01, -5.24833253e-01,\n",
       "        8.73604479e-01,  6.49732290e-01,  5.80285993e-01, -3.20580013e-01,\n",
       "       -9.24710995e-02,  1.78201922e-02, -8.25810021e-01, -9.83386250e-01,\n",
       "       -5.06413554e-01, -3.22036854e-01,  2.33026097e-02,  2.44467229e-01,\n",
       "        2.07637979e-01, -4.70806867e-02,  5.57967525e-01,  2.86883668e-01,\n",
       "       -1.39518068e-01, -7.76325310e-01,  9.40868464e-01, -3.60841730e-01,\n",
       "        6.87867576e-01, -6.44545110e-01,  2.30453154e-01,  2.30104977e-01,\n",
       "       -2.92476354e-01, -2.32720891e-01, -1.06656897e-01,  2.83896737e-01,\n",
       "       -2.73116306e-01,  2.45749150e-01, -4.57315807e-02,  8.88057672e-02,\n",
       "        9.29311107e-02,  1.94158460e-01, -1.33657080e-01, -1.34038748e-01,\n",
       "        1.08370496e-01, -5.71056091e-01,  4.86168594e-01, -1.30078654e+00,\n",
       "        8.36990049e-03, -3.44759943e-01, -3.30528377e-01, -3.48840303e-02,\n",
       "        4.35103176e-01, -5.54586037e-01, -5.42883216e-01, -6.77094054e-01,\n",
       "        3.52916939e-01, -4.65168679e-01, -8.21257727e-01,  6.15602744e-03,\n",
       "        2.71635879e-01,  1.65419467e-01, -2.08875649e-01,  2.06128844e-01,\n",
       "       -3.25826591e-01, -7.43167806e-02,  7.85943465e-02,  7.85890575e-01,\n",
       "        2.19169025e-01, -2.27644853e-01,  4.96425983e-02, -2.28305870e-01,\n",
       "       -4.38524143e-01,  9.20070342e-01,  2.99664585e-01,  6.00230387e-02,\n",
       "        1.82391823e-01, -2.32186118e-01,  1.96803901e-01,  2.08468705e-01,\n",
       "       -1.77808292e-01, -5.50265525e-01, -8.85051011e-02,  2.04445498e-01,\n",
       "       -5.65361641e-01, -1.83023793e-01,  3.72547668e-01,  2.85051232e-01,\n",
       "        4.70726330e-01,  1.01473454e+00, -1.51994761e+00,  3.02198106e-01,\n",
       "       -8.90424954e-01, -2.21788398e-01,  5.64743548e-01,  6.66269821e-01,\n",
       "       -7.66798946e-01, -1.53783156e-01, -1.64250387e-01,  8.05104135e-01,\n",
       "        2.00802698e-01, -1.85405220e-02,  5.58114764e-01,  5.53870828e-01,\n",
       "        3.93611873e-01, -1.00692727e+00,  4.27209099e-01,  3.69400841e-01,\n",
       "       -2.79727356e-01, -2.65190084e-02, -2.20279343e-01, -5.44404238e-01,\n",
       "        1.66278575e-01, -4.16694587e-01,  3.30677592e-01, -6.18063509e-01,\n",
       "        9.11255050e-01, -6.22021656e-03, -1.67297473e-02,  7.91177580e-01,\n",
       "        1.83797155e-01, -5.55738242e-01, -1.42333769e-01,  7.35135275e-03,\n",
       "       -6.89927471e-01,  2.37067482e-02,  3.29225937e-02, -6.86713817e-01,\n",
       "       -8.75853755e-01, -1.00815450e+00,  4.65210251e-01, -1.14994429e-01,\n",
       "        7.20269036e-01,  3.14894605e-01,  1.14102660e+00, -2.86781298e-01,\n",
       "        3.29986483e-01, -2.26428392e-01,  1.82435627e-01, -3.03372546e-01,\n",
       "       -4.39276652e-02,  3.06964420e-02, -7.85104952e-01,  6.63695658e-01,\n",
       "        8.94105103e-01,  2.36529032e-01,  4.72768365e-01, -6.26093186e-01,\n",
       "        5.28842462e-01, -4.65213895e-01, -1.32593665e-01,  1.02625735e+00,\n",
       "       -7.68749458e-02, -6.96227099e-01, -2.86642373e-01, -4.55149108e-02,\n",
       "       -4.67690417e-01, -8.34524232e-01, -1.65020014e-02,  4.98193962e-01,\n",
       "       -1.12349292e-01, -4.14425538e-01, -4.73766538e-02,  2.04777797e-01,\n",
       "        4.23514141e-01,  4.59297817e-01, -5.29792218e-01,  2.49253767e-01,\n",
       "        4.78375421e-01, -2.91867658e-01,  4.84610602e-01, -3.61743964e-01,\n",
       "        7.93328738e-01, -2.71836236e-01, -2.05921647e-02,  1.44101540e+00,\n",
       "        8.33922005e-01,  4.53440992e-01,  2.76975312e-01, -4.26339938e-01,\n",
       "       -2.89368528e-01,  3.40120595e-01, -8.06970832e-01,  1.17463763e-01,\n",
       "        6.49583455e-01, -9.54638397e-01, -6.04034010e-02,  1.73575342e-02,\n",
       "       -1.63939402e-01,  5.77074057e-01, -1.77879449e-01, -2.54502695e-01,\n",
       "        1.71202935e-01, -5.53717993e-02, -1.09763755e-02, -8.52828054e-01,\n",
       "       -5.07441640e-01,  1.60896928e-02, -2.27802791e-01,  1.11671295e-01,\n",
       "       -4.15644678e-01, -3.38674373e-01, -3.16375134e-01,  6.20166411e-01,\n",
       "       -2.39464361e-01, -4.96457658e-01,  1.52280445e+00,  2.00682631e-01,\n",
       "       -6.42981487e-01, -1.40851516e-01, -1.03388700e+00, -3.80587377e-01,\n",
       "        7.71183253e-01, -3.82754934e-01,  5.42922364e-02, -8.69818976e-01,\n",
       "       -1.28225522e+00, -3.88222002e-01,  2.35175349e-01, -1.12139272e-01,\n",
       "       -5.31918210e-01, -5.68368610e-01,  1.30314548e-02, -1.94899466e-01,\n",
       "       -1.85719173e-01,  4.33001840e-01,  2.10302268e-01,  2.14411546e-01,\n",
       "        1.11595598e-01,  6.90476263e-01,  5.94722425e-01, -1.90201756e-02,\n",
       "       -6.34845180e-02, -1.06546397e-01,  6.19540721e-01,  2.30878978e-01,\n",
       "        2.88199691e-01, -4.25667233e-01, -2.43992899e-01, -2.61093437e-01,\n",
       "       -2.69149859e-01, -2.73778394e-01,  1.83129925e-01,  3.60507056e-01,\n",
       "       -5.54065313e-02,  2.77458946e-01,  2.41640360e-01,  4.10211549e-02,\n",
       "        3.66825468e-02,  3.65174378e-01,  5.27364368e-01,  9.67519653e-01,\n",
       "       -6.63906313e-01,  7.18869945e-01,  2.87439066e-01,  2.14552447e-01,\n",
       "       -3.52037818e-01,  6.41856930e-01, -4.13146544e-02, -3.94173866e-02,\n",
       "       -6.56911995e-02,  8.85999841e-01,  4.07891451e-01, -7.56042192e-01,\n",
       "       -1.19082429e-01,  5.27084872e-01,  1.69343025e-01,  7.80242951e-01,\n",
       "        2.18253340e-01, -1.34201341e-01,  6.59747128e-02, -2.74629499e-01,\n",
       "        1.97869191e-01,  6.58473000e-01, -4.41144233e-01, -9.38941321e-02,\n",
       "       -9.89606209e-02,  6.57227064e-01,  1.00295189e+00,  6.09399466e-01,\n",
       "        7.45353178e-02, -4.74523176e-01,  1.10458498e-01,  1.11674143e-01,\n",
       "       -7.83119985e-01, -2.88204655e-01,  8.04147951e-01, -2.86788545e-01,\n",
       "       -1.95868171e-01,  2.24689761e-01, -1.59995459e-02, -1.05709698e-01,\n",
       "        5.05895671e-01,  5.15308608e-01,  1.77339779e-01, -2.08434783e-01,\n",
       "        3.80840063e-01,  9.76699786e-02,  3.51161594e-02,  3.21112325e-01,\n",
       "       -3.62887370e-01, -1.43842092e-01, -7.14794198e-02, -7.31601821e-02,\n",
       "       -3.96093731e-01, -2.12246790e-01, -3.99478327e-01, -4.42129397e-02,\n",
       "       -6.72296575e-01,  3.47351794e-01, -3.67660892e-02,  7.15504977e-01,\n",
       "       -6.78889874e-01,  2.13128546e-01, -7.13716881e-02, -8.25282578e-01,\n",
       "        9.57968253e-02, -7.09295478e-02, -4.22129981e-01, -1.02502431e-01,\n",
       "       -2.33554623e-01, -9.72607868e-01, -2.60142915e-01,  3.93114321e-02,\n",
       "       -4.42097001e-01,  4.53729256e-01, -6.30149950e-02, -1.09247959e+00,\n",
       "       -1.82675853e-01, -8.63188158e-01, -1.09051248e-01, -5.82142862e-02,\n",
       "        6.05582614e-01,  6.50436013e-01,  3.04176265e-01, -6.32446591e-02,\n",
       "       -6.93364090e-02, -2.60939322e-02,  7.38311926e-01, -3.80883661e-01,\n",
       "       -6.71256265e-01, -1.50976733e-01,  1.55465426e-01,  7.65687184e-01,\n",
       "       -9.67055596e-02, -3.39389904e-01,  1.00926184e+00, -5.36845918e-01,\n",
       "        5.67248448e-01,  8.22047081e-01, -2.06034721e-01, -2.81799510e-01,\n",
       "       -1.04413980e+00,  8.14663970e-01,  2.11017022e-01, -3.44149087e-01,\n",
       "        1.34084239e-01, -1.07776583e-01, -6.84454816e-01, -8.52678800e-02,\n",
       "       -1.06400054e-01, -8.40253509e-01,  4.60962426e-01,  5.37613064e-01,\n",
       "        2.07735123e-01, -4.16645710e-01,  2.16520588e-02, -4.19991607e-01,\n",
       "       -5.98125050e-01, -3.97815510e-01, -2.85178126e-01,  6.83134347e-01,\n",
       "        1.83118711e-01,  9.41826407e-01,  5.19288925e-01,  1.12417838e+00,\n",
       "       -6.30052064e-01, -2.56222991e-01,  9.53785842e-02, -5.86428518e-01,\n",
       "        1.46944977e-01,  4.34206441e-01, -1.88987798e-01, -3.20832794e-01,\n",
       "       -8.55432678e-01, -3.32171609e-01, -5.85131323e-01, -4.27143677e-01,\n",
       "        1.78787705e-01, -8.98692434e-01, -1.04754887e-01,  7.45677100e-01,\n",
       "       -1.13333252e-02,  1.61130571e-01,  3.45120143e-01,  1.81604934e-01,\n",
       "        4.28200731e-01,  9.82721885e-01,  1.04595452e+00, -2.70915141e-01,\n",
       "       -1.27478603e+00, -7.97212972e-01,  5.09541162e-01, -2.03065512e-01,\n",
       "       -3.91732556e-01,  2.40155808e-01,  3.37255544e-01,  8.24534692e-02,\n",
       "        9.06739399e-01,  8.65763509e-01,  3.88705532e-01, -3.26246578e-01,\n",
       "        5.71756683e-01,  1.07916379e+00, -3.47411869e-01, -1.55784284e-01,\n",
       "        1.21364647e+00,  8.35564251e-01, -1.26737456e-01,  3.90230291e-01,\n",
       "       -1.45100917e-01,  2.66406323e-01, -2.14917714e-01, -3.72439853e-01,\n",
       "       -2.83754343e-01, -4.17267507e-01,  1.39204324e-01, -2.10350546e-01,\n",
       "       -3.24144265e-01,  1.89887719e-01,  4.72114286e-01,  3.78733032e-01,\n",
       "        2.13771206e-01,  1.15686614e+00,  8.37274349e-01,  3.54528666e-01,\n",
       "        4.32081307e-01, -3.35142750e-01,  8.30231179e-02, -1.83791457e-01,\n",
       "       -1.06892319e+00, -4.43410069e-01,  2.18148148e-01, -2.00531613e-01,\n",
       "       -1.17683215e-01,  1.01235746e+00, -1.12128974e+00,  6.10200554e-01,\n",
       "       -1.04999414e+00, -3.90698638e-01,  6.13355888e-02,  2.72083855e-01,\n",
       "        1.90208902e-01, -4.53708951e-01, -1.03258202e-01,  3.27869407e-01,\n",
       "       -5.15872717e-02,  2.63526541e-01, -7.51019648e-03, -4.03335529e-01,\n",
       "       -2.71312992e-01, -8.86933218e-02, -3.76744089e-02, -2.82637408e-01,\n",
       "       -2.03021701e-01,  3.73721152e-01, -4.68069934e-01,  1.67967242e-01,\n",
       "        5.45657407e-01,  3.98335123e-01, -2.25683035e-01, -1.55764073e-01,\n",
       "       -5.07598881e-03,  2.10804720e-01,  1.51403322e-01, -3.37212602e-03,\n",
       "        3.76822373e-02, -3.57523413e-01,  8.26642312e-02, -3.66242158e-01,\n",
       "       -6.13176722e-01,  7.03419784e-01,  9.13222989e-01,  4.62357520e-01,\n",
       "       -4.58159293e-01,  1.10182252e+00,  4.04627176e-01, -4.42991744e-01,\n",
       "        1.55804942e+00,  3.29589381e-01,  2.03046199e-01, -8.59701049e-02,\n",
       "        6.77482229e-01,  4.15898044e-01,  1.47706037e-01, -5.24863098e-01,\n",
       "       -9.10806709e-01,  4.67945687e-02, -6.48666078e-01, -1.34880231e-01,\n",
       "       -5.76837662e-01,  3.71112956e-02, -2.78711954e-01, -4.73212749e-02,\n",
       "        9.77509489e-01,  1.15179747e-01, -2.22062898e-01, -2.26913258e-01,\n",
       "        4.15452487e-01, -4.00184444e-01, -4.92015025e-01, -2.62407153e-01,\n",
       "        2.88457257e-01, -1.73855078e-01, -1.56054274e-01, -9.41442125e-01,\n",
       "        5.79615095e-01,  3.45772033e-01,  3.06472413e-01,  7.37001910e-01,\n",
       "       -8.75541912e-02, -4.67402976e-01, -1.19052382e-01, -8.54955203e-01,\n",
       "        5.86170488e-01,  1.14611856e-01, -9.42095688e-01, -5.45906411e-01,\n",
       "       -5.18589960e-01,  7.45743817e-02, -8.99960221e-02, -3.89910260e-01,\n",
       "       -3.00130781e-02, -4.73535079e-01, -1.31713833e-01,  2.57259025e-01,\n",
       "       -3.68033151e-01, -6.77337933e-01,  5.42293704e-01, -8.17505534e-01,\n",
       "       -7.01409692e-01,  8.20488282e-02, -7.88059014e-01,  1.67281482e-01,\n",
       "       -2.86054574e-01,  1.11815378e-01,  2.94744942e-01,  9.15578244e-01,\n",
       "        1.58624154e-01, -6.09331929e-01,  1.59283722e-02, -1.04094009e-02,\n",
       "       -2.23082201e-01, -3.91882468e-01, -4.51948107e-01, -4.56400954e-01,\n",
       "        6.45136825e-01,  8.16066180e-03,  7.52021610e-02, -1.98533797e-02,\n",
       "        1.75126165e-01, -3.60700272e-01,  4.31061160e-01,  2.82780725e-01,\n",
       "       -3.72720656e-01, -7.28344786e-02, -1.28557248e+00, -8.11614820e-01,\n",
       "       -2.72947803e-01, -5.61129521e-01,  1.29620575e+00, -1.13327753e-01,\n",
       "        4.92206537e-02, -2.79794265e-01, -4.26941153e-01,  1.95327619e-01,\n",
       "       -1.49766387e+00, -8.28968958e-02,  3.14512739e-01, -8.49043709e-01,\n",
       "        5.91340373e-01,  6.94815252e-01,  1.88504133e-01, -6.34956217e-01,\n",
       "       -1.27203874e+00, -4.03232469e-01, -2.08569633e-01, -1.33419297e-01,\n",
       "        1.12946446e+00, -2.66408726e-01, -6.46230869e-01, -5.89370614e-01,\n",
       "       -2.75835169e-02, -1.03068641e-01, -6.37709390e-02,  5.47988367e-01,\n",
       "       -6.62774988e-01,  3.42050866e-01,  6.05259427e-01, -1.20500424e-01,\n",
       "       -7.88296879e-01,  8.35983757e-01,  6.92483839e-01, -3.27492544e-01,\n",
       "       -4.50044363e-01,  1.03032862e-01, -1.02731296e-01,  1.16548563e-01,\n",
       "        3.97050539e-01, -6.69158586e-01,  4.31650464e-01, -6.84207898e-01,\n",
       "       -8.79342429e-01,  3.17494543e-01,  5.20775589e-02,  3.06785150e-01,\n",
       "       -8.25465070e-02, -1.36504826e-01, -3.13174671e-01, -1.38338677e-01,\n",
       "        4.58757989e-01, -6.62831265e-01,  6.31226747e-01,  2.64933561e-01,\n",
       "       -1.94327108e-01,  4.24977668e-01, -6.41557426e-01,  1.62907165e-01,\n",
       "        3.08544676e-02, -2.58033474e-01, -2.55888841e-01, -9.46878881e-01,\n",
       "       -4.17875638e-01, -8.53573347e-02,  1.21363746e-02, -5.10315660e-02,\n",
       "        3.53289803e-01,  9.12496227e-01,  6.68739786e-01,  4.12156644e-01,\n",
       "       -1.15093176e+00, -3.96473320e-01,  7.21149324e-01,  7.73527633e-01,\n",
       "       -4.42279764e-01, -4.99603957e-01, -1.31378492e-01,  8.03361120e-02,\n",
       "        3.76479891e-01,  7.13978504e-01,  1.08411988e-01, -1.17674553e+00,\n",
       "       -4.62734827e-02,  1.12433616e-01,  3.40508974e-01, -8.72490672e-01,\n",
       "       -2.11428215e-01,  9.92568354e-01,  4.46778167e-02, -1.70699695e-01,\n",
       "        2.46578504e-02, -3.98857871e-01, -9.85856612e-01, -3.26692945e-01,\n",
       "        2.00095358e-01, -4.29653880e-01, -4.18425701e-01, -1.20216684e+00,\n",
       "       -1.04021804e+00, -1.95680359e-01,  4.33732126e-01, -2.73405636e-01,\n",
       "        8.68509211e-03, -4.52771204e-02,  3.17733418e-02, -1.73310562e-01,\n",
       "        7.60390790e-01,  8.43240534e-01,  1.60775782e-01,  5.70214273e-01,\n",
       "        9.82556512e-02, -5.34041877e-01, -3.40147342e-01,  6.17329435e-01,\n",
       "        6.10353216e-02, -1.11126112e-01,  8.85690718e-02,  2.40665205e-01,\n",
       "        7.77787061e-01, -3.32813070e-01,  6.23600276e-01, -2.23594726e-01,\n",
       "        4.10628791e-02, -1.26422606e-01,  4.15257585e-01,  3.01194626e-01,\n",
       "        7.12603749e-03, -3.28295976e-01,  3.95582619e-01,  4.55770800e-01,\n",
       "       -1.43565002e-01,  3.14902247e-01,  5.18131019e-01,  2.72346186e-01,\n",
       "       -2.47076362e-01, -1.75974870e-01, -7.39642505e-02,  4.29673277e-01,\n",
       "       -8.13317259e-01,  1.23987462e-01,  4.34300045e-01, -8.28170366e-01,\n",
       "        2.12701871e-01,  4.65353142e-01,  5.97126717e-01,  2.02981349e-01,\n",
       "        6.60389854e-01,  1.06574860e+00,  8.05812735e-01, -8.35780937e-01,\n",
       "       -3.87507357e-02, -4.39324997e-01, -4.81083577e-01,  1.90434045e-02,\n",
       "       -4.41084862e-04, -1.89379423e-01,  5.93815215e-01,  4.01559511e-01,\n",
       "       -7.07338329e-01,  7.98216228e-03,  4.82771807e-01,  1.73438393e-01,\n",
       "        1.05713786e+00,  3.06530714e-01, -6.08870889e-01,  2.92044041e-01,\n",
       "       -4.57198478e-01,  1.09535746e-01, -4.80221392e-01, -5.53355278e-01,\n",
       "       -1.57237860e-01, -5.39454698e-02, -3.57915199e-01, -8.44824146e-01,\n",
       "        1.32685319e-01,  3.28690282e-01,  4.30477497e-01,  2.52525184e-01,\n",
       "        1.52147091e-02,  2.70606757e-01,  1.86233418e-01, -6.15669390e-01,\n",
       "        5.54231043e-03,  7.20546834e-02,  3.06554360e-01,  1.05103747e-01,\n",
       "        7.13659651e-01, -5.57853729e-01,  4.74361750e-01, -2.78861013e-01,\n",
       "       -4.59746221e-02,  3.63562023e-02,  1.56510239e-01, -2.82529695e-01,\n",
       "        2.54651090e-01,  2.53640050e-01,  1.42053256e-02, -8.16076170e-01,\n",
       "        5.81466940e-01, -3.32299892e-01,  7.12624419e-01,  3.29984352e-01,\n",
       "       -2.86580036e-02, -8.30363340e-01,  1.51294954e-01, -1.31958791e-01,\n",
       "       -5.37213169e-01, -5.29650068e-01, -1.12888432e+00, -7.23378025e-01,\n",
       "       -1.46135478e-01, -4.49309275e-01,  4.35271349e-01, -4.73977115e-01,\n",
       "        9.95229433e-01,  1.46566058e-01, -3.77004223e-01, -7.26972288e-02,\n",
       "       -6.02817394e-01,  5.08743265e-01,  1.24277036e-01, -2.60753072e-01,\n",
       "       -4.70994573e-02, -1.11777479e+00,  8.60173248e-02, -4.71709303e-01,\n",
       "        1.04423496e-01, -7.81054761e-01, -2.12145563e-01,  4.62690113e-01,\n",
       "        1.92650205e-01, -8.05824915e-01,  2.98996603e-02, -5.66978378e-01,\n",
       "       -3.63777457e-01,  3.40402410e-01, -3.64957391e-01,  9.87683327e-02,\n",
       "        4.49393290e-01, -6.36335425e-01,  1.01023387e+00, -8.05250634e-01,\n",
       "       -1.14546925e-01, -5.58662921e-02, -3.62083571e-01,  5.84127541e-01,\n",
       "        2.84285806e-01, -1.69996160e-01,  1.30497334e-01,  8.40300099e-01,\n",
       "        1.08142186e-01, -4.36966959e-01, -5.15548524e-01, -2.11075463e-02,\n",
       "        5.63680470e-02,  3.16152959e-01, -1.23866354e-02, -1.75971680e-01,\n",
       "       -4.31585774e-01, -3.24527037e-01, -2.72881955e-01,  2.11640379e-01,\n",
       "       -9.33652470e-01,  1.10438784e-01,  2.70523846e-02, -2.38511880e-02,\n",
       "       -3.74327040e-01,  2.39120882e-01, -1.00612770e+00,  4.78470364e-01,\n",
       "       -8.46847908e-01, -6.75540014e-01, -8.75488103e-01, -5.16725694e-01,\n",
       "        5.11567928e-02, -3.79572513e-02, -3.14265599e-01,  8.66762947e-02,\n",
       "        1.96208668e-01, -1.18633912e-01, -4.62092416e-01, -8.01238715e-01,\n",
       "       -2.14193246e-01,  2.78081949e-01, -2.16886055e-01, -1.02687514e+00,\n",
       "       -3.05832030e-01,  4.61012942e-01,  5.49184370e-01, -1.46452964e-01,\n",
       "        3.35782540e-01, -8.41526423e-01,  6.60125248e-01, -2.33757732e-01,\n",
       "        4.78709160e-01, -4.82997666e-01, -4.53306111e-01, -2.71646775e-01,\n",
       "       -3.20926978e-01, -1.66022452e-01,  1.20454115e-01, -6.41025249e-01,\n",
       "       -2.90270896e-01, -6.09577815e-01, -2.61348101e-01, -6.25413318e-01,\n",
       "       -7.69583550e-01,  3.59356565e-01, -2.52779628e-01,  7.54115768e-03,\n",
       "        4.10139096e-01,  4.54140500e-01, -6.22852237e-01, -9.69259416e-01,\n",
       "        2.18695871e-01, -2.16294024e-02,  1.85792959e-01,  9.85875231e-01,\n",
       "       -1.73389723e-01,  7.63019154e-02, -3.38052620e-01,  1.07352834e-01,\n",
       "        5.18399844e-01,  3.55767766e-01,  5.16570039e-01, -2.12898005e-01,\n",
       "       -9.59927111e-01,  4.35487056e-01,  8.96289622e-02, -6.13075683e-01,\n",
       "       -2.29868149e-01, -1.42080113e-02,  4.40108159e-02,  4.76643881e-01,\n",
       "        9.01061525e-01, -1.76853438e-01,  2.61475720e-01, -5.72760392e-02,\n",
       "        4.23789756e-01,  4.78514561e-01, -6.61208226e-01,  4.24141295e-01,\n",
       "        4.61382274e-01,  4.19521207e-01, -7.17368680e-01,  8.35383148e-01,\n",
       "        5.94123322e-02, -2.03573727e-01,  1.57744032e-01, -3.22344684e-02,\n",
       "       -1.43006232e-01,  3.23815680e-01, -4.71720146e-01, -3.66844755e-01,\n",
       "        5.15279060e-01, -6.24566185e-01,  5.82367254e-01, -9.40801675e-02,\n",
       "        1.54456805e-01,  7.28811005e-01, -2.00956535e-01, -3.38444548e-01,\n",
       "       -2.79220855e-01, -3.76034934e-01, -1.00695659e-01,  2.62402167e-01,\n",
       "        3.07553616e-02,  1.81122907e-01, -2.52777481e-01,  1.99975264e-01,\n",
       "        2.88068559e-01,  9.89962399e-02, -7.82062844e-01,  5.01184643e-01,\n",
       "       -4.19198666e-01,  6.26603085e-01, -5.62735887e-01,  1.15637339e+00])"
      ]
     },
     "execution_count": 40,
     "metadata": {},
     "output_type": "execute_result"
    }
   ],
   "source": [
    "mu, sigma = 0, 0.5 # mean, standard deviation\n",
    "\n",
    "lst = np.random.normal(mu, sigma, 1000)\n",
    "lst"
   ]
  },
  {
   "cell_type": "markdown",
   "metadata": {},
   "source": [
    "Using the random numbers it is easy to generate a histogram.\n",
    "\n",
    "```python\n",
    "fig = plt.figure(figsize=(8, 5))\n",
    "\n",
    "plt.hist(lst)\n",
    "\n",
    "plt.show()\n",
    "```"
   ]
  },
  {
   "cell_type": "code",
   "execution_count": 41,
   "metadata": {},
   "outputs": [
    {
     "data": {
      "image/png": "[encoded data removed]",
      "text/plain": [
       "<Figure size 576x360 with 1 Axes>"
      ]
     },
     "metadata": {},
     "output_type": "display_data"
    }
   ],
   "source": [
    "fig = plt.figure(figsize=(8, 5))\n",
    "\n",
    "plt.hist(lst)\n",
    "\n",
    "plt.show()"
   ]
  },
  {
   "cell_type": "markdown",
   "metadata": {},
   "source": [
    "##### Customizing the histogram\n",
    "\n",
    "Some additional arguments for the histogram function [https://matplotlib.org/api/_as_gen/matplotlib.axes.Axes.hist.html#matplotlib.axes.Axes.hist]\n",
    "\n"
   ]
  },
  {
   "cell_type": "code",
   "execution_count": 42,
   "metadata": {},
   "outputs": [
    {
     "name": "stdout",
     "output_type": "stream",
     "text": [
      "Help on function hist in module matplotlib.pyplot:\n",
      "\n",
      "hist(x, bins=None, range=None, density=None, weights=None, cumulative=False, bottom=None, histtype='bar', align='mid', orientation='vertical', rwidth=None, log=False, color=None, label=None, stacked=False, normed=None, *, data=None, **kwargs)\n",
      "    Plot a histogram.\n",
      "    \n",
      "    Compute and draw the histogram of *x*. The return value is a\n",
      "    tuple (*n*, *bins*, *patches*) or ([*n0*, *n1*, ...], *bins*,\n",
      "    [*patches0*, *patches1*,...]) if the input contains multiple\n",
      "    data.\n",
      "    \n",
      "    Multiple data can be provided via *x* as a list of datasets\n",
      "    of potentially different length ([*x0*, *x1*, ...]), or as\n",
      "    a 2-D ndarray in which each column is a dataset.  Note that\n",
      "    the ndarray form is transposed relative to the list form.\n",
      "    \n",
      "    Masked arrays are not supported at present.\n",
      "    \n",
      "    Parameters\n",
      "    ----------\n",
      "    x : (n,) array or sequence of (n,) arrays\n",
      "        Input values, this takes either a single array or a sequence of\n",
      "        arrays which are not required to be of the same length.\n",
      "    \n",
      "    bins : int or sequence or str, optional\n",
      "        If an integer is given, ``bins + 1`` bin edges are calculated and\n",
      "        returned, consistent with `numpy.histogram`.\n",
      "    \n",
      "        If `bins` is a sequence, gives bin edges, including left edge of\n",
      "        first bin and right edge of last bin.  In this case, `bins` is\n",
      "        returned unmodified.\n",
      "    \n",
      "        All but the last (righthand-most) bin is half-open.  In other\n",
      "        words, if `bins` is::\n",
      "    \n",
      "            [1, 2, 3, 4]\n",
      "    \n",
      "        then the first bin is ``[1, 2)`` (including 1, but excluding 2) and\n",
      "        the second ``[2, 3)``.  The last bin, however, is ``[3, 4]``, which\n",
      "        *includes* 4.\n",
      "    \n",
      "        Unequally spaced bins are supported if *bins* is a sequence.\n",
      "    \n",
      "        With Numpy 1.11 or newer, you can alternatively provide a string\n",
      "        describing a binning strategy, such as 'auto', 'sturges', 'fd',\n",
      "        'doane', 'scott', 'rice', 'sturges' or 'sqrt', see\n",
      "        `numpy.histogram`.\n",
      "    \n",
      "        The default is taken from :rc:`hist.bins`.\n",
      "    \n",
      "    range : tuple or None, optional\n",
      "        The lower and upper range of the bins. Lower and upper outliers\n",
      "        are ignored. If not provided, *range* is ``(x.min(), x.max())``.\n",
      "        Range has no effect if *bins* is a sequence.\n",
      "    \n",
      "        If *bins* is a sequence or *range* is specified, autoscaling\n",
      "        is based on the specified bin range instead of the\n",
      "        range of x.\n",
      "    \n",
      "        Default is ``None``\n",
      "    \n",
      "    density : bool, optional\n",
      "        If ``True``, the first element of the return tuple will\n",
      "        be the counts normalized to form a probability density, i.e.,\n",
      "        the area (or integral) under the histogram will sum to 1.\n",
      "        This is achieved by dividing the count by the number of\n",
      "        observations times the bin width and not dividing by the total\n",
      "        number of observations. If *stacked* is also ``True``, the sum of\n",
      "        the histograms is normalized to 1.\n",
      "    \n",
      "        Default is ``None`` for both *normed* and *density*. If either is\n",
      "        set, then that value will be used. If neither are set, then the\n",
      "        args will be treated as ``False``.\n",
      "    \n",
      "        If both *density* and *normed* are set an error is raised.\n",
      "    \n",
      "    weights : (n, ) array_like or None, optional\n",
      "        An array of weights, of the same shape as *x*.  Each value in *x*\n",
      "        only contributes its associated weight towards the bin count\n",
      "        (instead of 1).  If *normed* or *density* is ``True``,\n",
      "        the weights are normalized, so that the integral of the density\n",
      "        over the range remains 1.\n",
      "    \n",
      "        Default is ``None``\n",
      "    \n",
      "    cumulative : bool, optional\n",
      "        If ``True``, then a histogram is computed where each bin gives the\n",
      "        counts in that bin plus all bins for smaller values. The last bin\n",
      "        gives the total number of datapoints. If *normed* or *density*\n",
      "        is also ``True`` then the histogram is normalized such that the\n",
      "        last bin equals 1. If *cumulative* evaluates to less than 0\n",
      "        (e.g., -1), the direction of accumulation is reversed.\n",
      "        In this case, if *normed* and/or *density* is also ``True``, then\n",
      "        the histogram is normalized such that the first bin equals 1.\n",
      "    \n",
      "        Default is ``False``\n",
      "    \n",
      "    bottom : array_like, scalar, or None\n",
      "        Location of the bottom baseline of each bin.  If a scalar,\n",
      "        the base line for each bin is shifted by the same amount.\n",
      "        If an array, each bin is shifted independently and the length\n",
      "        of bottom must match the number of bins.  If None, defaults to 0.\n",
      "    \n",
      "        Default is ``None``\n",
      "    \n",
      "    histtype : {'bar', 'barstacked', 'step',  'stepfilled'}, optional\n",
      "        The type of histogram to draw.\n",
      "    \n",
      "        - 'bar' is a traditional bar-type histogram.  If multiple data\n",
      "          are given the bars are arranged side by side.\n",
      "    \n",
      "        - 'barstacked' is a bar-type histogram where multiple\n",
      "          data are stacked on top of each other.\n",
      "    \n",
      "        - 'step' generates a lineplot that is by default\n",
      "          unfilled.\n",
      "    \n",
      "        - 'stepfilled' generates a lineplot that is by default\n",
      "          filled.\n",
      "    \n",
      "        Default is 'bar'\n",
      "    \n",
      "    align : {'left', 'mid', 'right'}, optional\n",
      "        Controls how the histogram is plotted.\n",
      "    \n",
      "            - 'left': bars are centered on the left bin edges.\n",
      "    \n",
      "            - 'mid': bars are centered between the bin edges.\n",
      "    \n",
      "            - 'right': bars are centered on the right bin edges.\n",
      "    \n",
      "        Default is 'mid'\n",
      "    \n",
      "    orientation : {'horizontal', 'vertical'}, optional\n",
      "        If 'horizontal', `~matplotlib.pyplot.barh` will be used for\n",
      "        bar-type histograms and the *bottom* kwarg will be the left edges.\n",
      "    \n",
      "    rwidth : scalar or None, optional\n",
      "        The relative width of the bars as a fraction of the bin width.  If\n",
      "        ``None``, automatically compute the width.\n",
      "    \n",
      "        Ignored if *histtype* is 'step' or 'stepfilled'.\n",
      "    \n",
      "        Default is ``None``\n",
      "    \n",
      "    log : bool, optional\n",
      "        If ``True``, the histogram axis will be set to a log scale. If\n",
      "        *log* is ``True`` and *x* is a 1D array, empty bins will be\n",
      "        filtered out and only the non-empty ``(n, bins, patches)``\n",
      "        will be returned.\n",
      "    \n",
      "        Default is ``False``\n",
      "    \n",
      "    color : color or array_like of colors or None, optional\n",
      "        Color spec or sequence of color specs, one per dataset.  Default\n",
      "        (``None``) uses the standard line color sequence.\n",
      "    \n",
      "        Default is ``None``\n",
      "    \n",
      "    label : str or None, optional\n",
      "        String, or sequence of strings to match multiple datasets.  Bar\n",
      "        charts yield multiple patches per dataset, but only the first gets\n",
      "        the label, so that the legend command will work as expected.\n",
      "    \n",
      "        default is ``None``\n",
      "    \n",
      "    stacked : bool, optional\n",
      "        If ``True``, multiple data are stacked on top of each other If\n",
      "        ``False`` multiple data are arranged side by side if histtype is\n",
      "        'bar' or on top of each other if histtype is 'step'\n",
      "    \n",
      "        Default is ``False``\n",
      "    \n",
      "    normed : bool, optional\n",
      "        Deprecated; use the density keyword argument instead.\n",
      "    \n",
      "    Returns\n",
      "    -------\n",
      "    n : array or list of arrays\n",
      "        The values of the histogram bins. See *normed* or *density*\n",
      "        and *weights* for a description of the possible semantics.\n",
      "        If input *x* is an array, then this is an array of length\n",
      "        *nbins*. If input is a sequence of arrays\n",
      "        ``[data1, data2,..]``, then this is a list of arrays with\n",
      "        the values of the histograms for each of the arrays in the\n",
      "        same order.\n",
      "    \n",
      "    bins : array\n",
      "        The edges of the bins. Length nbins + 1 (nbins left edges and right\n",
      "        edge of last bin).  Always a single array even when multiple data\n",
      "        sets are passed in.\n",
      "    \n",
      "    patches : list or list of lists\n",
      "        Silent list of individual patches used to create the histogram\n",
      "        or list of such list if multiple input datasets.\n",
      "    \n",
      "    Other Parameters\n",
      "    ----------------\n",
      "    **kwargs : `~matplotlib.patches.Patch` properties\n",
      "    \n",
      "    See also\n",
      "    --------\n",
      "    hist2d : 2D histograms\n",
      "    \n",
      "    Notes\n",
      "    -----\n",
      "    .. [Notes section required for data comment. See #10189.]\n",
      "    \n",
      "    .. note::\n",
      "        In addition to the above described arguments, this function can take a\n",
      "        **data** keyword argument. If such a **data** argument is given, the\n",
      "        following arguments are replaced by **data[<arg>]**:\n",
      "    \n",
      "        * All arguments with the following names: 'weights', 'x'.\n",
      "    \n",
      "        Objects passed as **data** must support item access (``data[<arg>]``) and\n",
      "        membership test (``<arg> in data``).\n",
      "\n"
     ]
    }
   ],
   "source": [
    "help(plt.hist)"
   ]
  },
  {
   "cell_type": "code",
   "execution_count": 44,
   "metadata": {},
   "outputs": [
    {
     "data": {
      "image/png": "[encoded data removed]",
      "text/plain": [
       "<Figure size 576x360 with 1 Axes>"
      ]
     },
     "metadata": {},
     "output_type": "display_data"
    }
   ],
   "source": [
    "fig = plt.figure(figsize=(8, 5))\n",
    "# We can make changes here\n",
    "plt.hist(lst, bins=50)\n",
    "\n",
    "plt.show()"
   ]
  },
  {
   "cell_type": "markdown",
   "metadata": {},
   "source": [
    "#### Scatter plots\n",
    "\n",
    "Start by generating random x, y pairs between 0 and 100\n",
    "```python\n",
    "mat = np.random.randint(0, 100, (100, 2))\n",
    "```"
   ]
  },
  {
   "cell_type": "code",
   "execution_count": 45,
   "metadata": {},
   "outputs": [
    {
     "data": {
      "text/plain": [
       "array([[61, 64],\n",
       "       [ 4, 93],\n",
       "       [62, 93],\n",
       "       [42, 91],\n",
       "       [21, 67],\n",
       "       [88,  4],\n",
       "       [92, 82],\n",
       "       [36, 11],\n",
       "       [17, 70],\n",
       "       [13, 94],\n",
       "       [ 2, 68],\n",
       "       [66, 43],\n",
       "       [68, 58],\n",
       "       [32, 14],\n",
       "       [61, 91],\n",
       "       [33, 55],\n",
       "       [36, 87],\n",
       "       [89, 11],\n",
       "       [40,  6],\n",
       "       [50, 48],\n",
       "       [47, 92],\n",
       "       [28, 48],\n",
       "       [80,  3],\n",
       "       [32, 21],\n",
       "       [35, 87],\n",
       "       [89, 82],\n",
       "       [82, 42],\n",
       "       [33, 76],\n",
       "       [21, 65],\n",
       "       [66, 20],\n",
       "       [89, 94],\n",
       "       [53, 64],\n",
       "       [74, 67],\n",
       "       [56, 68],\n",
       "       [35,  2],\n",
       "       [99, 87],\n",
       "       [51, 36],\n",
       "       [47, 66],\n",
       "       [23, 95],\n",
       "       [93, 40],\n",
       "       [42, 67],\n",
       "       [57, 24],\n",
       "       [99, 70],\n",
       "       [61, 86],\n",
       "       [79, 86],\n",
       "       [55, 60],\n",
       "       [53, 27],\n",
       "       [35, 77],\n",
       "       [59, 92],\n",
       "       [20, 94],\n",
       "       [47, 15],\n",
       "       [38, 50],\n",
       "       [74, 31],\n",
       "       [20, 84],\n",
       "       [ 3, 97],\n",
       "       [79, 87],\n",
       "       [89,  9],\n",
       "       [71, 99],\n",
       "       [32, 19],\n",
       "       [15,  7],\n",
       "       [ 3, 69],\n",
       "       [72, 43],\n",
       "       [ 6, 12],\n",
       "       [82, 98],\n",
       "       [70, 57],\n",
       "       [78, 29],\n",
       "       [35, 81],\n",
       "       [57, 80],\n",
       "       [37, 99],\n",
       "       [ 1, 46],\n",
       "       [41, 75],\n",
       "       [10, 44],\n",
       "       [25, 60],\n",
       "       [45, 77],\n",
       "       [34, 61],\n",
       "       [86, 87],\n",
       "       [29, 93],\n",
       "       [38, 47],\n",
       "       [69,  7],\n",
       "       [90, 67],\n",
       "       [48, 96],\n",
       "       [28, 23],\n",
       "       [ 6, 39],\n",
       "       [26, 94],\n",
       "       [49, 19],\n",
       "       [ 1, 48],\n",
       "       [46, 34],\n",
       "       [17, 89],\n",
       "       [63, 68],\n",
       "       [98, 24],\n",
       "       [83, 96],\n",
       "       [ 4, 45],\n",
       "       [ 7, 41],\n",
       "       [42, 63],\n",
       "       [91, 52],\n",
       "       [34, 17],\n",
       "       [56,  4],\n",
       "       [23, 36],\n",
       "       [92, 51],\n",
       "       [67, 84]])"
      ]
     },
     "execution_count": 45,
     "metadata": {},
     "output_type": "execute_result"
    }
   ],
   "source": [
    "mat = np.random.randint(0, 100, (100, 2))\n",
    "mat"
   ]
  },
  {
   "cell_type": "markdown",
   "metadata": {},
   "source": [
    "Make a scatter plot\n",
    "\n",
    "```python\n",
    "fig = plt.figure(figsize=(5, 5))\n",
    "\n",
    "plt.scatter(mat[:,0], mat[:,1])\n",
    "\n",
    "plt.show()\n",
    "```"
   ]
  },
  {
   "cell_type": "code",
   "execution_count": 59,
   "metadata": {},
   "outputs": [
    {
     "data": {
      "image/png": "[encoded data removed]",
      "text/plain": [
       "<Figure size 360x360 with 1 Axes>"
      ]
     },
     "metadata": {},
     "output_type": "display_data"
    }
   ],
   "source": [
    "fig = plt.figure(figsize=(5, 5))\n",
    "\n",
    "plt.plot(mat[:,0], mat[:,1])\n",
    "\n",
    "plt.show()"
   ]
  },
  {
   "cell_type": "code",
   "execution_count": 47,
   "metadata": {},
   "outputs": [
    {
     "name": "stdout",
     "output_type": "stream",
     "text": [
      "Help on function scatter in module matplotlib.pyplot:\n",
      "\n",
      "scatter(x, y, s=None, c=None, marker=None, cmap=None, norm=None, vmin=None, vmax=None, alpha=None, linewidths=None, verts=None, edgecolors=None, *, data=None, **kwargs)\n",
      "    A scatter plot of *y* vs *x* with varying marker size and/or color.\n",
      "    \n",
      "    Parameters\n",
      "    ----------\n",
      "    x, y : array_like, shape (n, )\n",
      "        The data positions.\n",
      "    \n",
      "    s : scalar or array_like, shape (n, ), optional\n",
      "        The marker size in points**2.\n",
      "        Default is ``rcParams['lines.markersize'] ** 2``.\n",
      "    \n",
      "    c : color, sequence, or sequence of color, optional\n",
      "        The marker color. Possible values:\n",
      "    \n",
      "        - A single color format string.\n",
      "        - A sequence of color specifications of length n.\n",
      "        - A sequence of n numbers to be mapped to colors using *cmap* and\n",
      "          *norm*.\n",
      "        - A 2-D array in which the rows are RGB or RGBA.\n",
      "    \n",
      "        Note that *c* should not be a single numeric RGB or RGBA sequence\n",
      "        because that is indistinguishable from an array of values to be\n",
      "        colormapped. If you want to specify the same RGB or RGBA value for\n",
      "        all points, use a 2-D array with a single row.  Otherwise, value-\n",
      "        matching will have precedence in case of a size matching with *x*\n",
      "        and *y*.\n",
      "    \n",
      "        Defaults to ``None``. In that case the marker color is determined\n",
      "        by the value of ``color``, ``facecolor`` or ``facecolors``. In case\n",
      "        those are not specified or ``None``, the marker color is determined\n",
      "        by the next color of the ``Axes``' current \"shape and fill\" color\n",
      "        cycle. This cycle defaults to :rc:`axes.prop_cycle`.\n",
      "    \n",
      "    marker : `~matplotlib.markers.MarkerStyle`, optional\n",
      "        The marker style. *marker* can be either an instance of the class\n",
      "        or the text shorthand for a particular marker.\n",
      "        Defaults to ``None``, in which case it takes the value of\n",
      "        :rc:`scatter.marker` = 'o'.\n",
      "        See `~matplotlib.markers` for more information about marker styles.\n",
      "    \n",
      "    cmap : `~matplotlib.colors.Colormap`, optional, default: None\n",
      "        A `.Colormap` instance or registered colormap name. *cmap* is only\n",
      "        used if *c* is an array of floats. If ``None``, defaults to rc\n",
      "        ``image.cmap``.\n",
      "    \n",
      "    norm : `~matplotlib.colors.Normalize`, optional, default: None\n",
      "        A `.Normalize` instance is used to scale luminance data to 0, 1.\n",
      "        *norm* is only used if *c* is an array of floats. If *None*, use\n",
      "        the default `.colors.Normalize`.\n",
      "    \n",
      "    vmin, vmax : scalar, optional, default: None\n",
      "        *vmin* and *vmax* are used in conjunction with *norm* to normalize\n",
      "        luminance data. If None, the respective min and max of the color\n",
      "        array is used. *vmin* and *vmax* are ignored if you pass a *norm*\n",
      "        instance.\n",
      "    \n",
      "    alpha : scalar, optional, default: None\n",
      "        The alpha blending value, between 0 (transparent) and 1 (opaque).\n",
      "    \n",
      "    linewidths : scalar or array_like, optional, default: None\n",
      "        The linewidth of the marker edges. Note: The default *edgecolors*\n",
      "        is 'face'. You may want to change this as well.\n",
      "        If *None*, defaults to rcParams ``lines.linewidth``.\n",
      "    \n",
      "    edgecolors : color or sequence of color, optional, default: 'face'\n",
      "        The edge color of the marker. Possible values:\n",
      "    \n",
      "        - 'face': The edge color will always be the same as the face color.\n",
      "        - 'none': No patch boundary will be drawn.\n",
      "        - A matplotib color.\n",
      "    \n",
      "        For non-filled markers, the *edgecolors* kwarg is ignored and\n",
      "        forced to 'face' internally.\n",
      "    \n",
      "    Returns\n",
      "    -------\n",
      "    paths : `~matplotlib.collections.PathCollection`\n",
      "    \n",
      "    Other Parameters\n",
      "    ----------------\n",
      "    **kwargs : `~matplotlib.collections.Collection` properties\n",
      "    \n",
      "    See Also\n",
      "    --------\n",
      "    plot : To plot scatter plots when markers are identical in size and\n",
      "        color.\n",
      "    \n",
      "    Notes\n",
      "    -----\n",
      "    \n",
      "    * The `.plot` function will be faster for scatterplots where markers\n",
      "      don't vary in size or color.\n",
      "    \n",
      "    * Any or all of *x*, *y*, *s*, and *c* may be masked arrays, in which\n",
      "      case all masks will be combined and only unmasked points will be\n",
      "      plotted.\n",
      "    \n",
      "    * Fundamentally, scatter works with 1-D arrays; *x*, *y*, *s*, and *c*\n",
      "      may be input as 2-D arrays, but within scatter they will be\n",
      "      flattened. The exception is *c*, which will be flattened only if its\n",
      "      size matches the size of *x* and *y*.\n",
      "    \n",
      "    .. note::\n",
      "        In addition to the above described arguments, this function can take a\n",
      "        **data** keyword argument. If such a **data** argument is given, the\n",
      "        following arguments are replaced by **data[<arg>]**:\n",
      "    \n",
      "        * All arguments with the following names: 'c', 'color', 'edgecolors', 'facecolor', 'facecolors', 'linewidths', 's', 'x', 'y'.\n",
      "    \n",
      "        Objects passed as **data** must support item access (``data[<arg>]``) and\n",
      "        membership test (``<arg> in data``).\n",
      "\n"
     ]
    }
   ],
   "source": [
    "help(plt.scatter)"
   ]
  },
  {
   "cell_type": "code",
   "execution_count": 58,
   "metadata": {},
   "outputs": [
    {
     "data": {
      "image/png": "[encoded data removed]",
      "text/plain": [
       "<Figure size 360x360 with 1 Axes>"
      ]
     },
     "metadata": {},
     "output_type": "display_data"
    }
   ],
   "source": [
    "fig = plt.figure(figsize=(5, 5))\n",
    "\n",
    "# Add some additional arguments\n",
    "plt.scatter(mat[:,0], mat[:,1], marker='o', c='w', edgecolors='r')\n",
    "\n",
    "plt.show()"
   ]
  },
  {
   "cell_type": "markdown",
   "metadata": {},
   "source": [
    "#### Displaying 2D continuous data\n",
    "\n",
    "Generate some data to display\n",
    "\n",
    "```python\n",
    "mu, sigma = 0, 500\n",
    "\n",
    "mat = np.random.normal(mu, sigma, (50000, 2))\n",
    "\n",
    "H, xe, ye =  np.histogram2d(mat[:,0], mat[:,1], bins=(100, 100))\n",
    "\n",
    "```\n",
    "\n",
    "plot the data\n",
    "\n",
    "\n",
    "```python\n",
    "fig = plt.figure(figsize=(8, 8))\n",
    "\n",
    "plt.imshow(H)\n",
    "\n",
    "plt.show()\n",
    "```"
   ]
  },
  {
   "cell_type": "code",
   "execution_count": 61,
   "metadata": {},
   "outputs": [
    {
     "data": {
      "text/plain": [
       "array([[0., 0., 0., ..., 0., 0., 0.],\n",
       "       [0., 0., 0., ..., 0., 0., 0.],\n",
       "       [0., 0., 0., ..., 0., 0., 0.],\n",
       "       ...,\n",
       "       [0., 0., 0., ..., 0., 0., 0.],\n",
       "       [0., 0., 0., ..., 0., 0., 0.],\n",
       "       [0., 0., 0., ..., 0., 0., 0.]])"
      ]
     },
     "execution_count": 61,
     "metadata": {},
     "output_type": "execute_result"
    }
   ],
   "source": [
    "mu, sigma = 0, 500\n",
    "\n",
    "mat = np.random.normal(mu, sigma, (50000, 2))\n",
    "\n",
    "H, xe, ye =  np.histogram2d(mat[:,0], mat[:,1], bins=(100, 100))\n",
    "H"
   ]
  },
  {
   "cell_type": "code",
   "execution_count": 63,
   "metadata": {},
   "outputs": [
    {
     "data": {
      "text/plain": [
       "63.0"
      ]
     },
     "execution_count": 63,
     "metadata": {},
     "output_type": "execute_result"
    }
   ],
   "source": [
    "H.max()"
   ]
  },
  {
   "cell_type": "code",
   "execution_count": 69,
   "metadata": {},
   "outputs": [
    {
     "data": {
      "text/plain": [
       "array([22., 22., 25., 21., 22., 21., 24., 24., 24., 21., 25., 23., 21.,\n",
       "       28., 23., 24., 25., 23., 22., 26., 24., 23., 26., 24., 21., 23.,\n",
       "       28., 22., 23., 25., 28., 34., 28., 24., 27., 21., 24., 24., 22.,\n",
       "       23., 28., 21., 24., 24., 29., 24., 21., 32., 24., 29., 32., 25.,\n",
       "       33., 23., 22., 27., 26., 27., 21., 22., 25., 26., 28., 34., 28.,\n",
       "       31., 28., 32., 31., 34., 22., 33., 42., 26., 26., 26., 24., 28.,\n",
       "       24., 23., 21., 22., 23., 22., 24., 21., 21., 32., 32., 36., 34.,\n",
       "       30., 32., 26., 32., 33., 28., 28., 30., 36., 34., 24., 28., 22.,\n",
       "       22., 26., 21., 23., 23., 26., 24., 25., 33., 25., 25., 32., 37.,\n",
       "       30., 32., 47., 31., 42., 31., 46., 30., 36., 32., 48., 36., 35.,\n",
       "       27., 26., 39., 21., 23., 26., 24., 22., 22., 26., 28., 38., 28.,\n",
       "       31., 26., 29., 35., 35., 27., 45., 38., 38., 22., 36., 44., 29.,\n",
       "       24., 38., 24., 38., 37., 28., 28., 22., 32., 23., 29., 24., 40.,\n",
       "       37., 37., 41., 37., 47., 40., 44., 43., 39., 48., 41., 40., 49.,\n",
       "       53., 39., 37., 38., 36., 46., 25., 32., 33., 34., 31., 25., 22.,\n",
       "       25., 22., 25., 36., 38., 25., 25., 32., 44., 36., 46., 38., 49.,\n",
       "       50., 45., 46., 45., 40., 41., 39., 30., 32., 41., 32., 38., 33.,\n",
       "       38., 29., 36., 28., 22., 24., 23., 23., 29., 33., 28., 34., 27.,\n",
       "       37., 49., 36., 43., 46., 38., 44., 42., 43., 44., 44., 47., 48.,\n",
       "       39., 38., 44., 43., 32., 39., 35., 36., 24., 23., 25., 23., 21.,\n",
       "       30., 27., 28., 25., 27., 33., 28., 37., 45., 39., 46., 50., 39.,\n",
       "       50., 51., 51., 43., 49., 46., 63., 43., 41., 44., 36., 47., 42.,\n",
       "       44., 33., 38., 38., 24., 22., 30., 23., 22., 22., 25., 23., 23.,\n",
       "       38., 29., 35., 30., 46., 34., 54., 42., 48., 40., 52., 48., 63.,\n",
       "       45., 56., 52., 47., 44., 51., 48., 48., 41., 48., 40., 35., 25.,\n",
       "       28., 21., 28., 21., 24., 31., 35., 35., 34., 49., 34., 50., 35.,\n",
       "       39., 37., 56., 42., 53., 44., 58., 58., 50., 38., 44., 46., 31.,\n",
       "       49., 53., 42., 53., 37., 32., 25., 24., 23., 22., 21., 24., 22.,\n",
       "       31., 37., 27., 44., 31., 34., 36., 39., 39., 44., 45., 36., 61.,\n",
       "       58., 49., 59., 49., 36., 57., 53., 53., 39., 50., 35., 41., 43.,\n",
       "       43., 41., 42., 31., 28., 29., 34., 25., 21., 27., 33., 31., 33.,\n",
       "       36., 42., 47., 34., 39., 44., 39., 39., 44., 47., 56., 58., 46.,\n",
       "       49., 54., 58., 48., 52., 46., 55., 47., 49., 30., 38., 43., 25.,\n",
       "       32., 26., 26., 27., 25., 25., 21., 25., 23., 28., 31., 36., 36.,\n",
       "       37., 36., 35., 43., 40., 42., 53., 56., 50., 58., 55., 51., 54.,\n",
       "       49., 50., 33., 52., 56., 39., 48., 39., 33., 40., 33., 32., 23.,\n",
       "       27., 24., 30., 26., 28., 27., 25., 28., 32., 31., 41., 44., 26.,\n",
       "       33., 55., 49., 58., 50., 47., 59., 46., 56., 58., 62., 49., 48.,\n",
       "       49., 41., 44., 43., 32., 38., 37., 31., 39., 24., 26., 23., 22.,\n",
       "       26., 27., 25., 44., 29., 31., 40., 38., 41., 43., 36., 50., 49.,\n",
       "       48., 49., 52., 60., 54., 56., 59., 46., 36., 45., 46., 44., 42.,\n",
       "       36., 38., 43., 21., 26., 24., 25., 23., 28., 26., 25., 26., 24.,\n",
       "       23., 49., 42., 30., 42., 39., 45., 27., 31., 38., 58., 52., 49.,\n",
       "       43., 48., 54., 47., 44., 46., 43., 34., 36., 38., 39., 27., 35.,\n",
       "       29., 26., 23., 24., 26., 21., 29., 26., 33., 40., 35., 54., 33.,\n",
       "       39., 36., 58., 50., 46., 42., 51., 47., 53., 46., 47., 40., 46.,\n",
       "       52., 37., 47., 55., 39., 38., 50., 37., 26., 27., 31., 28., 27.,\n",
       "       27., 22., 21., 26., 21., 27., 25., 36., 37., 30., 47., 43., 52.,\n",
       "       38., 56., 38., 41., 44., 53., 41., 53., 44., 44., 52., 43., 48.,\n",
       "       37., 39., 35., 28., 28., 24., 25., 39., 23., 30., 24., 23., 21.,\n",
       "       33., 38., 26., 38., 35., 34., 38., 31., 43., 31., 45., 50., 31.,\n",
       "       55., 47., 49., 54., 49., 34., 42., 40., 34., 29., 38., 36., 27.,\n",
       "       24., 32., 36., 23., 21., 23., 24., 28., 30., 32., 32., 39., 37.,\n",
       "       32., 40., 42., 44., 43., 47., 48., 47., 46., 39., 45., 45., 45.,\n",
       "       46., 23., 38., 31., 33., 26., 36., 27., 22., 22., 21., 21., 22.,\n",
       "       31., 32., 35., 36., 29., 32., 42., 38., 41., 36., 33., 51., 34.,\n",
       "       32., 43., 32., 40., 37., 34., 33., 27., 25., 24., 29., 29., 23.,\n",
       "       31., 21., 21., 22., 21., 30., 28., 30., 29., 26., 32., 46., 31.,\n",
       "       37., 40., 32., 36., 44., 37., 45., 41., 37., 40., 27., 29., 38.,\n",
       "       26., 26., 25., 21., 24., 21., 21., 23., 29., 30., 26., 36., 29.,\n",
       "       41., 28., 35., 31., 32., 32., 32., 34., 31., 36., 30., 43., 25.,\n",
       "       35., 37., 43., 34., 25., 37., 25., 22., 24., 22., 23., 22., 21.,\n",
       "       27., 35., 22., 30., 27., 24., 29., 30., 31., 34., 24., 36., 35.,\n",
       "       23., 38., 35., 34., 28., 28., 23., 23., 23., 24., 24., 32., 27.,\n",
       "       22., 27., 27., 24., 23., 36., 26., 28., 21., 27., 24., 22., 22.,\n",
       "       27., 36., 21., 25., 21., 22., 24., 29., 26., 21., 23., 28., 30.,\n",
       "       26., 23., 39., 26., 29., 23., 34., 34., 22., 27., 32., 24., 23.,\n",
       "       22., 25., 24., 28., 25., 25., 22., 31., 26., 30., 22., 22., 22.,\n",
       "       27., 25., 25., 22., 25., 33., 31., 29., 22., 22., 22., 21., 23.,\n",
       "       26., 26., 22., 23., 22.])"
      ]
     },
     "execution_count": 69,
     "metadata": {},
     "output_type": "execute_result"
    }
   ],
   "source": [
    "\n",
    "\n",
    "# plt.imshow(HH > 20])"
   ]
  }
 ],
 "metadata": {
  "anaconda-cloud": {},
  "kernelspec": {
   "display_name": "Python 3",
   "language": "python",
   "name": "python3"
  },
  "language_info": {
   "codemirror_mode": {
    "name": "ipython",
    "version": 3
   },
   "file_extension": ".py",
   "mimetype": "text/x-python",
   "name": "python",
   "nbconvert_exporter": "python",
   "pygments_lexer": "ipython3",
   "version": "3.6.2"
  }
 },
 "nbformat": 4,
 "nbformat_minor": 1
}
