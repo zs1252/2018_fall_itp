{
 "cells": [
  {
   "cell_type": "markdown",
   "metadata": {
    "slideshow": {
     "slide_type": "notes"
    }
   },
   "source": [
    "# Introduction to Python - Lecture 07 (29Oct 2018)\n",
    "\n",
    "### Agenda for today:\n",
    "+ Working with files and filesystem:\n",
    "    - basics of file handling in python\n",
    "+ Introduction to Numpy\n",
    "+ Introduction to Matplotlib\n",
    "+ Introduction to Seaborn (Next Lecture)\n",
    "+ Introduction to Pandas (Next Lecture)"
   ]
  },
  {
   "cell_type": "markdown",
   "metadata": {
    "collapsed": true
   },
   "source": [
    "# Data Persistence\n",
    "\n",
    "+ Files\n",
    "    + **<font color='blue'>\\*.txt**</font>, \\*.xml, *.json\n",
    "    + \\*.csv, \\*.tab, *.xlsx (covered later, with pandas)\n",
    "+ Databases (covered later in thhe course), when you want to capture relationships between data / entities"
   ]
  },
  {
   "cell_type": "markdown",
   "metadata": {},
   "source": [
    "# Built-in *<font color='blue'>file</font>* object\n",
    "\n",
    "+ Basic format:\n",
    "```python\n",
    "fh = open('<filename>', '<mode>')   # Creates a file object fh\n",
    "```\n",
    "+ *filename* can be _**absolute**_ or _**relative**_\n",
    "+ *mode*: {'r', 'w', 'a'}; Default='r'\n",
    "+ 'r': open file for reading if exists, else **<font color='blue'>FileNotFoundError</font>**\n",
    "+ 'w': open new file for writing; overwrite if exists; use 'a' to avoid overwriting\n",
    "\n",
    "```python\n",
    "fh = open('data/data.txt')\n",
    "type(fh)\n",
    "dir(fh)\n",
    "```\n",
    "\n",
    "+ If the file does not exist, open will raise a **FileNotFound** error with traceback\n",
    "\n",
    "**Notes**:\n",
    "+ *fh* is not the file itself, but a handle/reference to it. Use it to do desired operations (read/write).\n",
    "<br />  \n",
    "![alt text](filehandle.svg)\n",
    "<br />\n",
    "+ <font color='blue'>Some additional mode options: 'rb', 'wb' for reading and writing binary files; '+' to open the file for both reading and writing."
   ]
  },
  {
   "cell_type": "code",
   "execution_count": null,
   "metadata": {},
   "outputs": [],
   "source": []
  },
  {
   "cell_type": "markdown",
   "metadata": {},
   "source": [
    "# Reading from Files in \"text mode\"\n",
    "+ File content is always read in as strings  \n",
    "<br />\n",
    "+ Here are the **most common approaches**:\n",
    "\n",
    "    - **Read all data at once as a string**\n",
    "\n",
    "    ```python\n",
    "    import pprint\n",
    "    fh = open('data/data.txt', 'r')\n",
    "    data = fh.read()              # to read in all data as one big string\n",
    "    print(type(data), '\\n\\n')\n",
    "    print(data)\n",
    "    print('\\n', data.split('\\n'))   # split the big string on new line character (\\n); '\\r\\n' on windows\n",
    "    ```"
   ]
  },
  {
   "cell_type": "code",
   "execution_count": null,
   "metadata": {},
   "outputs": [],
   "source": []
  },
  {
   "cell_type": "markdown",
   "metadata": {},
   "source": [
    "+ **file pointers and *<font color='blue'>seek</font>* operation**\n",
    "\n",
    "    ```python\n",
    "data_read_again = fh.read()        # can't read more without resetting the read pointer\n",
    "print(\"length of data_read_again is: \", len(data_read_again))\n",
    "fh.seek(0, 0)          # reset the pointer to beginning of the file: fh.seek(offset, from_what)\n",
    "                       # https://docs.python.org/3/tutorial/inputoutput.html\n",
    "data_now = fh.read()\n",
    "print(data_now)\n",
    "```"
   ]
  },
  {
   "cell_type": "code",
   "execution_count": null,
   "metadata": {},
   "outputs": [],
   "source": []
  },
  {
   "cell_type": "markdown",
   "metadata": {},
   "source": [
    "+ **Read individual lines as strings**\n",
    "```python\n",
    "fh.seek(0, 0)\n",
    "data = fh.readlines()       # returns list of strings\n",
    "print(type(data), \"\\n\\n\")   # check out the \\n newline character at the end of lines\n",
    "print(data)         # (\\r\\n on windows machines)\n",
    "```"
   ]
  },
  {
   "cell_type": "code",
   "execution_count": null,
   "metadata": {},
   "outputs": [],
   "source": []
  },
  {
   "cell_type": "markdown",
   "metadata": {},
   "source": [
    "+ **Iterate over large files**\n",
    "```python\n",
    "fh.seek(0, 0)\n",
    "for line in fh:           # 'fh' is iterable; use in iteration context for efficient\n",
    "    print(len(line), line)  # reading of large files\n",
    "fh.close()                # close file; good practice (esp. when writing files)\n",
    "```"
   ]
  },
  {
   "cell_type": "code",
   "execution_count": null,
   "metadata": {},
   "outputs": [],
   "source": []
  },
  {
   "cell_type": "markdown",
   "metadata": {},
   "source": [
    "+ **Context manager**\n",
    "```python\n",
    "with open('data/data.txt', 'r') as fh:  # Context-manager; automatically closes the file\n",
    "    for line in fh:\n",
    "        print(line)\n",
    "print('\\nFile closed? : ', fh.closed)\n",
    "```"
   ]
  },
  {
   "cell_type": "code",
   "execution_count": null,
   "metadata": {},
   "outputs": [],
   "source": []
  },
  {
   "cell_type": "markdown",
   "metadata": {},
   "source": [
    "# Writing to Files in \"text mode\"\n",
    "+ Like reading, writing is also done as strings\n",
    "<br />\n",
    "+ Here are the **most common approaches**:\n",
    "\n",
    "```python\n",
    "fh = open('data/fresh.txt', 'w')           # Open a new file in write mode\n",
    "fh.write('This is the 1st line\\n')    # Write a line; \n",
    "                                      # Note that newline chars must be explicitly added\n",
    "fh.close()\n",
    "```\n",
    "\n"
   ]
  },
  {
   "cell_type": "code",
   "execution_count": null,
   "metadata": {},
   "outputs": [],
   "source": []
  },
  {
   "cell_type": "markdown",
   "metadata": {},
   "source": [
    "+ **Flushing buffers**\n",
    "\n",
    "```python\n",
    "fh = open('data/fresh.txt', 'a')           # Open the earlier file in 'append' mode\n",
    "                                      #    to avoid overwriting\n",
    "fh.write('This is the 2nd line\\n')    # Write a line; \n",
    "                                      # Note that newline chars must be explicitly added\n",
    "fh.flush()                            # Clears the buffer\n",
    "```"
   ]
  },
  {
   "cell_type": "code",
   "execution_count": null,
   "metadata": {},
   "outputs": [],
   "source": []
  },
  {
   "cell_type": "markdown",
   "metadata": {},
   "source": [
    "+ **Write multiple lines at once**\n",
    "\n",
    "```python\n",
    "fh.writelines(['This is the 3rd line\\n', 'This is the 4th line\\n'])   # Note the newline\n",
    "fh.flush()\n",
    "```"
   ]
  },
  {
   "cell_type": "code",
   "execution_count": null,
   "metadata": {},
   "outputs": [],
   "source": []
  },
  {
   "cell_type": "markdown",
   "metadata": {},
   "source": [
    "+ **Write iteratively**\n",
    "\n",
    "```python\n",
    "more_lines = ['5th line', '6th line', '7th line']\n",
    "\n",
    "for line in more_lines:       # iteration context\n",
    "    fh.write(line + '\\n')\n",
    "    fh.flush()                # Don't need to add flush after every write: inefficient; let python handle it\n",
    "fh.close()\n",
    "```\n",
    "\n"
   ]
  },
  {
   "cell_type": "code",
   "execution_count": null,
   "metadata": {},
   "outputs": [],
   "source": []
  },
  {
   "cell_type": "markdown",
   "metadata": {},
   "source": [
    "### There are specialized modules to work with specific file formats:\n",
    "1. csv (comma-separated values)\n",
    "2. xlrd (excel documents): **pip install** xlrd OR **conda install** xlrd\n",
    "3. json (hierarchical text-based format like python dictionares)\n",
    "4. yaml (another hierarchical text-based format like json): **pip install** pyyaml OR **conda install** pyyaml\n",
    "5. pandas (works with csv, tsv, xls and many more formats): **pip install pandas** OR **conda install pandas**"
   ]
  },
  {
   "cell_type": "markdown",
   "metadata": {},
   "source": [
    "## os.path module\n",
    "```python\n",
    "import os\n",
    "dir(os.path)  # Note that path is another module that os module imports. \n",
    "              # When we import os, path becomes available as a module variable within os namespace.\n",
    "              # --> module / namespace hierarchy\n",
    "```\n",
    "+ **path parsing:**\n",
    "    - os.path.split(<path_str>):\n",
    "    - os.path.splitext(<path_str>) \n",
    "```python\n",
    "# Ex.\n",
    "print(os.path.split(os.path.expanduser('~/Documents/my_data.txt')))\n",
    "print(os.path.splitext('my_data.txt'))\n",
    "```\n",
    "+ **path building:**\n",
    "    - os.path.join(<path_components>)\n",
    "```python\n",
    "# Ex.\n",
    "print(os.path.join('~', 'Desktop', 'itp'))\n",
    "```\n",
    "+ **common tests:**\n",
    "    - os.path.<test>, where test = {isdir(), isfile(), exists(), ...}\n",
    "```python\n",
    "# Ex.\n",
    "print(os.path.isdir('data/data.txt'))\n",
    "print(os.path.isfile('data/data.txt')\n",
    "print(os.path.exists('data')\n",
    "print(os.path.exists('data.txt')\n",
    "print(os.path.exists('/Users/mark')\n",
    "```\n",
    "+ **listing contents of a dir:**\n",
    "    - os.listdir\n",
    "```python\n",
    "# Ex.\n",
    "import pprint\n",
    "pprint.pprint(os.listdir(os.path.expanduser('~/Desktop')))\n",
    "pprint.pprint(os.listdir('.'))\n",
    "pprint.pprint(os.listdir('..'))\n",
    "```"
   ]
  },
  {
   "cell_type": "code",
   "execution_count": 5,
   "metadata": {},
   "outputs": [
    {
     "name": "stdout",
     "output_type": "stream",
     "text": [
      "('/home/mark/Documents', 'my_data.txt')\n"
     ]
    }
   ],
   "source": []
  },
  {
   "cell_type": "markdown",
   "metadata": {},
   "source": [
    "## Numpy\n",
    "\n",
    "+ A package for scienctific computing\n",
    "+ A more powerful version of lists\n",
    "+ All of the methods are optimized to run fast\n",
    "+ Great for linear algebra, statistical analysis\n",
    "\n",
    "Numpy is not part of Pythons standard libraries and needs to be installed.\n",
    "\n",
    "This can be done using the conda command if you are using Anaconda:\n",
    "\n",
    "```bash\n",
    "conda install numpy\n",
    "```\n",
    "\n",
    "Alternatively this can be done using the built in Python package manager Pip\n",
    "\n",
    "```bash\n",
    "pip install numpy\n",
    "```\n",
    "\n",
    "Once numpy is installed it then needs to be imported to use its functionality\n",
    "\n",
    "```python\n",
    "import numpy as np\n",
    "```"
   ]
  },
  {
   "cell_type": "code",
   "execution_count": null,
   "metadata": {},
   "outputs": [],
   "source": [
    "import numpy as np"
   ]
  },
  {
   "cell_type": "markdown",
   "metadata": {},
   "source": [
    "### Lists recap\n",
    "\n",
    "Lists are created using '[]'\n",
    "\n",
    "```python\n",
    "l1 = [1, 2, 3, 4]\n",
    "```\n",
    "\n",
    "Lists can contain mixed types\n",
    "\n",
    "```python\n",
    "l2 = [1, 'a', {'abs': abs}, (1, 2)]\n",
    "```\n",
    "\n",
    "\n",
    "Lists can be joined using the + operator which creates a new list\n",
    "\n",
    "```python\n",
    "l3 = l1 + l2\n",
    "```\n",
    "\n",
    "Lists can be extended using the .extend() method which happens in place\n",
    "\n",
    "```python\n",
    "l1.extend(l2)\n",
    "```\n",
    "\n",
    "The range() function can be used to initialize numeric lists\n",
    "\n",
    "```python\n",
    "base = list(range(0, 101, 2))\n",
    "```\n",
    "\n",
    "To perform calculations using a list, a for loop is required\n",
    "\n",
    "```python\n",
    "base_squared = []\n",
    "for x in base:\n",
    "    base_squared.append(x**2)\n",
    "```"
   ]
  },
  {
   "cell_type": "code",
   "execution_count": null,
   "metadata": {},
   "outputs": [],
   "source": []
  },
  {
   "cell_type": "markdown",
   "metadata": {},
   "source": [
    "### Creating arrays with Numpy\n",
    "\n",
    "There are a number of ways of creating numpy arrays.\n",
    "\n",
    "##### Converting a regular python list into a numpy array:\n",
    "\n",
    "```python\n",
    "var = np.array(< list >)\n",
    "```\n",
    "\n",
    "This is useful when the original list needs to be constructed from a file. Numpy does not have a simple method to append to lists. For this reason it is sometimes easier to build a normal python list before converting it to a numpy array.\n",
    "\n",
    "```python\n",
    "characters = []\n",
    "for i in range(32, 100):\n",
    "    characters.append(chr(i))\n",
    "print(characters)\n",
    "np_char = np.array(characters)\n",
    "print(np_char)\n",
    "```"
   ]
  },
  {
   "cell_type": "code",
   "execution_count": null,
   "metadata": {},
   "outputs": [],
   "source": []
  },
  {
   "cell_type": "markdown",
   "metadata": {},
   "source": [
    "##### Initializing arrays using numpy\n",
    "\n",
    "1. Creating an array with *n* zeros\n",
    "\n",
    "```python\n",
    "lst = np.zeros(25)\n",
    "lst_2d = np.zeros((5, 5))\n",
    "```\n",
    "\n",
    "2. Creating an array with *n* ones\n",
    "\n",
    "```python\n",
    "lst = np.ones(25)\n",
    "lst_2d = np.ones((5, 5))\n",
    "```\n",
    "\n",
    "3. Using a range(start, end, incriment)\n",
    "\n",
    "```python\n",
    "lst = np.arange(10, 20, 2)\n",
    "```\n",
    "\n",
    "4. Linspace is similar to range - linspace(start, end, number_of_elements) \n",
    "\n",
    "```python\n",
    "lst = np.linspace(10, 20, 2)\n",
    "```\n",
    "\n",
    "5. Filling a list with random numbers between [0, 1)\n",
    "\n",
    "```python\n",
    "lst = np.random.rand(5)\n",
    "lst_2d = np.random.rand((5, 5))\n",
    "```"
   ]
  },
  {
   "cell_type": "markdown",
   "metadata": {},
   "source": [
    "### Numpy mathematical operations\n",
    "\n",
    "Numpy is a tool which simplifies performing linear algebra in Python, for this reason most operations will match linear algebra operations.\n",
    "\n",
    "1. Addition\n",
    "    1. Adding a scalar to a matrix does not follow normal mathematical rules as the scalar is \n",
    "    added to each object in the matrix\n",
    "  \n",
    "    ```\n",
    "    ```\n",
    "        $\n",
    "            \\begin{bmatrix} \n",
    "            a_{0,0} & a_{0,1} & \\cdots & a_{0,n} \\\\\n",
    "            a_{1,0} & a_{1,1} & \\cdots & a_{1,n} \\\\\n",
    "            \\vdots & \\vdots & \\ddots & \\vdots \\\\\n",
    "            a_{m,0} & a_{m,1} & \\cdots & a_{m,n} \\\\\n",
    "            \\end{bmatrix} + C\n",
    "        $\n",
    "        $ =\n",
    "            \\begin{bmatrix} \n",
    "            a_{0,0} + C & a_{0,1} + C & \\cdots & a_{0,n} + C \\\\\n",
    "            a_{1,0} + C & a_{1,1} + C & \\cdots & a_{1,n} + C \\\\\n",
    "            \\vdots & \\vdots & \\ddots & \\vdots \\\\\n",
    "            a_{m,0} + C & a_{m,1} + C & \\cdots & a_{m,n} + C \\\\\n",
    "            \\end{bmatrix}\n",
    "        $\n",
    "\n",
    "    ```python\n",
    "    lst_2d = np.ones((n, m)) + C\n",
    "    ```"
   ]
  },
  {
   "cell_type": "code",
   "execution_count": null,
   "metadata": {},
   "outputs": [],
   "source": []
  },
  {
   "cell_type": "markdown",
   "metadata": {},
   "source": [
    "1. \n",
    "    2. Adding two numpy arrays requires them to have the same shape\n",
    "  \n",
    "    ```\n",
    "    ```\n",
    "        $\n",
    "            \\begin{bmatrix} \n",
    "            a_{0,0} & a_{0,1} & \\cdots & a_{0,n} \\\\\n",
    "            a_{1,0} & a_{1,1} & \\cdots & a_{1,n} \\\\\n",
    "            \\vdots & \\vdots & \\ddots & \\vdots \\\\\n",
    "            a_{m,0} & a_{m,1} & \\cdots & a_{m,n} \\\\\n",
    "            \\end{bmatrix} + \n",
    "            \\begin{bmatrix} \n",
    "            b_{0,0} & b_{0,1} & \\cdots & b_{0,n} \\\\\n",
    "            b_{1,0} & b_{1,1} & \\cdots & b_{1,n} \\\\\n",
    "            \\vdots & \\vdots & \\ddots & \\vdots \\\\\n",
    "            b_{m,0} & b_{m,1} & \\cdots & b_{m,n} \\\\\n",
    "            \\end{bmatrix} =\n",
    "            \\begin{bmatrix} \n",
    "            a_{0,0} + b_{0,0} & a_{0,1} + b_{0,1} & \\cdots & a_{0,n} + b_{0,n} \\\\\n",
    "            a_{1,0} + b_{1,0} & a_{1,1} + b_{1,1} & \\cdots & a_{1,n} + b_{1,n} \\\\\n",
    "            \\vdots & \\vdots & \\ddots & \\vdots \\\\\n",
    "            a_{m,0} + b_{m,0} & a_{m,1} + b_{m,1} & \\cdots & a_{m,n} + b_{m,n} \\\\\n",
    "            \\end{bmatrix}\n",
    "        $\n",
    "\n",
    "    ```python\n",
    "    lst_2d = np.ones((n, m)) + np.ones((n, m))\n",
    "    ```\n",
    "    "
   ]
  },
  {
   "cell_type": "code",
   "execution_count": null,
   "metadata": {},
   "outputs": [],
   "source": []
  },
  {
   "cell_type": "markdown",
   "metadata": {},
   "source": [
    "2. Multiplication\n",
    "    1. By a scalar - each element is multiplied by the scalar\n",
    "  \n",
    "    ```\n",
    "    ```\n",
    "        $\n",
    "            \\begin{bmatrix} \n",
    "            a_{0,0} & a_{0,1} & \\cdots & a_{0,n} \\\\\n",
    "            a_{1,0} & a_{1,1} & \\cdots & a_{1,n} \\\\\n",
    "            \\vdots & \\vdots & \\ddots & \\vdots \\\\\n",
    "            a_{m,0} & a_{m,1} & \\cdots & a_{m,n} \\\\\n",
    "            \\end{bmatrix} * C\n",
    "        $\n",
    "        $ =\n",
    "            \\begin{bmatrix} \n",
    "            a_{0,0} * C & a_{0,1} * C & \\cdots & a_{0,n} * C \\\\\n",
    "            a_{1,0} * C & a_{1,1} * C & \\cdots & a_{1,n} * C \\\\\n",
    "            \\vdots & \\vdots & \\ddots & \\vdots \\\\\n",
    "            a_{m,0} * C & a_{m,1} * C & \\cdots & a_{m,n} * C \\\\\n",
    "            \\end{bmatrix}\n",
    "        $\n",
    "\n",
    "    ```python\n",
    "    lst_2d = np.ones((n, m)) * C\n",
    "    ```"
   ]
  },
  {
   "cell_type": "code",
   "execution_count": null,
   "metadata": {},
   "outputs": [],
   "source": []
  },
  {
   "cell_type": "markdown",
   "metadata": {},
   "source": [
    "2.    \n",
    "    2. Multiplying two equally sized matricies results in element wise multiplication\n",
    "  \n",
    "    ```\n",
    "    ```\n",
    "        $\n",
    "            \\begin{bmatrix} \n",
    "            a_{0,0} & a_{0,1} & \\cdots & a_{0,n} \\\\\n",
    "            a_{1,0} & a_{1,1} & \\cdots & a_{1,n} \\\\\n",
    "            \\vdots & \\vdots & \\ddots & \\vdots \\\\\n",
    "            a_{m,0} & a_{m,1} & \\cdots & a_{m,n} \\\\\n",
    "            \\end{bmatrix} * \n",
    "            \\begin{bmatrix} \n",
    "            b_{0,0} & b_{0,1} & \\cdots & b_{0,n} \\\\\n",
    "            b_{1,0} & b_{1,1} & \\cdots & b_{1,n} \\\\\n",
    "            \\vdots & \\vdots & \\ddots & \\vdots \\\\\n",
    "            b_{m,0} & b_{m,1} & \\cdots & b_{m,n} \\\\\n",
    "            \\end{bmatrix} =\n",
    "            \\begin{bmatrix} \n",
    "            a_{0,0} * b_{0,0} & a_{0,1} * b_{0,1} & \\cdots & a_{0,n} * b_{0,n} \\\\\n",
    "            a_{1,0} * b_{1,0} & a_{1,1} * b_{1,1} & \\cdots & a_{1,n} * b_{1,n} \\\\\n",
    "            \\vdots & \\vdots & \\ddots & \\vdots \\\\\n",
    "            a_{m,0} * b_{m,0} & a_{m,1} * b_{m,1} & \\cdots & a_{m,n} * b_{m,n} \\\\\n",
    "            \\end{bmatrix}\n",
    "        $\n",
    "\n",
    "    ```python\n",
    "    lst_2d = np.ones((n, m)) * np.ones((n, m))\n",
    "    ```\n",
    "    "
   ]
  },
  {
   "cell_type": "code",
   "execution_count": null,
   "metadata": {},
   "outputs": [],
   "source": []
  },
  {
   "cell_type": "markdown",
   "metadata": {},
   "source": [
    "2. \n",
    "    3. Multiplying a n x m matrix with a vector of size n results in each row being multiplied by the vector\n",
    "  \n",
    "    ```\n",
    "    ```\n",
    "        $\n",
    "            \\begin{bmatrix} \n",
    "            a_{0,0} & a_{0,1} & \\cdots & a_{0,n} \\\\\n",
    "            a_{1,0} & a_{1,1} & \\cdots & a_{1,n} \\\\\n",
    "            \\vdots & \\vdots & \\ddots & \\vdots \\\\\n",
    "            a_{m,0} & a_{m,1} & \\cdots & a_{m,n} \\\\\n",
    "            \\end{bmatrix} * \n",
    "            \\begin{bmatrix} \n",
    "            b_{0} & b_{1} & \\cdots & b_{n}\n",
    "            \\end{bmatrix} =\n",
    "            \\begin{bmatrix} \n",
    "            a_{0,0} * b_{0} & a_{0,1} * b_{1} & \\cdots & a_{0,n} * b_{n} \\\\\n",
    "            a_{1,0} * b_{0} & a_{1,1} * b_{1} & \\cdots & a_{1,n} * b_{n} \\\\\n",
    "            \\vdots & \\vdots & \\ddots & \\vdots \\\\\n",
    "            a_{m,0} * b_{0} & a_{m,1} * b_{1} & \\cdots & a_{m,n} * b_{n} \\\\\n",
    "            \\end{bmatrix}\n",
    "        $\n",
    "\n",
    "    ```python\n",
    "    lst_2d = np.ones((6, 5)) * np.array([1, 2, 3, 2, 1])\n",
    "    ```"
   ]
  },
  {
   "cell_type": "code",
   "execution_count": null,
   "metadata": {},
   "outputs": [],
   "source": []
  },
  {
   "cell_type": "markdown",
   "metadata": {},
   "source": [
    "3. Division follows the same rules as multiplication\n",
    "\n",
    "    ```python\n",
    "    lst_2d = np.ones((6, 5)) / np.array([1, 2, 3, 2, 1])\n",
    "    ```\n"
   ]
  },
  {
   "cell_type": "code",
   "execution_count": null,
   "metadata": {},
   "outputs": [],
   "source": []
  },
  {
   "cell_type": "markdown",
   "metadata": {},
   "source": [
    "### Accessing elements/rows/columns\n",
    "\n",
    "\n",
    "##### Constructing a 2d array for demonstration purposes\n",
    "\n",
    "```python\n",
    "lst_2d = np.vstack((np.arange(1, 100, 2), np.arange(100, 1, -2)))\n",
    "```\n",
    "\n",
    "This is a 2D array in which the first row comprises of all the odd numbers between [1 and 99] and the second row comprises the even numbers between [100 and 2]."
   ]
  },
  {
   "cell_type": "code",
   "execution_count": null,
   "metadata": {},
   "outputs": [],
   "source": []
  },
  {
   "cell_type": "markdown",
   "metadata": {},
   "source": [
    "##### Accessing individual values\n",
    "\n",
    "1. Using standard list indexing\n",
    "```python\n",
    "# lst_2d[row_index][column_index]\n",
    "lst_2d[1][2]\n",
    "```\n",
    "\n",
    "2. Numpy has more advanced indexing which allows both values to be specified together\n",
    "```python\n",
    "# lst_2d[row_index, column_index]\n",
    "lst_2d[1, 2]\n",
    "```\n",
    "\n",
    "##### Retrieving a row\n",
    "\n",
    "```python\n",
    "# lst_2d[row_index, :]\n",
    "lst_2d[0, :] # return an array of all the elements in the first row\n",
    "lst_2d[1, :] # return an array of all the elements in the second row\n",
    "```\n",
    "\n",
    "##### Retrieving a column\n",
    "\n",
    "```python\n",
    "# lst_2d[:, column_index]\n",
    "lst_2d[:, 5] # return an array of all the elements in the fifth column\n",
    "lst_2d[:, 20] # return an array of all the elements in the twentieth column\n",
    "```"
   ]
  },
  {
   "cell_type": "code",
   "execution_count": null,
   "metadata": {},
   "outputs": [],
   "source": [
    "lst_2d[:, 5]"
   ]
  },
  {
   "cell_type": "markdown",
   "metadata": {},
   "source": [
    "### A few numpy functions \n",
    "\n",
    "#### Note - There are often two ways of using Numpy functions\n",
    "\n",
    "1. np.<< function >>()\n",
    "2. np_list.<< function >>()\n",
    "\n",
    "#### Example\n",
    "\n",
    "1. Using the np function\n",
    "    ```python\n",
    "lst = np.arange(10)\n",
    "m = np.mean(lst)\n",
    "    ```\n",
    "2. Using the array method\n",
    "    ```python\n",
    "lst = np.arange(10)\n",
    "m = lst.mean()\n",
    "    ```\n",
    "    \n",
    "There are some functions which are only available as one of these two options. But when both are available they are generally interchangable."
   ]
  },
  {
   "cell_type": "code",
   "execution_count": null,
   "metadata": {},
   "outputs": [],
   "source": []
  },
  {
   "cell_type": "markdown",
   "metadata": {},
   "source": [
    "#### Min and Max\n",
    "\n",
    "The names are self explanatory, they will output the minimum and maximum values of the array.\n",
    "\n",
    "##### 1D Arrays\n",
    "\n",
    "```python\n",
    "lst = np.array([21, 19, 11, 17, 20])\n",
    "print(lst.min())\n",
    "print(lst.max())\n",
    "```"
   ]
  },
  {
   "cell_type": "code",
   "execution_count": null,
   "metadata": {},
   "outputs": [],
   "source": []
  },
  {
   "cell_type": "markdown",
   "metadata": {},
   "source": [
    "##### 2D Arrays\n",
    "\n",
    "1. Getting the min and max for the entire 2D array\n",
    "\n",
    "```python\n",
    "# How I generated the random 2D array\n",
    "# lst = np.random.randint(5, 25, (5, 5))\n",
    "lst = np.array(\n",
    "      [[15, 21,  7, 21, 24],\n",
    "       [13, 19, 21, 23,  7],\n",
    "       [ 8, 17, 13, 21, 14],\n",
    "       [11, 16, 20, 20, 12],\n",
    "       [22,  5,  8, 23,  8]]\n",
    ")\n",
    "\n",
    "min_v = lst.min()\n",
    "max_v = lst.max()\n",
    "\n",
    "print('The min is {}'.format(min_v))\n",
    "print('The max is {}'.format(max_v))\n",
    "```"
   ]
  },
  {
   "cell_type": "code",
   "execution_count": null,
   "metadata": {},
   "outputs": [],
   "source": []
  },
  {
   "cell_type": "markdown",
   "metadata": {},
   "source": [
    "Getting the min and max for each column\n",
    "\n",
    "```python\n",
    "lst = np.array(\n",
    "      [[15, 21,  7, 21, 24],\n",
    "       [13, 19, 21, 23,  7],\n",
    "       [ 8, 17, 13, 21, 14],\n",
    "       [11, 16, 20, 20, 12],\n",
    "       [22,  5,  8, 23,  8]]\n",
    ")\n",
    "\n",
    "min_v = lst.min(axis=0)\n",
    "max_v = lst.max(axis=0)\n",
    "\n",
    "print('The min for each column is {}'.format(min_v))\n",
    "print('The max for each column is {}'.format(max_v))\n",
    "\n",
    "```"
   ]
  },
  {
   "cell_type": "code",
   "execution_count": null,
   "metadata": {},
   "outputs": [],
   "source": []
  },
  {
   "cell_type": "markdown",
   "metadata": {},
   "source": [
    "Getting the min and max for each row\n",
    "\n",
    "```python\n",
    "lst = np.array(\n",
    "      [[15, 21,  7, 21, 24],\n",
    "       [13, 19, 21, 23,  7],\n",
    "       [ 8, 17, 13, 21, 14],\n",
    "       [11, 16, 20, 20, 12],\n",
    "       [22,  5,  8, 23,  8]]\n",
    ")\n",
    "\n",
    "min_v = lst.min(axis=1)\n",
    "max_v = lst.max(axis=1)\n",
    "\n",
    "print('The min for each row is {}'.format(min_v))\n",
    "print('The max for each row is {}'.format(max_v))\n",
    "```"
   ]
  },
  {
   "cell_type": "code",
   "execution_count": null,
   "metadata": {},
   "outputs": [],
   "source": []
  },
  {
   "cell_type": "code",
   "execution_count": null,
   "metadata": {},
   "outputs": [],
   "source": []
  },
  {
   "cell_type": "markdown",
   "metadata": {},
   "source": [
    "#### The axis argument\n",
    "```\n",
    "      [[15, 21,  7, 21, 24],  |\n",
    "       [13, 19, 21, 23,  7],  |\n",
    "       [ 8, 17, 13, 21, 14],  | axis = 0\n",
    "       [11, 16, 20, 20, 12],  |\n",
    "       [22,  5,  8, 23,  8]]  V\n",
    "       \n",
    "       ------------------->\n",
    "               axis=1\n",
    "```\n",
    "\n",
    "- axis 0 applies the operation row-wise\n",
    "- axis 1 appries the operation column-wise\n",
    "\n",
    "If the data has a third dimension then axis 2 will apply the function in that dimension and so on..."
   ]
  },
  {
   "cell_type": "markdown",
   "metadata": {},
   "source": [
    "##### Min Max normalization\n",
    "\n",
    "Subtract the minimum value from each element and divide it by the difference between the maximum and the minimum.\n",
    "\n",
    "$$ \\frac{ X - X_{min}}{X_{max} - X_{min}} $$\n",
    "\n",
    "Using numpy it is easy to perform these types of calculations\n",
    "\n",
    "```python\n",
    "lst = np.array([21, 19, 11, 17, 20])\n",
    "lst_norm = (lst - lst.min()) / (lst.max() - lst.min())\n",
    "lst_norm\n",
    "```"
   ]
  },
  {
   "cell_type": "code",
   "execution_count": null,
   "metadata": {},
   "outputs": [],
   "source": []
  },
  {
   "cell_type": "markdown",
   "metadata": {},
   "source": [
    "The same method will also work even if the data is 2 dimensional\n",
    "\n",
    "```python\n",
    "lst = np.array(\n",
    "      [[15, 21,  7, 21, 24],\n",
    "       [13, 19, 21, 23,  7],\n",
    "       [ 8, 17, 13, 21, 14],\n",
    "       [11, 16, 20, 20, 12],\n",
    "       [22,  5,  8, 23,  8]]\n",
    ")\n",
    "lst_norm = (lst - lst.min()) / (lst.max() - lst.min())\n",
    "lst_norm\n",
    "```"
   ]
  },
  {
   "cell_type": "code",
   "execution_count": null,
   "metadata": {},
   "outputs": [],
   "source": []
  },
  {
   "cell_type": "markdown",
   "metadata": {},
   "source": [
    "#### Some additional functions\n",
    "\n",
    "1. mean([axis = 0, 1, ...])\n",
    "  - This will return the mean (row-wise/column-wise/everything)\n",
    "2. std([axis = 0, 1, ...])\n",
    "  - This will return the standard deviation (row-wise/column-wise/everything)\n",
    "3. sum([axis = 0, 1, ...])\n",
    "  - This will the sum (row-wise/column-wise/everything)\n",
    "4. np.concat((np_array, np_array, ...))\n",
    "  - This will combine numpy arrays into a single array\n",
    "\n",
    "These are just a few of the functions which numpy offers. All of the available functions are listed in their documentation [https://docs.scipy.org/doc/numpy-1.15.1/reference/#]"
   ]
  },
  {
   "cell_type": "markdown",
   "metadata": {},
   "source": [
    "### The basics of Seaborn / Matplotlib\n",
    "\n",
    "Just like Numpy, Seaborn is an external library which needs to be installed.\n",
    "\n",
    "This can be done using the conda command if you are using Anaconda:\n",
    "\n",
    "```shell\n",
    "conda install seaborn\n",
    "```\n",
    "\n",
    "Alternatively this can be done using the built in Python package manager Pip\n",
    "\n",
    "```shell\n",
    "pip install seaborn\n",
    "```\n",
    "\n",
    "Once numpy is installed it then needs to be imported to use its functionality.\n",
    "\n",
    "Seaborn will also install Matplotlib so there is no need to install both of them.\n",
    "\n",
    "```python\n",
    "import seaborn as sns\n",
    "import matplotlib.pyplot as plt\n",
    "\n",
    "# If you are in jupyter then you need to tell matplotlib to display the plots in the notebook\n",
    "%matplotlib inline\n",
    "```\n",
    "\n",
    "Matplotlib: \n",
    "+ library for generating plots in Python. \n",
    "+ It is extremely powerful \n",
    "  + every aspect of a plot can be customized \n",
    "+ Unfortunately many of the plots are not very aesthetically pleasing out of the box\n",
    "  \n",
    "Seaborn:\n",
    "+ Uses Matplotlib in the background\n",
    "+ Allows the same customizability that Matplotlib does\n",
    "+ Has options for setting plot themes\n",
    "  + These generally look better than the default Matplotlib plots"
   ]
  },
  {
   "cell_type": "markdown",
   "metadata": {},
   "source": [
    "### Creating a plot using Matplotlib\n",
    "\n",
    "#### Simple line plot\n",
    "\n",
    "Matplotlib needs to be imported before we can use it.\n",
    "\n",
    "\n",
    "As with many of the commonly used libraries it has a name which it is assigned to:\n",
    "+ plt\n",
    "\n",
    "```python\n",
    "import matplotlib.pyplot as plt\n",
    "%matplotlib inline\n",
    "```\n",
    "\n",
    "Matplotlib will work with both regular lists as well as numpy arrays\n",
    "\n",
    "```python\n",
    "# list of numbers to plot\n",
    "lst = [21, 19, 11, 17, 20]\n",
    "\n",
    "plt.plot(lst)\n",
    "plt.show()\n",
    "```"
   ]
  },
  {
   "cell_type": "code",
   "execution_count": null,
   "metadata": {},
   "outputs": [],
   "source": []
  },
  {
   "cell_type": "markdown",
   "metadata": {},
   "source": [
    "#### Adding more lines to the plot\n",
    "\n",
    "```python\n",
    "lst = [21, 19, 11, 17, 20]\n",
    "lst_2 = np.random.randint(5, 25, 5)\n",
    "\n",
    "plt.plot(lst)\n",
    "plt.plot(lst_2)\n",
    "plt.show()\n",
    "```"
   ]
  },
  {
   "cell_type": "code",
   "execution_count": null,
   "metadata": {},
   "outputs": [],
   "source": []
  },
  {
   "cell_type": "markdown",
   "metadata": {},
   "source": [
    "#### Setting plot parameters\n",
    "\n",
    "##### Figure size and labels\n",
    "\n",
    "```python\n",
    "lst = [21, 19, 11, 17, 20]\n",
    "lst_2 = np.random.randint(5, 25, 5)\n",
    "\n",
    "# Setting the size of the plot\n",
    "fig = plt.figure(figsize=(7, 7))\n",
    "\n",
    "# Setting the labels\n",
    "plt.title('Plotting Lines')\n",
    "plt.xlabel('X value')\n",
    "plt.ylabel('Y value')\n",
    "\n",
    "plt.plot(lst)\n",
    "plt.plot(lst_2)\n",
    "\n",
    "plt.show()\n",
    "```"
   ]
  },
  {
   "cell_type": "code",
   "execution_count": null,
   "metadata": {},
   "outputs": [],
   "source": []
  },
  {
   "cell_type": "markdown",
   "metadata": {},
   "source": [
    "###### Setting the range of the X axis\n",
    "\n",
    "+ An array is used to do this\n",
    "+ It must have the same number of elements as the data does\n",
    "+ the plot() function accepts data in different ways\n",
    "  + plot(y < list >) - will plot the list data, the x values will be 0., 1., ...\n",
    "  + plot(x < list >, y < list >) - will plot the data using the x & y coordinates\n",
    "  + plot(mat < list < list > >) - will plot data using columns to differentiate data\n",
    "\n",
    "\n",
    "```python \n",
    "lst = [21, 19, 11, 17, 20]\n",
    "lst_2 = np.random.randint(5, 25, 5)\n",
    "\n",
    "# Setting the size of the plot\n",
    "fig = plt.figure(figsize=(7, 7))\n",
    "\n",
    "# Setting the labels\n",
    "plt.title('Plotting Lines')\n",
    "plt.xlabel('X value')\n",
    "plt.ylabel('Y value')\n",
    "\n",
    "# Define the x axis values\n",
    "x = np.linspace(0, 100, len(lst))\n",
    "\n",
    "# define a 2d array of x, y pairs\n",
    "x_mat = np.vstack((np.linspace(0, 100, 5), np.linspace(0, 100, 5))).T\n",
    "mat = np.vstack((np.random.randint(5, 25, 5), np.random.randint(5, 25, 5))).T\n",
    "\n",
    "plt.plot(lst)\n",
    "plt.plot(x, lst_2)\n",
    "plt.plot(x_mat, mat)\n",
    "\n",
    "plt.show()\n",
    "```"
   ]
  },
  {
   "cell_type": "code",
   "execution_count": null,
   "metadata": {},
   "outputs": [],
   "source": []
  },
  {
   "cell_type": "markdown",
   "metadata": {},
   "source": [
    "#### Customizing the lines\n",
    "\n",
    "```python\n",
    "lst = [21, 19, 11, 17, 20]\n",
    "lst_2 = np.random.randint(5, 25, (5, 3))\n",
    "\n",
    "# Define the x axis values\n",
    "x = np.linspace(0, 100, len(lst))\n",
    "\n",
    "# Setting the size of the plot\n",
    "fig = plt.figure(figsize=(7, 7))\n",
    "\n",
    "# Setting the labels\n",
    "plt.title('Plotting Lines')\n",
    "plt.xlabel('X value')\n",
    "plt.ylabel('Y value')\n",
    "\n",
    "# solid line\n",
    "plt.plot(x, lst, '-')\n",
    "# dashed line\n",
    "plt.plot(x, lst_2[:,0], '--')\n",
    "# dotted line\n",
    "plt.plot(x, lst_2[:,1], ':')\n",
    "# dash dot line\n",
    "plt.plot(x, lst_2[:,2], '-.')\n",
    "\n",
    "plt.show()\n",
    "```"
   ]
  },
  {
   "cell_type": "code",
   "execution_count": null,
   "metadata": {},
   "outputs": [],
   "source": []
  },
  {
   "cell_type": "markdown",
   "metadata": {},
   "source": [
    "##### Changing the line color\n",
    "\n",
    "```python\n",
    "lst = [21, 19, 11, 17, 20]\n",
    "lst_2 = np.random.randint(5, 25, (5, 3))\n",
    "\n",
    "# Define the x axis values\n",
    "x = np.linspace(0, 100, len(lst))\n",
    "\n",
    "# Setting the size of the plot\n",
    "fig = plt.figure(figsize=(7, 7))\n",
    "\n",
    "# Setting the labels\n",
    "plt.title('Plotting Lines')\n",
    "plt.xlabel('X value')\n",
    "plt.ylabel('Y value')\n",
    "\n",
    "# solid line\n",
    "plt.plot(x, lst, '-', c='r')\n",
    "# dashed line\n",
    "plt.plot(x, lst_2[:,0], '--', c='r')\n",
    "# dotted line\n",
    "plt.plot(x, lst_2[:,1], '-', c='b')\n",
    "# dash dot line\n",
    "plt.plot(x, lst_2[:,2], '--', c='b')\n",
    "\n",
    "plt.show()\n",
    "```"
   ]
  },
  {
   "cell_type": "code",
   "execution_count": null,
   "metadata": {},
   "outputs": [],
   "source": []
  },
  {
   "cell_type": "markdown",
   "metadata": {},
   "source": [
    "##### Limiting the axis\n",
    "\n",
    "```python\n",
    "lst = [21, 19, 11, 17, 20]\n",
    "lst_2 = np.random.randint(5, 25, (5, 3))\n",
    "\n",
    "# Define the x axis values\n",
    "x = np.linspace(0, 100, len(lst))\n",
    "\n",
    "# Setting the size of the plot\n",
    "fig = plt.figure(figsize=(7, 7))\n",
    "\n",
    "# Setting the labels\n",
    "plt.title('Plotting Lines')\n",
    "plt.xlabel('X value')\n",
    "plt.ylabel('Y value')\n",
    "\n",
    "# solid line\n",
    "plt.plot(x, lst, '-', c='r')\n",
    "# dashed line\n",
    "plt.plot(x, lst_2[:,0], '--', c='r')\n",
    "# dotted line\n",
    "plt.plot(x, lst_2[:,1], '-', c='b')\n",
    "# dash dot line\n",
    "plt.plot(x, lst_2[:,2], '--', c='b')\n",
    "\n",
    "# Set a limit on the x axis\n",
    "plt.xlim((50, 100))\n",
    "\n",
    "# You could do the same for the y axis\n",
    "\n",
    "plt.show()\n",
    "```"
   ]
  },
  {
   "cell_type": "code",
   "execution_count": null,
   "metadata": {},
   "outputs": [],
   "source": []
  },
  {
   "cell_type": "markdown",
   "metadata": {},
   "source": [
    "##### Figure Legends\n",
    "\n",
    "```python\n",
    "#### lst = [21, 19, 11, 17, 20]\n",
    "lst_2 = np.random.randint(5, 25, (5, 3))\n",
    "\n",
    "# Define the x axis values\n",
    "x = np.linspace(0, 100, len(lst))\n",
    "\n",
    "# Setting the size of the plot\n",
    "fig = plt.figure(figsize=(7, 7))\n",
    "\n",
    "# Setting the labels\n",
    "plt.title('Plotting Lines')\n",
    "plt.xlabel('X value')\n",
    "plt.ylabel('Y value')\n",
    "\n",
    "# solid line\n",
    "plt.plot(x, lst, '-', c='r', label='red solid')\n",
    "# dashed line\n",
    "plt.plot(x, lst_2[:,0], '--', c='r', label='red dash')\n",
    "# dotted line\n",
    "plt.plot(x, lst_2[:,1], '-', c='b', label='blue solid')\n",
    "# dash dot line\n",
    "plt.plot(x, lst_2[:,2], '--', c='b', label='blue dash')\n",
    "\n",
    "# Set a limit on the x axis\n",
    "plt.xlim((50, 100))\n",
    "\n",
    "# You could do the same for the y axis\n",
    "\n",
    "#Add the legend\n",
    "plt.legend()\n",
    "\n",
    "plt.show()\n",
    "```"
   ]
  },
  {
   "cell_type": "code",
   "execution_count": null,
   "metadata": {},
   "outputs": [],
   "source": []
  },
  {
   "cell_type": "markdown",
   "metadata": {},
   "source": [
    "#### Histograms\n",
    "\n",
    "We can start by generating some random numbers\n",
    "\n",
    "```python\n",
    "mu, sigma = 0, 0.5 # mean, standard deviation\n",
    "\n",
    "lst = np.random.normal(mu, sigma, 1000)\n",
    "```"
   ]
  },
  {
   "cell_type": "code",
   "execution_count": null,
   "metadata": {},
   "outputs": [],
   "source": []
  },
  {
   "cell_type": "markdown",
   "metadata": {},
   "source": [
    "Using the random numbers it is easy to generate a histogram.\n",
    "\n",
    "```python\n",
    "fig = plt.figure(figsize=(8, 5))\n",
    "\n",
    "plt.hist(lst)\n",
    "\n",
    "plt.show()\n",
    "```"
   ]
  },
  {
   "cell_type": "code",
   "execution_count": null,
   "metadata": {},
   "outputs": [],
   "source": []
  },
  {
   "cell_type": "markdown",
   "metadata": {},
   "source": [
    "##### Customizing the histogram\n",
    "\n",
    "Some additional arguments for the histogram function [https://matplotlib.org/api/_as_gen/matplotlib.axes.Axes.hist.html#matplotlib.axes.Axes.hist]\n",
    "\n"
   ]
  },
  {
   "cell_type": "code",
   "execution_count": null,
   "metadata": {},
   "outputs": [],
   "source": [
    "help(plt.hist)"
   ]
  },
  {
   "cell_type": "code",
   "execution_count": null,
   "metadata": {},
   "outputs": [],
   "source": [
    "fig = plt.figure(figsize=(8, 5))\n",
    "# We can make changes here\n",
    "plt.hist(lst, )\n",
    "\n",
    "plt.show()"
   ]
  },
  {
   "cell_type": "markdown",
   "metadata": {},
   "source": [
    "#### Scatter plots\n",
    "\n",
    "Start by generating random x, y pairs between 0 and 100\n",
    "```python\n",
    "mat = np.random.randint(0, 100, (100, 2))\n",
    "```"
   ]
  },
  {
   "cell_type": "code",
   "execution_count": null,
   "metadata": {},
   "outputs": [],
   "source": []
  },
  {
   "cell_type": "markdown",
   "metadata": {},
   "source": [
    "Make a scatter plot\n",
    "\n",
    "```python\n",
    "fig = plt.figure(figsize=(5, 5))\n",
    "\n",
    "plt.scatter(mat[:,0], mat[:,1])\n",
    "\n",
    "plt.show()\n",
    "```"
   ]
  },
  {
   "cell_type": "code",
   "execution_count": null,
   "metadata": {},
   "outputs": [],
   "source": []
  },
  {
   "cell_type": "code",
   "execution_count": null,
   "metadata": {},
   "outputs": [],
   "source": [
    "help(plt.scatter)"
   ]
  },
  {
   "cell_type": "code",
   "execution_count": null,
   "metadata": {},
   "outputs": [],
   "source": [
    "fig = plt.figure(figsize=(5, 5))\n",
    "\n",
    "# Add some additional arguments\n",
    "plt.scatter(mat[:,0], mat[:,1])\n",
    "\n",
    "plt.show()"
   ]
  },
  {
   "cell_type": "markdown",
   "metadata": {},
   "source": [
    "#### Displaying 2D continuous data\n",
    "\n",
    "Generate some data to display\n",
    "\n",
    "```python\n",
    "mu, sigma = 0, 500\n",
    "\n",
    "mat = np.random.normal(mu, sigma, (50000, 2))\n",
    "\n",
    "H, xe, ye =  np.histogram2d(mat[:,0], mat[:,1], bins=(100, 100))\n",
    "\n",
    "```\n",
    "\n",
    "plot the data\n",
    "\n",
    "\n",
    "```python\n",
    "fig = plt.figure(figsize=(8, 8))\n",
    "\n",
    "plt.imshow(H)\n",
    "\n",
    "plt.show()\n",
    "```"
   ]
  },
  {
   "cell_type": "code",
   "execution_count": null,
   "metadata": {},
   "outputs": [],
   "source": []
  }
 ],
 "metadata": {
  "anaconda-cloud": {},
  "kernelspec": {
   "display_name": "Python 3",
   "language": "python",
   "name": "python3"
  },
  "language_info": {
   "codemirror_mode": {
    "name": "ipython",
    "version": 3
   },
   "file_extension": ".py",
   "mimetype": "text/x-python",
   "name": "python",
   "nbconvert_exporter": "python",
   "pygments_lexer": "ipython3",
   "version": "3.6.6"
  }
 },
 "nbformat": 4,
 "nbformat_minor": 1
}
