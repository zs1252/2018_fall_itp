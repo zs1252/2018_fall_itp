{
 "cells": [
  {
   "cell_type": "markdown",
   "metadata": {
    "slideshow": {
     "slide_type": "notes"
    }
   },
   "source": [
    "# Introduction to Python - Lecture 07 (29Oct 2018)\n",
    "\n",
    "### Agenda for today:\n",
    "+ Working with files and filesystem:\n",
    "    - basics of file handling in python\n",
    "+ Introduction to Numpy\n",
    "+ Introduction to Pandas\n",
    "+ Introduction to Seaborn"
   ]
  },
  {
   "cell_type": "markdown",
   "metadata": {
    "collapsed": true
   },
   "source": [
    "# Data Persistence\n",
    "\n",
    "+ Files\n",
    "    + **<font color='blue'>\\*.txt**</font>, \\*.xml, *.json\n",
    "    + \\*.csv, \\*.tab, *.xlsx (covered later, with pandas)\n",
    "+ Databases (covered later in thhe course), when you want to capture relationships between data / entities"
   ]
  },
  {
   "cell_type": "markdown",
   "metadata": {},
   "source": [
    "# Built-in *<font color='blue'>file</font>* object\n",
    "\n",
    "+ Basic format:\n",
    "```python\n",
    "fh = open('<filename>', '<mode>')   # Creates a file object fh\n",
    "```\n",
    "+ *filename* can be _**absolute**_ or _**relative**_\n",
    "+ *mode*: {'r', 'w', 'a'}; Default='r'\n",
    "+ 'r': open file for reading if exists, else **<font color='blue'>FileNotFoundError</font>**\n",
    "+ 'w': open new file for writing; overwrite if exists; use 'a' to avoid overwriting\n",
    "\n",
    "```python\n",
    "fh = open('data/data.txt')\n",
    "type(fh)\n",
    "dir(fh)\n",
    "```\n",
    "\n",
    "+ If the file does not exist, open will raise a **FileNotFound** error with traceback\n",
    "\n",
    "**Notes**:\n",
    "+ *fh* is not the file itself, but a handle/reference to it. Use it to do desired operations (read/write).\n",
    "<br />  \n",
    "![alt text](filehandle.svg)\n",
    "<br />\n",
    "+ <font color='blue'>Some additional mode options: 'rb', 'wb' for reading and writing binary files; '+' to open the file for both reading and writing."
   ]
  },
  {
   "cell_type": "code",
   "execution_count": null,
   "metadata": {},
   "outputs": [],
   "source": []
  },
  {
   "cell_type": "markdown",
   "metadata": {},
   "source": [
    "# Reading from Files in \"text mode\"\n",
    "+ File content is always read in as strings  \n",
    "<br />\n",
    "+ Here are the **most common approaches**:\n",
    "\n",
    "    - **Read all data at once as a string**\n",
    "\n",
    "    ```python\n",
    "    import pprint\n",
    "    fh = open('data/data.txt', 'r')\n",
    "    data = fh.read()              # to read in all data as one big string\n",
    "    print(type(data), '\\n\\n')\n",
    "    print(data)\n",
    "    print('\\n', data.split('\\n'))   # split the big string on new line character (\\n); '\\r\\n' on windows\n",
    "    ```"
   ]
  },
  {
   "cell_type": "code",
   "execution_count": null,
   "metadata": {},
   "outputs": [],
   "source": []
  },
  {
   "cell_type": "markdown",
   "metadata": {},
   "source": [
    "+ **file pointers and *<font color='blue'>seek</font>* operation**\n",
    "\n",
    "    ```python\n",
    "data_read_again = fh.read()        # can't read more without resetting the read pointer\n",
    "print(\"length of data_read_again is: \", len(data_read_again))\n",
    "fh.seek(0, 0)          # reset the pointer to beginning of the file: fh.seek(offset, from_what)\n",
    "                       # https://docs.python.org/3/tutorial/inputoutput.html\n",
    "data_now = fh.read()\n",
    "print(data_now)\n",
    "```"
   ]
  },
  {
   "cell_type": "code",
   "execution_count": null,
   "metadata": {},
   "outputs": [],
   "source": []
  },
  {
   "cell_type": "markdown",
   "metadata": {},
   "source": [
    "+ **Read individual lines as strings**\n",
    "```python\n",
    "fh.seek(0, 0)\n",
    "data = fh.readlines()       # returns list of strings\n",
    "print(type(data), \"\\n\\n\")   # check out the \\n newline character at the end of lines\n",
    "print(data)         # (\\r\\n on windows machines)\n",
    "```"
   ]
  },
  {
   "cell_type": "code",
   "execution_count": null,
   "metadata": {},
   "outputs": [],
   "source": []
  },
  {
   "cell_type": "markdown",
   "metadata": {},
   "source": [
    "+ **Iterate over large files**\n",
    "```python\n",
    "fh.seek(0, 0)\n",
    "for line in fh:           # 'fh' is iterable; use in iteration context for efficient\n",
    "    print(len(line), line)  # reading of large files\n",
    "fh.close()                # close file; good practice (esp. when writing files)\n",
    "```"
   ]
  },
  {
   "cell_type": "code",
   "execution_count": null,
   "metadata": {},
   "outputs": [],
   "source": []
  },
  {
   "cell_type": "markdown",
   "metadata": {},
   "source": [
    "+ **Context manager**\n",
    "```python\n",
    "with open('data/data.txt', 'r') as fh:  # Context-manager; automatically closes the file\n",
    "    for line in fh:\n",
    "        print(line)\n",
    "print('\\nFile closed? : ', fh.closed)\n",
    "```"
   ]
  },
  {
   "cell_type": "code",
   "execution_count": null,
   "metadata": {},
   "outputs": [],
   "source": []
  },
  {
   "cell_type": "markdown",
   "metadata": {},
   "source": [
    "# Writing to Files in \"text mode\"\n",
    "+ Like reading, writing is also done as strings\n",
    "<br />\n",
    "+ Here are the **most common approaches**:\n",
    "\n",
    "```python\n",
    "fh = open('data/fresh.txt', 'w')           # Open a new file in write mode\n",
    "fh.write('This is the 1st line\\n')    # Write a line; \n",
    "                                      # Note that newline chars must be explicitly added\n",
    "fh.close()\n",
    "```\n",
    "\n"
   ]
  },
  {
   "cell_type": "code",
   "execution_count": null,
   "metadata": {},
   "outputs": [],
   "source": []
  },
  {
   "cell_type": "markdown",
   "metadata": {},
   "source": [
    "+ **Flushing buffers**\n",
    "\n",
    "```python\n",
    "fh = open('data/fresh.txt', 'a')           # Open the earlier file in 'append' mode\n",
    "                                      #    to avoid overwriting\n",
    "fh.write('This is the 2nd line\\n')    # Write a line; \n",
    "                                      # Note that newline chars must be explicitly added\n",
    "fh.flush()                            # Clears the buffer\n",
    "```"
   ]
  },
  {
   "cell_type": "code",
   "execution_count": null,
   "metadata": {},
   "outputs": [],
   "source": []
  },
  {
   "cell_type": "markdown",
   "metadata": {},
   "source": [
    "+ **Write multiple lines at once**\n",
    "\n",
    "```python\n",
    "fh.writelines(['This is the 3rd line\\n', 'This is the 4th line\\n'])   # Note the newline\n",
    "fh.flush()\n",
    "```"
   ]
  },
  {
   "cell_type": "code",
   "execution_count": null,
   "metadata": {
    "collapsed": true
   },
   "outputs": [],
   "source": []
  },
  {
   "cell_type": "markdown",
   "metadata": {},
   "source": [
    "+ **Write iteratively**\n",
    "\n",
    "```python\n",
    "more_lines = ['5th line', '6th line', '7th line']\n",
    "\n",
    "for line in more_lines:       # iteration context\n",
    "    fh.write(line + '\\n')\n",
    "    fh.flush()                # Don't need to add flush after every write: inefficient; let python handle it\n",
    "fh.close()\n",
    "```\n",
    "\n"
   ]
  },
  {
   "cell_type": "code",
   "execution_count": null,
   "metadata": {
    "collapsed": true
   },
   "outputs": [],
   "source": []
  },
  {
   "cell_type": "markdown",
   "metadata": {},
   "source": [
    "### There are specialized modules to work with specific file formats:\n",
    "1. csv (comma-separated values)\n",
    "2. xlrd (excel documents): **pip install** xlrd OR **conda install** xlrd\n",
    "3. json (hierarchical text-based format like python dictionares)\n",
    "4. yaml (another hierarchical text-based format like json): **pip install** pyyaml OR **conda install** pyyaml\n",
    "5. pandas (works with csv, tsv, xls and many more formats): **pip install pandas** OR **conda install pandas**"
   ]
  },
  {
   "cell_type": "markdown",
   "metadata": {},
   "source": [
    "## os.path module\n",
    "```python\n",
    "import os\n",
    "dir(os.path)  # Note that path is another module that os module imports. \n",
    "              # When we import os, path becomes available as a module variable within os namespace.\n",
    "              # --> module / namespace hierarchy\n",
    "```\n",
    "+ **path parsing:**\n",
    "    - os.path.split(<path_str>):\n",
    "    - os.path.splitext(<path_str>) \n",
    "```python\n",
    "# Ex.\n",
    "print(os.path.split('/Users/groveh01/Documents/my_data.txt'))\n",
    "print(os.path.splitext('my_data.txt'))\n",
    "```\n",
    "+ **path building:**\n",
    "    - os.path.join(<path_components>)\n",
    "```python\n",
    "# Ex.\n",
    "print(os.path.join('/Users', 'groveh01', 'Documents', 'Teaching'))\n",
    "```\n",
    "+ **common tests:**\n",
    "    - os.path.<test>, where test = {isdir(), isfile(), exists(), ...}\n",
    "```python\n",
    "# Ex.\n",
    "print(os.path.isdir('data/data.txt'))\n",
    "print(os.path.isfile('data/data.txt')\n",
    "print(os.path.exists('data')\n",
    "print(os.path.exists('data.txt')\n",
    "print(os.path.exists('/Users/groveh01')\n",
    "```\n",
    "+ **listing contents of a dir:**\n",
    "    - os.listdir\n",
    "```python\n",
    "# Ex.\n",
    "import pprint\n",
    "pprint.pprint(os.listdir('/Users/groveh01'))\n",
    "pprint.pprint(os.listdir('.'))\n",
    "pprint.pprint(os.listdir('..'))\n",
    "```"
   ]
  },
  {
   "cell_type": "markdown",
   "metadata": {},
   "source": [
    "## Numpy\n",
    "\n",
    "+ A package for scienctific computing\n",
    "+ A more powerful version of lists\n",
    "+ All of the methods are optimized to run fast\n",
    "+ Great for linear algebra, statistical analysis\n",
    "\n",
    "Numpy is not part of Pythons standard libraries and needs to be installed.\n",
    "\n",
    "This can be done using the conda command if you are using Anaconda:\n",
    "\n",
    "```bash\n",
    "conda install numpy\n",
    "```\n",
    "\n",
    "Alternatively this can be done using the built in Python package manager Pip\n",
    "\n",
    "```bash\n",
    "pip install numpy\n",
    "```\n",
    "\n",
    "Once numpy is installed it then needs to be imported to use its functionality\n",
    "\n",
    "```python\n",
    "import numpy as np\n",
    "```"
   ]
  },
  {
   "cell_type": "code",
   "execution_count": 7,
   "metadata": {},
   "outputs": [],
   "source": [
    "import numpy as np"
   ]
  },
  {
   "cell_type": "markdown",
   "metadata": {},
   "source": [
    "### Lists recap\n",
    "\n",
    "Lists are created using '[]'\n",
    "\n",
    "```python\n",
    "l1 = [1, 2, 3, 4]\n",
    "```\n",
    "\n",
    "Lists can contain mixed types\n",
    "\n",
    "```python\n",
    "l2 = [1, 'a', {'abs': abs}, (1, 2)]\n",
    "```\n",
    "\n",
    "\n",
    "Lists can be joined using the + operator which creates a new list\n",
    "\n",
    "```python\n",
    "l3 = l1 + l2\n",
    "```\n",
    "\n",
    "Lists can be extended using the .extend() method which happens in place\n",
    "\n",
    "```python\n",
    "l1.extend(l2)\n",
    "```\n",
    "\n",
    "The range() function can be used to initialize numeric lists\n",
    "\n",
    "```python\n",
    "base = list(range(0, 101, 2))\n",
    "```\n",
    "\n",
    "To perform calculations using a list, a for loop is required\n",
    "\n",
    "```python\n",
    "base_squared = []\n",
    "for x in base:\n",
    "    base_squared.append(x**2)\n",
    "```"
   ]
  },
  {
   "cell_type": "code",
   "execution_count": null,
   "metadata": {},
   "outputs": [],
   "source": []
  },
  {
   "cell_type": "markdown",
   "metadata": {},
   "source": [
    "### Creating Arrays with Numpy\n",
    "\n",
    "There are a number of ways of creating numpy arrays.\n",
    "\n",
    "##### Converting a regular python list into a numpy array:\n",
    "\n",
    "```python\n",
    "var = np.array(< list >)\n",
    "```\n",
    "\n",
    "This is useful when the original list needs to be constructed from a file. Numpy does not have a simple method to append to lists. For this reason it is sometimes easier to build a normal python list before converting it to a numpy array.\n",
    "\n",
    "```python\n",
    "characters = []\n",
    "for i in range(32, 100):\n",
    "    characters.append(chr(i))\n",
    "print(characters)\n",
    "np_char = np.array(characters)\n",
    "print(np_char)\n",
    "```"
   ]
  },
  {
   "cell_type": "code",
   "execution_count": null,
   "metadata": {},
   "outputs": [],
   "source": []
  },
  {
   "cell_type": "markdown",
   "metadata": {},
   "source": [
    "##### Initializing arrays using numpy\n",
    "\n",
    "1. Creating an array with *n* zeros\n",
    "\n",
    "```python\n",
    "lst = np.zeros(25)\n",
    "lst_2d = np.zeros((5, 5))\n",
    "```\n",
    "\n",
    "2. Creating an array with *n* ones\n",
    "\n",
    "```python\n",
    "lst = np.ones(25)\n",
    "lst_2d = np.ones((5, 5))\n",
    "```\n",
    "\n",
    "3. Using a range(start, end, incriment)\n",
    "\n",
    "```python\n",
    "lst = np.arange(10, 20, 2)\n",
    "```\n",
    "\n",
    "4. Linspace is similar to range - linspace(start, end, number_of_elements) \n",
    "\n",
    "```python\n",
    "lst = np.linspace(10, 20, 2)\n",
    "```\n",
    "\n",
    "5. Filling a list with random numbers between [0, 1)\n",
    "\n",
    "```python\n",
    "lst = np.random.rand(5)\n",
    "lst_2d = np.random.rand((5, 5))\n",
    "```"
   ]
  },
  {
   "cell_type": "markdown",
   "metadata": {},
   "source": [
    "##### Mathimatical operations\n",
    "\n",
    "Numpy is a tool which simplifies performing linear algebra in Python, for this reason most operations will match linear algebra operations.\n",
    "\n",
    "1. Addition\n",
    "    1. Adding a scalar to a matrix does not follow normal mathematical rules as the scalar is \n",
    "    added to each object in the matrix\n",
    "  \n",
    "    ```\n",
    "    ```\n",
    "        $\n",
    "            \\begin{bmatrix} \n",
    "            a_{0,0} & a_{0,1} & \\cdots & a_{0,n} \\\\\n",
    "            a_{1,0} & a_{1,1} & \\cdots & a_{1,n} \\\\\n",
    "            \\vdots & \\vdots & \\ddots & \\vdots \\\\\n",
    "            a_{m,0} & a_{m,1} & \\cdots & a_{m,n} \\\\\n",
    "            \\end{bmatrix} + C\n",
    "        $\n",
    "        $ =\n",
    "            \\begin{bmatrix} \n",
    "            a_{0,0} + C & a_{0,1} + C & \\cdots & a_{0,n} + C \\\\\n",
    "            a_{1,0} + C & a_{1,1} + C & \\cdots & a_{1,n} + C \\\\\n",
    "            \\vdots & \\vdots & \\ddots & \\vdots \\\\\n",
    "            a_{m,0} + C & a_{m,1} + C & \\cdots & a_{m,n} + C \\\\\n",
    "            \\end{bmatrix}\n",
    "        $\n",
    "\n",
    "    ```python\n",
    "    lst_2d = np.ones((n, m)) + C\n",
    "    ```"
   ]
  },
  {
   "cell_type": "code",
   "execution_count": null,
   "metadata": {},
   "outputs": [],
   "source": []
  },
  {
   "cell_type": "markdown",
   "metadata": {},
   "source": [
    "1. \n",
    "    2. Adding two numpy arrays requires them to have the same shape\n",
    "  \n",
    "    ```\n",
    "    ```\n",
    "        $\n",
    "            \\begin{bmatrix} \n",
    "            a_{0,0} & a_{0,1} & \\cdots & a_{0,n} \\\\\n",
    "            a_{1,0} & a_{1,1} & \\cdots & a_{1,n} \\\\\n",
    "            \\vdots & \\vdots & \\ddots & \\vdots \\\\\n",
    "            a_{m,0} & a_{m,1} & \\cdots & a_{m,n} \\\\\n",
    "            \\end{bmatrix} + \n",
    "            \\begin{bmatrix} \n",
    "            b_{0,0} & b_{0,1} & \\cdots & b_{0,n} \\\\\n",
    "            b_{1,0} & b_{1,1} & \\cdots & b_{1,n} \\\\\n",
    "            \\vdots & \\vdots & \\ddots & \\vdots \\\\\n",
    "            b_{m,0} & b_{m,1} & \\cdots & b_{m,n} \\\\\n",
    "            \\end{bmatrix} =\n",
    "            \\begin{bmatrix} \n",
    "            a_{0,0} + b_{0,0} & a_{0,1} + b_{0,1} & \\cdots & a_{0,n} + b_{0,n} \\\\\n",
    "            a_{1,0} + b_{1,0} & a_{1,1} + b_{1,1} & \\cdots & a_{1,n} + b_{1,n} \\\\\n",
    "            \\vdots & \\vdots & \\ddots & \\vdots \\\\\n",
    "            a_{m,0} + b_{m,0} & a_{m,1} + b_{m,1} & \\cdots & a_{m,n} + b_{m,n} \\\\\n",
    "            \\end{bmatrix}\n",
    "        $\n",
    "\n",
    "    ```python\n",
    "    lst_2d = np.ones((n, m)) + np.ones((n, m))\n",
    "    ```\n",
    "    "
   ]
  },
  {
   "cell_type": "code",
   "execution_count": null,
   "metadata": {},
   "outputs": [],
   "source": []
  },
  {
   "cell_type": "markdown",
   "metadata": {},
   "source": [
    "2. Multiplication\n",
    "    1. By a scalar - each element is multiplied by the scalar\n",
    "  \n",
    "    ```\n",
    "    ```\n",
    "        $\n",
    "            \\begin{bmatrix} \n",
    "            a_{0,0} & a_{0,1} & \\cdots & a_{0,n} \\\\\n",
    "            a_{1,0} & a_{1,1} & \\cdots & a_{1,n} \\\\\n",
    "            \\vdots & \\vdots & \\ddots & \\vdots \\\\\n",
    "            a_{m,0} & a_{m,1} & \\cdots & a_{m,n} \\\\\n",
    "            \\end{bmatrix} * C\n",
    "        $\n",
    "        $ =\n",
    "            \\begin{bmatrix} \n",
    "            a_{0,0} * C & a_{0,1} * C & \\cdots & a_{0,n} * C \\\\\n",
    "            a_{1,0} * C & a_{1,1} * C & \\cdots & a_{1,n} * C \\\\\n",
    "            \\vdots & \\vdots & \\ddots & \\vdots \\\\\n",
    "            a_{m,0} * C & a_{m,1} * C & \\cdots & a_{m,n} * C \\\\\n",
    "            \\end{bmatrix}\n",
    "        $\n",
    "\n",
    "    ```python\n",
    "    lst_2d = np.ones((n, m)) * C\n",
    "    ```"
   ]
  },
  {
   "cell_type": "code",
   "execution_count": null,
   "metadata": {},
   "outputs": [],
   "source": []
  },
  {
   "cell_type": "markdown",
   "metadata": {},
   "source": [
    "2.    \n",
    "    2. Multiplying two equally sized matricies results in element wise multiplication\n",
    "  \n",
    "    ```\n",
    "    ```\n",
    "        $\n",
    "            \\begin{bmatrix} \n",
    "            a_{0,0} & a_{0,1} & \\cdots & a_{0,n} \\\\\n",
    "            a_{1,0} & a_{1,1} & \\cdots & a_{1,n} \\\\\n",
    "            \\vdots & \\vdots & \\ddots & \\vdots \\\\\n",
    "            a_{m,0} & a_{m,1} & \\cdots & a_{m,n} \\\\\n",
    "            \\end{bmatrix} * \n",
    "            \\begin{bmatrix} \n",
    "            b_{0,0} & b_{0,1} & \\cdots & b_{0,n} \\\\\n",
    "            b_{1,0} & b_{1,1} & \\cdots & b_{1,n} \\\\\n",
    "            \\vdots & \\vdots & \\ddots & \\vdots \\\\\n",
    "            b_{m,0} & b_{m,1} & \\cdots & b_{m,n} \\\\\n",
    "            \\end{bmatrix} =\n",
    "            \\begin{bmatrix} \n",
    "            a_{0,0} * b_{0,0} & a_{0,1} * b_{0,1} & \\cdots & a_{0,n} * b_{0,n} \\\\\n",
    "            a_{1,0} * b_{1,0} & a_{1,1} * b_{1,1} & \\cdots & a_{1,n} * b_{1,n} \\\\\n",
    "            \\vdots & \\vdots & \\ddots & \\vdots \\\\\n",
    "            a_{m,0} * b_{m,0} & a_{m,1} * b_{m,1} & \\cdots & a_{m,n} * b_{m,n} \\\\\n",
    "            \\end{bmatrix}\n",
    "        $\n",
    "\n",
    "    ```python\n",
    "    lst_2d = np.ones((n, m)) * np.ones((n, m))\n",
    "    ```\n",
    "    "
   ]
  },
  {
   "cell_type": "code",
   "execution_count": null,
   "metadata": {},
   "outputs": [],
   "source": []
  },
  {
   "cell_type": "markdown",
   "metadata": {},
   "source": [
    "2. \n",
    "    3. Multiplying a n x m matrix with a vector of size n results in each row being multiplied by the vector\n",
    "  \n",
    "    ```\n",
    "    ```\n",
    "        $\n",
    "            \\begin{bmatrix} \n",
    "            a_{0,0} & a_{0,1} & \\cdots & a_{0,n} \\\\\n",
    "            a_{1,0} & a_{1,1} & \\cdots & a_{1,n} \\\\\n",
    "            \\vdots & \\vdots & \\ddots & \\vdots \\\\\n",
    "            a_{m,0} & a_{m,1} & \\cdots & a_{m,n} \\\\\n",
    "            \\end{bmatrix} * \n",
    "            \\begin{bmatrix} \n",
    "            b_{0} & b_{1} & \\cdots & b_{n}\n",
    "            \\end{bmatrix} =\n",
    "            \\begin{bmatrix} \n",
    "            a_{0,0} * b_{0} & a_{0,1} * b_{1} & \\cdots & a_{0,n} * b_{n} \\\\\n",
    "            a_{1,0} * b_{0} & a_{1,1} * b_{1} & \\cdots & a_{1,n} * b_{n} \\\\\n",
    "            \\vdots & \\vdots & \\ddots & \\vdots \\\\\n",
    "            a_{m,0} * b_{0} & a_{m,1} * b_{1} & \\cdots & a_{m,n} * b_{n} \\\\\n",
    "            \\end{bmatrix}\n",
    "        $\n",
    "\n",
    "    ```python\n",
    "    lst_2d = np.ones((6, 5)) * np.array([1, 2, 3, 2, 1])\n",
    "    ```"
   ]
  },
  {
   "cell_type": "code",
   "execution_count": null,
   "metadata": {},
   "outputs": [],
   "source": []
  },
  {
   "cell_type": "markdown",
   "metadata": {},
   "source": [
    "3. Division follows the same rules as multiplication\n",
    "\n",
    "    ```python\n",
    "    lst_2d = np.ones((6, 5)) / np.array([1, 2, 3, 2, 1])\n",
    "    ```\n"
   ]
  },
  {
   "cell_type": "code",
   "execution_count": null,
   "metadata": {},
   "outputs": [],
   "source": []
  },
  {
   "cell_type": "markdown",
   "metadata": {},
   "source": [
    "#### Accessing elements/rows/columns\n",
    "\n",
    "\n",
    "##### Constructing a 2d array for demonstration purposes\n",
    "\n",
    "```python\n",
    "lst_2d = np.vstack((np.arange(1, 100, 2), np.arange(100, 1, -2)))\n",
    "```\n",
    "\n",
    "This is a 2D array in which the first row comprises of all the odd numbers between [1 and 99] and the second row comprises the even numbers between [100 and 2]."
   ]
  },
  {
   "cell_type": "code",
   "execution_count": 107,
   "metadata": {},
   "outputs": [],
   "source": []
  },
  {
   "cell_type": "markdown",
   "metadata": {},
   "source": [
    "##### Accessing individual values\n",
    "\n",
    "1. Using standard list indexing\n",
    "```python\n",
    "# lst_2d[row_index][column_index]\n",
    "lst_2d[1][2]\n",
    "```\n",
    "\n",
    "2. Numpy has more advanced indexing which allows both values to be specified together\n",
    "```python\n",
    "# lst_2d[row_index, column_index]\n",
    "lst_2d[1, 2]\n",
    "```\n",
    "\n",
    "##### Retrieving a row\n",
    "\n",
    "```python\n",
    "# lst_2d[row_index, :]\n",
    "lst_2d[0, :] # return an array of all the elements in the first row\n",
    "lst_2d[1, :] # return an array of all the elements in the second row\n",
    "```\n",
    "\n",
    "##### Retrieving a column\n",
    "\n",
    "```python\n",
    "# lst_2d[:, column_index]\n",
    "lst_2d[:, 5] # return an array of all the elements in the fifth column\n",
    "lst_2d[:, 20] # return an array of all the elements in the twentieth column\n",
    "```"
   ]
  },
  {
   "cell_type": "code",
   "execution_count": 117,
   "metadata": {},
   "outputs": [
    {
     "data": {
      "text/plain": [
       "array([11, 90])"
      ]
     },
     "execution_count": 117,
     "metadata": {},
     "output_type": "execute_result"
    }
   ],
   "source": [
    "lst_2d[:, 5]"
   ]
  }
 ],
 "metadata": {
  "anaconda-cloud": {},
  "kernelspec": {
   "display_name": "Python 3",
   "language": "python",
   "name": "python3"
  },
  "language_info": {
   "codemirror_mode": {
    "name": "ipython",
    "version": 3
   },
   "file_extension": ".py",
   "mimetype": "text/x-python",
   "name": "python",
   "nbconvert_exporter": "python",
   "pygments_lexer": "ipython3",
   "version": "3.6.6"
  }
 },
 "nbformat": 4,
 "nbformat_minor": 1
}
