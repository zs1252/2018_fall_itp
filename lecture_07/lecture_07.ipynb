{
 "cells": [
  {
   "cell_type": "markdown",
   "metadata": {
    "slideshow": {
     "slide_type": "notes"
    }
   },
   "source": [
    "# Introduction to Python - Lecture 07 (24 Oct 2018)\n",
    "\n",
    "### Agenda for today:\n",
    "+ m/z calculation example from lecture 05\n",
    "+ similarity matching example from lecture 06\n",
    "+ Working with files and filesystem:\n",
    "    - basics of file handling in python\n",
    "    - Example - weblog analytics\n",
    "+ log aggregation example"
   ]
  },
  {
   "cell_type": "markdown",
   "metadata": {
    "collapsed": true
   },
   "source": [
    "# Data Persistence\n",
    "\n",
    "+ Files\n",
    "    + **<font color='blue'>\\*.txt**</font>, \\*.xml, *.json\n",
    "    + \\*.csv, \\*.tab, *.xlsx (covered later, with pandas)\n",
    "+ Databases (covered later in thhe course), when you want to capture relationships between data / entities"
   ]
  },
  {
   "cell_type": "markdown",
   "metadata": {},
   "source": [
    "# Built-in *<font color='blue'>file</font>* object\n",
    "\n",
    "+ Basic format:\n",
    "```python\n",
    "fh = open('<filename>', '<mode>')   # Creates a file object fh\n",
    "```\n",
    "+ *filename* can be _**absolute**_ or _**relative**_\n",
    "+ *mode*: {'r', 'w', 'a'}; Default='r'\n",
    "+ 'r': open file for reading if exists, else **<font color='blue'>FileNotFoundError</font>**\n",
    "+ 'w': open new file for writing; overwrite if exists; use 'a' to avoid overwriting\n",
    "\n",
    "```python\n",
    "fh = open('data/data.txt')\n",
    "type(fh)\n",
    "dir(fh)\n",
    "```\n",
    "\n",
    "+ If the file does not exist, open will raise a **FileNotFound** error with traceback\n",
    "\n",
    "**Notes**:\n",
    "+ *fh* is not the file itself, but a handle/reference to it. Use it to do desired operations (read/write).\n",
    "<br />  \n",
    "![alt text](filehandle.svg)\n",
    "<br />\n",
    "+ <font color='blue'>Some additional mode options: 'rb', 'wb' for reading and writing binary files; '+' to open the file for both reading and writing."
   ]
  },
  {
   "cell_type": "code",
   "execution_count": null,
   "metadata": {},
   "outputs": [],
   "source": []
  },
  {
   "cell_type": "markdown",
   "metadata": {},
   "source": [
    "# Reading from Files in \"text mode\"\n",
    "+ File content is always read in as strings  \n",
    "<br />\n",
    "+ Here are the **most common approaches**:\n",
    "\n",
    "    - **Read all data at once as a string**\n",
    "\n",
    "    ```python\n",
    "    import pprint\n",
    "    fh = open('data/data.txt', 'r')\n",
    "    data = fh.read()              # to read in all data as one big string\n",
    "    print(type(data), '\\n\\n')\n",
    "    print(data)\n",
    "    print('\\n', data.split('\\n'))   # split the big string on new line character (\\n); '\\r\\n' on windows\n",
    "    ```"
   ]
  },
  {
   "cell_type": "code",
   "execution_count": null,
   "metadata": {},
   "outputs": [],
   "source": []
  },
  {
   "cell_type": "markdown",
   "metadata": {},
   "source": [
    "+ **file pointers and *<font color='blue'>seek</font>* operation**\n",
    "\n",
    "    ```python\n",
    "data_read_again = fh.read()        # can't read more without resetting the read pointer\n",
    "print(\"length of data_read_again is: \", len(data_read_again))\n",
    "fh.seek(0, 0)          # reset the pointer to beginning of the file: fh.seek(offset, from_what)\n",
    "                       # https://docs.python.org/3/tutorial/inputoutput.html\n",
    "data_now = fh.read()\n",
    "print(data_now)\n",
    "```"
   ]
  },
  {
   "cell_type": "code",
   "execution_count": null,
   "metadata": {},
   "outputs": [],
   "source": []
  },
  {
   "cell_type": "markdown",
   "metadata": {},
   "source": [
    "+ **Read individual lines as strings**\n",
    "```python\n",
    "fh.seek(0, 0)\n",
    "data = fh.readlines()       # returns list of strings\n",
    "print(type(data), \"\\n\\n\")   # check out the \\n newline character at the end of lines\n",
    "print(data)         # (\\r\\n on windows machines)\n",
    "```"
   ]
  },
  {
   "cell_type": "code",
   "execution_count": null,
   "metadata": {},
   "outputs": [],
   "source": []
  },
  {
   "cell_type": "markdown",
   "metadata": {},
   "source": [
    "+ **Iterate over large files**\n",
    "```python\n",
    "fh.seek(0, 0)\n",
    "for line in fh:           # 'fh' is iterable; use in iteration context for efficient\n",
    "    print(len(line), line)  # reading of large files\n",
    "fh.close()                # close file; good practice (esp. when writing files)\n",
    "```"
   ]
  },
  {
   "cell_type": "code",
   "execution_count": null,
   "metadata": {},
   "outputs": [],
   "source": []
  },
  {
   "cell_type": "markdown",
   "metadata": {},
   "source": [
    "+ **Context manager**\n",
    "```python\n",
    "with open('data/data.txt', 'r') as fh:  # Context-manager; automatically closes the file\n",
    "    for line in fh:\n",
    "        print(line)\n",
    "print('\\nFile closed? : ', fh.closed)\n",
    "```"
   ]
  },
  {
   "cell_type": "code",
   "execution_count": null,
   "metadata": {},
   "outputs": [],
   "source": []
  },
  {
   "cell_type": "markdown",
   "metadata": {},
   "source": [
    "# Writing to Files in \"text mode\"\n",
    "+ Like reading, writing is also done as strings\n",
    "<br />\n",
    "+ Here are the **most common approaches**:\n",
    "\n",
    "```python\n",
    "fh = open('data/fresh.txt', 'w')           # Open a new file in write mode\n",
    "fh.write('This is the 1st line\\n')    # Write a line; \n",
    "                                      # Note that newline chars must be explicitly added\n",
    "fh.close()\n",
    "```\n",
    "\n"
   ]
  },
  {
   "cell_type": "code",
   "execution_count": null,
   "metadata": {},
   "outputs": [],
   "source": []
  },
  {
   "cell_type": "markdown",
   "metadata": {},
   "source": [
    "+ **Flushing buffers**\n",
    "\n",
    "```python\n",
    "fh = open('data/fresh.txt', 'a')           # Open the earlier file in 'append' mode\n",
    "                                      #    to avoid overwriting\n",
    "fh.write('This is the 2nd line\\n')    # Write a line; \n",
    "                                      # Note that newline chars must be explicitly added\n",
    "fh.flush()                            # Clears the buffer\n",
    "```"
   ]
  },
  {
   "cell_type": "code",
   "execution_count": null,
   "metadata": {},
   "outputs": [],
   "source": []
  },
  {
   "cell_type": "markdown",
   "metadata": {},
   "source": [
    "+ **Write multiple lines at once**\n",
    "\n",
    "```python\n",
    "fh.writelines(['This is the 3rd line\\n', 'This is the 4th line\\n'])   # Note the newline\n",
    "fh.flush()\n",
    "```"
   ]
  },
  {
   "cell_type": "code",
   "execution_count": null,
   "metadata": {
    "collapsed": true
   },
   "outputs": [],
   "source": []
  },
  {
   "cell_type": "markdown",
   "metadata": {},
   "source": [
    "+ **Write iteratively**\n",
    "\n",
    "```python\n",
    "more_lines = ['5th line', '6th line', '7th line']\n",
    "\n",
    "for line in more_lines:       # iteration context\n",
    "    fh.write(line + '\\n')\n",
    "    fh.flush()                # Don't need to add flush after every write: inefficient; let python handle it\n",
    "fh.close()\n",
    "```\n",
    "\n"
   ]
  },
  {
   "cell_type": "code",
   "execution_count": null,
   "metadata": {
    "collapsed": true
   },
   "outputs": [],
   "source": []
  },
  {
   "cell_type": "markdown",
   "metadata": {},
   "source": [
    "### There are specialized modules to work with specific file formats:\n",
    "1. csv (comma-separated values)\n",
    "2. xlrd (excel documents): **pip install** xlrd OR **conda install** xlrd\n",
    "3. json (hierarchical text-based format like python dictionares)\n",
    "4. yaml (another hierarchical text-based format like json): **pip install** pyyaml OR **conda install** pyyaml\n",
    "5. pandas (works with csv, tsv, xls and many more formats): **pip install pandas** OR **conda install pandas**"
   ]
  },
  {
   "cell_type": "markdown",
   "metadata": {},
   "source": [
    "## os.path module\n",
    "```python\n",
    "import os\n",
    "dir(os.path)  # Note that path is another module that os module imports. \n",
    "              # When we import os, path becomes available as a module variable within os namespace.\n",
    "              # --> module / namespace hierarchy\n",
    "```\n",
    "+ **path parsing:**\n",
    "    - os.path.split(<path_str>):\n",
    "    - os.path.splitext(<path_str>) \n",
    "```python\n",
    "# Ex.\n",
    "print(os.path.split('/Users/groveh01/Documents/my_data.txt'))\n",
    "print(os.path.splitext('my_data.txt'))\n",
    "```\n",
    "+ **path building:**\n",
    "    - os.path.join(<path_components>)\n",
    "```python\n",
    "# Ex.\n",
    "print(os.path.join('/Users', 'groveh01', 'Documents', 'Teaching'))\n",
    "```\n",
    "+ **common tests:**\n",
    "    - os.path.<test>, where test = {isdir(), isfile(), exists(), ...}\n",
    "```python\n",
    "# Ex.\n",
    "print(os.path.isdir('data/data.txt'))\n",
    "print(os.path.isfile('data/data.txt')\n",
    "print(os.path.exists('data')\n",
    "print(os.path.exists('data.txt')\n",
    "print(os.path.exists('/Users/groveh01')\n",
    "```\n",
    "+ **listing contents of a dir:**\n",
    "    - os.listdir\n",
    "```python\n",
    "# Ex.\n",
    "import pprint\n",
    "pprint.pprint(os.listdir('/Users/groveh01'))\n",
    "pprint.pprint(os.listdir('.'))\n",
    "pprint.pprint(os.listdir('..'))\n",
    "```"
   ]
  },
  {
   "cell_type": "code",
   "execution_count": null,
   "metadata": {},
   "outputs": [],
   "source": []
  },
  {
   "cell_type": "code",
   "execution_count": null,
   "metadata": {},
   "outputs": [],
   "source": []
  },
  {
   "cell_type": "code",
   "execution_count": null,
   "metadata": {},
   "outputs": [],
   "source": []
  }
 ],
 "metadata": {
  "anaconda-cloud": {},
  "kernelspec": {
   "display_name": "Python 3",
   "language": "python",
   "name": "python3"
  },
  "language_info": {
   "codemirror_mode": {
    "name": "ipython",
    "version": 3
   },
   "file_extension": ".py",
   "mimetype": "text/x-python",
   "name": "python",
   "nbconvert_exporter": "python",
   "pygments_lexer": "ipython3",
   "version": "3.6.6"
  }
 },
 "nbformat": 4,
 "nbformat_minor": 1
}
