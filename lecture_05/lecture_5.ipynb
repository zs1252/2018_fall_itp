{
 "cells": [
  {
   "cell_type": "markdown",
   "metadata": {},
   "source": [
    "# Introduction to Python - Lecture 05 (17 Oct 2018)\n",
    "\n",
    "### Recap\n",
    "\n",
    "+ Introduction to composite data types, a.k.a data structures (lists)\n",
    "+ Iteration (repetitive execution) - another form of program control flow (for-loop patterns)\n",
    "\n",
    "\n",
    "### Agenda for today:\n",
    "- more composite data types (Data structures): **Dictionaries**\n",
    "- more looping: **while loops**\n",
    "- **<font color='red'>Running programs in debug mode</font>** (for debugging and exploring dynamic code execution environment)\n",
    "- lots of examples covering core patterns of access"
   ]
  },
  {
   "cell_type": "markdown",
   "metadata": {},
   "source": [
    "---\n",
    "# Dictionaries (a.k.a. HashMap/HashTable)\n",
    "\n",
    "+ Consist of a **set of mappings** between _**<font color='blue'>unique</font>**_ **keys** and their **values**.\n",
    "\n",
    "#### Basic syntax:\n",
    "<font color='magenta'>**\\{**</font> **key1**: value1, **key2**: value2, ...  <font color='magenta'>**}**</font>\n",
    "   \n",
    "```python\n",
    "# Example:\n",
    "genetic_code = {'uuu': 'phe', 'uua': 'leu', 'aug': 'met', 'uaa': 'stop'}\n",
    "```\n",
    "\n",
    "**Comparison with Lists**\n",
    "+ Lists are ordered: the order in which elements are added is the order in which they are stored\n",
    "    + Access by position/index\n",
    "        + Ex. letters = ['a', 'b', 'c', 'd', 'e', 'f']\n",
    "        + letters[0] is 'a' etc.\n",
    "+ Dictionaries are unordered\n",
    "    + Access by key\n",
    "        + Ex. dict_ = {'key1': 'a', 'key2': 'b', 'key3': 'c'}\n",
    "        + dict_['key1'] is 'a'\n",
    "\n",
    "The association between a **key** and a **value** is often refered to as a **key**-**value** pair or an **item**.\n",
    "\n",
    "\n",
    "#### Keys\n",
    "\n",
    "+ must be immutable (string, integer, float, tuple)\n",
    "+ must be unique\n",
    "\n",
    "\n",
    "#### Values\n",
    "+ Can be of any type, mutable or immutable, simple or composite (arbitrarily complex, heterogeneous)\n",
    "    + primitives (character: 'a', integer: 0, float: 3.4)\n",
    "    + sequential Types (string: 'asd', list: [0, 1, 2], another dictionary: {'key':'value'}, tuple: (0, 1, 2)\n",
    "    + user Defined Types (discussed later) (functions, classes, objects etc.)\n",
    "\n",
    "\n",
    "### Some Real World Examples\n",
    "\n",
    "+ {**&lt;gene_id&gt;**: **&lt;**gene sequence**&gt;**, ...}\n",
    "+ {**&lt;email&gt;**: **&lt;**user data**&gt;**, ...}\n",
    "+ {**&lt;soc security&gt;**: **&lt;**individual**&gt;**, ...}\n",
    "+ {**&lt;emp id&gt;**: **&lt;**emp data**&gt;**, ...}\n",
    "\n",
    "#### Lookup Table\n",
    "\n",
    "```python\n",
    "elements = {'H': 'hydrogen',   'He': 'helium', \n",
    "            'Li': 'lithium',  'C': 'carbon', \n",
    "            'O': 'oxygen',  'N': 'nitrogen'}\n",
    "complement = {'A': 'T', 'T': 'A', 'C': 'G', 'G': 'C'}\n",
    "print('H', '->', elements['H'])\n",
    "print('A', '->', complement['A'])\n",
    "```\n",
    "\n",
    "#### Database Records\n",
    "```python\n",
    "person = {'name': 'John', \n",
    "          'surname': 'Grisham', \n",
    "          'contact': \n",
    "              {\n",
    "              'phone': {'office': '123-456-7890',\n",
    "                        'cell': '456-789-0123'\n",
    "                       },\n",
    "              'email': ['johnny@gmail.com', 'john.grisham@writers.com']\n",
    "              }\n",
    "          }\n",
    "print(person['name'])\n",
    "print(person['contact'])\n",
    "print(person['contact']['phone'])\n",
    "print(person['contact']['email'])\n",
    "```\n"
   ]
  },
  {
   "cell_type": "markdown",
   "metadata": {},
   "source": [
    "## Operations\n",
    "\n",
    "```python\n",
    "help(dict)\n",
    "```\n",
    "\n",
    "+ Create\n",
    "+ Access keys, values or (key, value) pairs / items\n",
    "+ Modify items\n",
    "+ Check membership of a key\n",
    "+ Traverse through the dictionary and do something\n",
    "+ Make it bigger / smaller (add and remove items)\n",
    "+ …\n"
   ]
  },
  {
   "cell_type": "code",
   "execution_count": null,
   "metadata": {
    "collapsed": true,
    "scrolled": false
   },
   "outputs": [],
   "source": []
  },
  {
   "cell_type": "markdown",
   "metadata": {},
   "source": [
    "## Creating a dictionary\n",
    "Several ways to create a dictionary\n",
    "\n",
    "```python\n",
    "dict_x = {'a': 1, 'b': 2}      # initialize by assignment\n",
    "dict_y = dict(a=1, b=2)        # use dict built-in function\n",
    "print(dict_x, dict_y)\n",
    "```\n",
    "+ **keys** = 'a', 'b'\n",
    "+ **values** = 1, 2\n",
    "+ **items** = ('a', 1), ('b', 2)\n",
    "\n",
    "+ Access by key:\n",
    "```python\n",
    "print(\"The value for key '{}' is {}\".format('a', dict_x['a']))\n",
    "```\n",
    "\n",
    "#### Dictionaries can also be built incrementally - see example later"
   ]
  },
  {
   "cell_type": "code",
   "execution_count": null,
   "metadata": {
    "collapsed": true
   },
   "outputs": [],
   "source": []
  },
  {
   "cell_type": "markdown",
   "metadata": {},
   "source": [
    "# Iterating over a dictionary\n",
    "\n",
    "### Pattern 1: &lt;dict&gt;.keys()\n",
    "<font color='blue'>**Note:**</font> &lt;dict&gt; is a placeholder for a dictionary object\n",
    "\n",
    "```python\n",
    "my_dict = {0: 'a', 1:'b', 2: 'c', 3: 'd'}\n",
    "print('dict_keys lazy obj: ', my_dict.keys())                       # lazy object\n",
    "print('dict_keys unpacked: ', list(my_dict.keys()))                 # forceful typecast\n",
    "print('Inside for loop:')\n",
    "for key in my_dict.keys():               # for loop unpacks the lazy object internally\n",
    "    print('key: ', key)\n",
    "```"
   ]
  },
  {
   "cell_type": "code",
   "execution_count": null,
   "metadata": {
    "collapsed": true
   },
   "outputs": [],
   "source": []
  },
  {
   "cell_type": "markdown",
   "metadata": {},
   "source": [
    "### Pattern 2: &lt;dict&gt;.values()\n",
    "\n",
    "\n",
    "```python\n",
    "my_dict = {0: 'a', 1:'b', 2: 'c', 3: 'd'}\n",
    "print('dict_values lazy obj: ', my_dict.values())                    # lazy object\n",
    "print('dict_values unpacked: ', list(my_dict.values()))\n",
    "print('Inside for loop')\n",
    "for value in my_dict.values():\n",
    "    print('value: ', value)\n",
    "```"
   ]
  },
  {
   "cell_type": "code",
   "execution_count": null,
   "metadata": {
    "collapsed": true
   },
   "outputs": [],
   "source": []
  },
  {
   "cell_type": "markdown",
   "metadata": {},
   "source": [
    "### Pattern 3: &lt;dict&gt;.items()\n",
    "\n",
    "```python\n",
    "my_dict = {0: 'a', 1:'b', 2: 'c', 3: 'd'}\n",
    "print('dict_items lazy obj: ', my_dict.items())                     # lazy object\n",
    "print('dict_items unpacked: ', list(my_dict.items()))\n",
    "print('Inside for loop: ')\n",
    "for item in my_dict.items():\n",
    "    print(item)\n",
    "    # print('item: {}, key: {}, value: {}'.format(item, item[0], item[1]))\n",
    "```"
   ]
  },
  {
   "cell_type": "code",
   "execution_count": null,
   "metadata": {
    "collapsed": true
   },
   "outputs": [],
   "source": []
  },
  {
   "cell_type": "markdown",
   "metadata": {},
   "source": [
    "#### <font color='blue' size=3>Sidebar: List/Tuple unpacking</font> \n",
    "If there are the same number of variables as elements in a sequence, python will assign each element to a variable\n",
    "```python\n",
    "val1, val2 = [1, 2]\n",
    "print(val1, val2)\n",
    "```\n",
    "If there are more or less elements, python will throw a ValueError\n",
    "```python\n",
    "val1, val2 = [1]\n",
    "val1, val2 = [1, 2, 3]\n",
    "```"
   ]
  },
  {
   "cell_type": "code",
   "execution_count": null,
   "metadata": {
    "collapsed": true
   },
   "outputs": [],
   "source": []
  },
  {
   "cell_type": "markdown",
   "metadata": {},
   "source": [
    "### Pattern 4: Item split into key/value\n",
    "```python\n",
    "my_dict = {0: 'a', 1:'b', 2: 'c', 3: 'd'}\n",
    "print('dict_items lazy obj:', my_dict.items())\n",
    "print('Inside for loop:')\n",
    "for key, value in my_dict.items():\n",
    "    print(\"key: {}, value: {}\".format(key, value))\n",
    "```"
   ]
  },
  {
   "cell_type": "code",
   "execution_count": null,
   "metadata": {
    "collapsed": true
   },
   "outputs": [],
   "source": []
  },
  {
   "cell_type": "markdown",
   "metadata": {},
   "source": [
    "### Membership - check if a key exists in a dictionary\n",
    "\n",
    "```python\n",
    "some_dict = {'a': 0, 'b': 1, 'c': 2}\n",
    "print(\"our dict: \", some_dict)\n",
    "print(\"a in our dict: \", 'a' in some_dict)\n",
    "```"
   ]
  },
  {
   "cell_type": "code",
   "execution_count": null,
   "metadata": {
    "collapsed": true
   },
   "outputs": [],
   "source": []
  },
  {
   "cell_type": "markdown",
   "metadata": {},
   "source": [
    "\n",
    "### Modifications\n",
    "\n",
    "+ Changing the value for a key\n",
    "\n",
    "```python\n",
    "some_dict['a'] = 10\n",
    "print(\"our dict (now): \", some_dict)\n",
    "```\n",
    "\n",
    "+ Adding individual key-value pair to a dictionary\n",
    "\n",
    "```python\n",
    "some_dict['d'] = 3\n",
    "print(\"our dict (now): \", some_dict)\n",
    "```\n",
    "\n",
    "+ Updating a dictionary with another dictionary (updates existing values; adds new key-value pairs)\n",
    "```python\n",
    "some_other_dict = {'a': 99, 'e': 999}\n",
    "some_dict.update(some_other_dict)           # This is an in-place operation (check out help(dict.update))\n",
    "print(\"our dict (now): \", some_dict)\n",
    "```"
   ]
  },
  {
   "cell_type": "code",
   "execution_count": null,
   "metadata": {
    "collapsed": true
   },
   "outputs": [],
   "source": []
  },
  {
   "cell_type": "markdown",
   "metadata": {},
   "source": [
    "### Extra - pretty Printing\n",
    "\n",
    "+ Complicated dictionaries do not print nicely.\n",
    "+ pprint is a library that prints dictionaries in a more structured manner\n",
    "    + external library that needs to be imported\n",
    "    + it comes standard with python installation\n",
    "+ If you want to configure the output, create a pretty printer object first before using it (ow default config is used)\n",
    "\n",
    "```python\n",
    "import pprint\n",
    "dict_ = {'name': 'Joe', 'Surname': 'van Niekerk', 'email': 'jvn@c.m', \n",
    "        'friends': [{'name': 'Sally'}, {'name': 'Dave'}, {'name': 'Rick'}, {'name': 'James'}]}\n",
    "print('\\n' +'-'*50)\n",
    "print(\"No pretty printing\")\n",
    "print('-'*50)\n",
    "print(dict_)\n",
    "print('\\n' + '-'*50)\n",
    "print(\"Default pretty printing\")\n",
    "print('-'*50)\n",
    "pprint.pprint(dict_)\n",
    "print('\\n' + '-'*50)\n",
    "print(\"Custom pretty printing\")\n",
    "print('-'*50)\n",
    "pp = pprint.PrettyPrinter(indent=4)   # create a pprint object with desired attributes (more on this later)\n",
    "pp.pprint(dict_)\n",
    "```"
   ]
  },
  {
   "cell_type": "code",
   "execution_count": null,
   "metadata": {
    "collapsed": true
   },
   "outputs": [],
   "source": []
  },
  {
   "cell_type": "markdown",
   "metadata": {},
   "source": [
    "### Example\n",
    "Common pattern: **Aggregate** and **summarize**\n",
    "+ Say, we have a long list of numbers\n",
    "+ [0,1,1,3,1,3,6,1,8,2,8,7,5,0,2,2,1,5,4,7,0,0,3,1,2,9,9,4,3,2,5,3,1,2,1,3,3,2,2,4,5,1,6,7,9,8,1,4,2,5,6,8,0,0,0,1,1,2,6,1,3,2,4,2,5,7,3,1,3,4,6]\n",
    "+ Count the number of times each number appears (and may be rank-order them according to frequency)\n",
    "+ Thought Process?"
   ]
  },
  {
   "cell_type": "code",
   "execution_count": null,
   "metadata": {
    "collapsed": true
   },
   "outputs": [],
   "source": []
  },
  {
   "cell_type": "markdown",
   "metadata": {},
   "source": [
    "### Example\n",
    "Common pattern: **Aggregate** (similar to, but slightly more involved than the above example)\n",
    "+ Genetic code gives us mapping from nucleotide triplets (64 in number) to amino acids (20 in number). So some redundancy.\n",
    "```python\n",
    "import pprint\n",
    "gen_code = {'uuu': 'Phe', 'uuc': 'Phe', 'uua': 'Leu', 'uug': 'Leu', \n",
    "             'ucu': 'Ser', 'ucc': 'Ser', 'uca': 'Ser', 'ucg': 'Ser', \n",
    "             'uau': 'Tyr', 'uac': 'Tyr', 'uaa': 'Stop', 'uag': 'Stop',\n",
    "             'ugu': 'Cys', 'ugc': 'Cys', 'uga': 'Stop', 'ugg': 'Trp',\n",
    "             'cuu': 'Leu', 'cuc': 'Leu', 'cua': 'Leu', 'cug': 'Leu', \n",
    "             'ccu': 'Pro', 'ccc': 'Pro', 'cca': 'Pro', 'ccg': 'Pro',\n",
    "             'cau': 'His', 'cac': 'His', 'caa': 'Gln', 'cag': 'Gln', \n",
    "             'cgu': 'Arg', 'cgc': 'Arg', 'cga': 'Arg', 'cgg': 'Arg'}\n",
    "pprint.pprint(gen_code)\n",
    "```\n",
    "\n",
    "+ What if we want to know what triplets code for phe?\n",
    "    - one solution: iterate through genetic code dict for each query and assemble results (redundant computations)\n",
    "    - better solution: pre-compute the desired results (mapping from amino acid to nucleotide triplets)\n",
    "+ Thought Process?"
   ]
  },
  {
   "cell_type": "code",
   "execution_count": null,
   "metadata": {
    "collapsed": true
   },
   "outputs": [],
   "source": []
  },
  {
   "cell_type": "markdown",
   "metadata": {},
   "source": [
    "## Control Flow (<font color='blue'>Demonstrate in debug mode</font>)\n",
    "### *<font color='blue'>break</font>* keyword\n",
    "+ to **stop** the current loop from running any further (**break out of the loop**)\n",
    "\n",
    "```python\n",
    "print('\\nbreak statement')\n",
    "numbers = [1, 3, 5, 6, 9, 10]\n",
    "for number in numbers:\n",
    "    if number % 2 == 0:\n",
    "        break\n",
    "    print(number)\n",
    "```\n",
    "\n",
    "### *<font color='blue'>continue</font>* keyword\n",
    "+ to **skip** over the current iteration in current loop (**continue without completing current iteration**)\n",
    "\n",
    "```python\n",
    "print('\\ncontinue statement')\n",
    "numbers = [1, 3, 5, 6, 9, 10]\n",
    "for number in numbers:\n",
    "    if number % 2 == 0:\n",
    "        continue\n",
    "    print(number)\n",
    "```"
   ]
  },
  {
   "cell_type": "code",
   "execution_count": null,
   "metadata": {
    "collapsed": true
   },
   "outputs": [],
   "source": []
  },
  {
   "cell_type": "markdown",
   "metadata": {},
   "source": [
    "### *<font color='blue'>break</font>* keyword and *<font color='blue'>continue</font>* keyword statements operate on the immediate enclosing for loop\n",
    "\n",
    "```python\n",
    "# Generate all possible pairs, but skip some of them\n",
    "print('\\nbreak statement')\n",
    "letters = ['a', 'b', 'c']\n",
    "numbers = [5, 7, 9, 10, 15]\n",
    "for char in letters:            # outer loop\n",
    "   for number in numbers:       # inner loop; enumerate gives (index, value) tuples (see help)\n",
    "       if number % 2 == 0:\n",
    "           break\n",
    "       print(char, number)\n",
    "\n",
    "###########################\n",
    "\n",
    "print('\\ncontinue statement')\n",
    "letters = ['a', 'b', 'c']\n",
    "numbers = [5, 7, 9, 10, 15]\n",
    "for char in letters:\n",
    "   for number in numbers:\n",
    "       if number % 2 == 0:\n",
    "           continue\n",
    "       print(char, number)\n",
    "```"
   ]
  },
  {
   "cell_type": "code",
   "execution_count": null,
   "metadata": {
    "collapsed": true
   },
   "outputs": [],
   "source": []
  },
  {
   "cell_type": "markdown",
   "metadata": {},
   "source": [
    "### Example (write in Atom, run on cmd-line / Terminal)\n",
    "\n",
    "+ A protein sequence is represented as a string of characters. Each character corresponds to an amino-acid (AA) molecule with a specific mass. There are 20 possible characters, one for each naturally occurring AA, and anything outside of this 20-letter alphabet is considered invalid.\n",
    "```python\n",
    "# mass(A) = 71.03711360\n",
    "# mass(C) = 103.0091854\n",
    "# mass(D) = 115.0269428\n",
    "# mass(E) = 129.0425928\n",
    "# mass(F) = 147.0684136\n",
    "# mass(G) = 57.02146360\n",
    "# mass(H) = 137.0589116\n",
    "# mass(I) = 113.0840636\n",
    "# mass(K) = 128.0949626\n",
    "# mass(L) = 113.0840636\n",
    "# mass(M) = 131.0404854\n",
    "# mass(N) = 114.0429272\n",
    "# mass(P) = 97.05276360\n",
    "# mass(Q) = 128.0585772\n",
    "# mass(R) = 156.1011106\n",
    "# mass(S) = 87.03202820\n",
    "# mass(T) = 101.0476782\n",
    "# mass(V) = 99.06841360\n",
    "# mass(W) = 186.0793126\n",
    "# mass(Y) = 163.0633282\n",
    "```\n",
    "+ We have a list of protein dictionaries, with each dictionary storing a protein sequence and its charge state (integer). Our goal is to calculate the ratio of mass to charge (m/z) of all the protein sequences in the list and print the results. \n",
    "\n",
    "```python\n",
    "# Examples of valid protein sequences: ACDEFPMNQR, acdefpmnqr\n",
    "# Example of invalid protein sequence: ACZEFP ('Z' is not a valid AA)\n",
    "# mass(ACDEFPMNQR) = mass(h2o) + (sum of masses of all AA characters in ACDEFPMNQR)\n",
    "# m/z of ACDEFPMNQR can be calculated as: mass(ACDEFPMNQR)/ch(ACDEFPMNQR); \n",
    "# ch is provided for each sequence\n",
    "\n",
    "\n",
    "list_of_protein_dicts = [{'seq': 'ACACIMED', 'ch': 2},\n",
    "                         {'seq': 'ELEMYRATNE', 'ch': 1},\n",
    "                         {'seq': 'wapwop', 'ch': 3},\n",
    "                         {'seq': 'zeittsieg', 'ch': 2},\n",
    "                         {'seq': 'DESFBIRC', 'ch': 1},\n",
    "                         {'seq': 'altaatsiv', 'ch': 3},\n",
    "                         {'seq': 'MEINWOHC', 'ch': 2}]\n",
    "```\n",
    "\n",
    "+ **What do we need?:**\n",
    "    - Represent masses in an appropriate data structure.\n",
    "    - For each sequence\n",
    "        - check for validity of the sequence\n",
    "        - if valid, compute m/z, then print the sequence and its m/z. \n",
    "        - Otherwise, print the sequence and an error message (like “Invalid”)."
   ]
  },
  {
   "cell_type": "code",
   "execution_count": null,
   "metadata": {
    "collapsed": true
   },
   "outputs": [],
   "source": []
  },
  {
   "cell_type": "markdown",
   "metadata": {},
   "source": [
    "# <font color='blue'>While loops</font>\n",
    "\n",
    "+ Basic format:\n",
    "```python\n",
    "while BOOLEAN_EXPRESSION:\n",
    "    STATEMENTS\n",
    "```\n",
    "\n",
    "+ The loop will continue while the boolean expression remains true.\n",
    "+ Once the boolean expression is false the loop will exit\n",
    "\n",
    "```python\n",
    "count = 0\n",
    "while count < 5:\n",
    "    print('current count: {}'.format(count))\n",
    "    count += 1\n",
    "print('final count: {}'.format(count))\n",
    "```"
   ]
  },
  {
   "cell_type": "code",
   "execution_count": null,
   "metadata": {
    "collapsed": true
   },
   "outputs": [],
   "source": []
  },
  {
   "cell_type": "markdown",
   "metadata": {},
   "source": [
    "## Why have two kinds of looping?\n",
    "\n",
    "+ for loops\n",
    "    + require knowledge on the number of iterations when declaring the loop\n",
    "+ while loops\n",
    "    + Will loop until a condition is met\n",
    "    \n",
    "Example:\n",
    "\n",
    "+ Find the largest number in a list of numbers?\n",
    "    + for loop\n",
    "+ Run a simulation until a certain mean squared error is achieved\n",
    "    + while loop"
   ]
  },
  {
   "cell_type": "markdown",
   "metadata": {},
   "source": [
    "## Infinite loops\n",
    "\n",
    "+ It is possible to create while loops that will never stop.\n",
    "    + These types of loops are known as infinite loops\n",
    "    + This happens only if the loop condition always remain true<br>  \n",
    "**Note:** when on cmd-line / Terminal, use Ctrl+C to break out of an infinite loop to stop the program. In jupyter notebook, use the square \"stop\" button on top to stop execution of a running cell.\n",
    "\n",
    "```python\n",
    "i = 0\n",
    "while i < 5:\n",
    "    print(i)\n",
    "```"
   ]
  },
  {
   "cell_type": "code",
   "execution_count": null,
   "metadata": {
    "collapsed": true
   },
   "outputs": [],
   "source": []
  },
  {
   "cell_type": "markdown",
   "metadata": {},
   "source": [
    "## While True\n",
    "\n",
    "+ This pattern is useful as it will ensure that the code in the while loop is run at least once\n",
    "+ There will always need to be a condition to break out of the loop\n",
    "\n",
    "**Pattern:**\n",
    "\n",
    "```python\n",
    "while True:\n",
    "    statements\n",
    "    if condition:\n",
    "        break\n",
    "```\n",
    "\n",
    "+ This is useful, for example, for getting user input when you do not know how many elements the user is going to add\n",
    "\n",
    "```python\n",
    "points = []\n",
    "while True:\n",
    "    user_input = input('enter a point (x, y)')\n",
    "    if not user_input:\n",
    "        break\n",
    "    points.append(user_input)\n",
    "print(points)\n",
    "```"
   ]
  },
  {
   "cell_type": "code",
   "execution_count": null,
   "metadata": {
    "collapsed": true
   },
   "outputs": [],
   "source": []
  },
  {
   "cell_type": "markdown",
   "metadata": {},
   "source": [
    "## <font color='red'>Debugging:</font> ipdb library (pip install ipdb)\n",
    "### learning resources:\n",
    "- https://docs.python.org/3.6/library/pdb.html\n",
    "    - pdb and ipdb have the same interface and capabilities, ipdb is nicer with syntax highlighting, tab-completion etc.\n",
    "- https://pymotw.com/3/pdb/index.html"
   ]
  },
  {
   "cell_type": "code",
   "execution_count": null,
   "metadata": {
    "collapsed": true
   },
   "outputs": [],
   "source": []
  },
  {
   "cell_type": "markdown",
   "metadata": {},
   "source": [
    "## <font color='blue'>Some more data structures and resources to read up on:</font>\n",
    "- **sets**\n",
    "- **tuples**\n",
    "- collections library"
   ]
  },
  {
   "cell_type": "markdown",
   "metadata": {},
   "source": [
    "```python\n",
    "#aa_masses = {'A': 71.03711360, 'C': 103.0091854, 'D': 115.0269428,\n",
    "#             'E': 129.0425928, 'F': 147.0684136, 'G': 57.02146360,\n",
    "#             'H': 137.0589116, 'I': 113.0840636, 'K': 128.0949626,\n",
    "#             'L': 113.0840636, 'M': 131.0404854, 'N': 114.0429272,\n",
    "#             'P': 97.05276360, 'Q': 128.0585772, 'R': 156.1011106,\n",
    "#             'S': 87.03202820, 'T': 101.0476782, 'V': 99.06841360,\n",
    "#             'W': 186.0793126, 'Y': 163.0633282}\n",
    "\n",
    "#mass_h2o = 18.010564684\n",
    "```"
   ]
  },
  {
   "cell_type": "code",
   "execution_count": null,
   "metadata": {
    "collapsed": true
   },
   "outputs": [],
   "source": []
  }
 ],
 "metadata": {
  "anaconda-cloud": {},
  "kernelspec": {
   "display_name": "Python [default]",
   "language": "python",
   "name": "python3"
  },
  "language_info": {
   "codemirror_mode": {
    "name": "ipython",
    "version": 3
   },
   "file_extension": ".py",
   "mimetype": "text/x-python",
   "name": "python",
   "nbconvert_exporter": "python",
   "pygments_lexer": "ipython3",
   "version": "3.5.2"
  }
 },
 "nbformat": 4,
 "nbformat_minor": 1
}
