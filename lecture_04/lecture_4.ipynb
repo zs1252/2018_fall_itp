{
 "cells": [
  {
   "cell_type": "markdown",
   "metadata": {
    "slideshow": {
     "slide_type": "notes"
    }
   },
   "source": [
    "# Introduction to Python - Lecture 04 (15 October 2018)\n",
    "## Story so far...\n",
    "+ primitive python objects / data-types and operations (numbers, strings)\n",
    "+ logical / boolean operators\n",
    "+ variables and variable naming conventions (pep8, reserved keywords)\n",
    "+ expressions and simple statements (assignment)\n",
    "+ misc (user input, comments, mutability, terminology; git: branching etc.; atom, jupyter notebooks)\n",
    "+ Compound statements: if/else conditionals\n",
    "+ Some common patterns of usage\n",
    "<br />\n",
    "\n",
    "\n",
    "# Sequential Types and Iteration:\n",
    "+ Introduce composite objects types (data structures) -> way to organize data for processing\n",
    "    + lists  \n",
    "<br />\n",
    "+ Iteration (repetitive execution) - another form of program control flow  \n",
    "<br />"
   ]
  },
  {
   "cell_type": "markdown",
   "metadata": {},
   "source": [
    "# Sequential Data Types\n",
    "\n",
    "It is often necessary to group information together. This is the function of sequential data types.\n",
    "The primary difference between different sequential types is how data is accessed and stored.\n",
    "\n",
    "## Strings\n",
    "\n",
    "+ Strings are sequences of characters.\n",
    "+ Each character in a string is assigned a specific index.\n",
    "  + The first index is always **0**\n",
    "  + This always corresponds to the leftmost character\n",
    "  + Each subsequent character will have an index one greater than the previous index.\n",
    " \n",
    "Eg:\n",
    "\n",
    "\n",
    "String: 'ABCDEF'\n",
    "\n",
    "|String|A|B|C|D|E|F|\n",
    "|------|-|-|-|-|-|-|\n",
    "|Index |0|1|2|3|4|5|\n",
    "\n",
    "Each character can be accessed using the relavant index placed in square brackets [] after the string.\n",
    "\n",
    "```python\n",
    "'ABCDEF'[index]\n",
    "```"
   ]
  },
  {
   "cell_type": "code",
   "execution_count": 1,
   "metadata": {},
   "outputs": [
    {
     "data": {
      "text/plain": [
       "'A'"
      ]
     },
     "execution_count": 1,
     "metadata": {},
     "output_type": "execute_result"
    }
   ],
   "source": [
    "'ABCDEF'[0]"
   ]
  },
  {
   "cell_type": "markdown",
   "metadata": {},
   "source": [
    "Accessing a subset of the string is similar.\n",
    "\n",
    "Instead of using a single index within the square brackets a start and end index are provided.\n",
    "\n",
    "```python\n",
    "'ABCDEF'[start_index:end_index]\n",
    "```\n",
    "\n",
    "The character at the end index is not included."
   ]
  },
  {
   "cell_type": "code",
   "execution_count": 2,
   "metadata": {},
   "outputs": [
    {
     "name": "stdout",
     "output_type": "stream",
     "text": [
      "ABCDEF\n",
      "CDE\n"
     ]
    }
   ],
   "source": [
    "print('ABCDEF'[0:6])\n",
    "print('ABCDEF'[2:5])"
   ]
  },
  {
   "cell_type": "markdown",
   "metadata": {},
   "source": [
    "Leaving either the start or end blank will result in the first or last index being used repectively.\n",
    "\n",
    "```python\n",
    "'ABCDEF'[start:]\n",
    "'ABCDEF'[:end]\n",
    "```"
   ]
  },
  {
   "cell_type": "code",
   "execution_count": 5,
   "metadata": {},
   "outputs": [
    {
     "data": {
      "text/plain": [
       "'ABC'"
      ]
     },
     "execution_count": 5,
     "metadata": {},
     "output_type": "execute_result"
    }
   ],
   "source": [
    "'ABCDEF'[:3]"
   ]
  },
  {
   "cell_type": "markdown",
   "metadata": {},
   "source": [
    "#### Practice"
   ]
  },
  {
   "cell_type": "code",
   "execution_count": 6,
   "metadata": {},
   "outputs": [
    {
     "name": "stdout",
     "output_type": "stream",
     "text": [
      "B\n"
     ]
    }
   ],
   "source": [
    "# Print B\n",
    "\n",
    "sequence = 'ABCDEF'\n",
    "subseq = sequence[1]\n",
    "print(subseq)"
   ]
  },
  {
   "cell_type": "code",
   "execution_count": 7,
   "metadata": {},
   "outputs": [
    {
     "name": "stdout",
     "output_type": "stream",
     "text": [
      "E\n"
     ]
    }
   ],
   "source": [
    "# Print E\n",
    "\n",
    "sequence = 'ABCDEF'\n",
    "subseq = sequence[4]\n",
    "print(subseq)"
   ]
  },
  {
   "cell_type": "code",
   "execution_count": 8,
   "metadata": {},
   "outputs": [
    {
     "name": "stdout",
     "output_type": "stream",
     "text": [
      "CD\n"
     ]
    }
   ],
   "source": [
    "# Print CD\n",
    "\n",
    "sequence = 'ABCDEF'\n",
    "subseq = sequence[2:4]\n",
    "print(subseq)"
   ]
  },
  {
   "cell_type": "code",
   "execution_count": 10,
   "metadata": {},
   "outputs": [
    {
     "name": "stdout",
     "output_type": "stream",
     "text": [
      "ABC\n"
     ]
    }
   ],
   "source": [
    "# Print ABC\n",
    "\n",
    "sequence = 'ABCDEF'\n",
    "subseq = sequence[:3]\n",
    "print(subseq)"
   ]
  },
  {
   "cell_type": "code",
   "execution_count": 11,
   "metadata": {},
   "outputs": [
    {
     "name": "stdout",
     "output_type": "stream",
     "text": [
      "DEF\n"
     ]
    }
   ],
   "source": [
    "# Print DEF\n",
    "\n",
    "sequence = 'ABCDEF'\n",
    "subseq = sequence[3:]\n",
    "print(subseq)"
   ]
  },
  {
   "cell_type": "markdown",
   "metadata": {
    "collapsed": true
   },
   "source": [
    "# Lists\n",
    "\n",
    "+ Another sequence data type (like strings), that stores sequence of objects. For ex.\n",
    "    ```python\n",
    "    [1, 2, 3, 4, 5]\n",
    "    ```\n",
    "+ More generic - elements / items / components can be of **any type**, including **mixed**.  \n",
    "    ```python\n",
    "    [1, 2, 'a', [3, 4]]\n",
    "    ```\n",
    "+ Some examples from real world:\n",
    "    - List of employees in a company\n",
    "    - List of genes associated with a disease\n",
    "    - List of book recommendations for a user\n",
    "    - List of items in an order basket  \n",
    "<br />\n",
    "+ **Key characteristics**\n",
    "    - Elements have position and order (**ordered collection**)\n",
    "    - Elements can be heterogeneous (**arbitrarily typed**)  \n",
    "    - Lists can expand or contract dynamically\n",
    "    - can be single- or multi-dimensional\n",
    "<br />"
   ]
  },
  {
   "cell_type": "markdown",
   "metadata": {},
   "source": [
    "# Common List operations:\n",
    "    - Create\n",
    "    - Access elements or chunks\n",
    "    - Modify elements or chunks\n",
    "    - Check membership of an element\n",
    "    - Find position / index of a specific element\n",
    "    - Traverse through the list and do something\n",
    "    - Make it bigger / smaller (add and remove elements)\n",
    "    - Sort / reverse\n",
    "    - ...  \n",
    "\n",
    "```python\n",
    "help(list)\n",
    "help(list.index)\n",
    "```\n",
    "\n",
    "+ Some generic operations\n",
    "    - len(x), sum(x), max(x), etc.  \n",
    "<br />\n",
    "+ User-defined operations (will be covered later)"
   ]
  },
  {
   "cell_type": "code",
   "execution_count": 13,
   "metadata": {
    "scrolled": false
   },
   "outputs": [
    {
     "name": "stdout",
     "output_type": "stream",
     "text": [
      "Help on method_descriptor:\n",
      "\n",
      "pop(...)\n",
      "    L.pop([index]) -> item -- remove and return item at index (default last).\n",
      "    Raises IndexError if list is empty or index is out of range.\n",
      "\n"
     ]
    }
   ],
   "source": [
    "help(list.pop)"
   ]
  },
  {
   "cell_type": "code",
   "execution_count": null,
   "metadata": {
    "collapsed": true
   },
   "outputs": [],
   "source": []
  },
  {
   "cell_type": "markdown",
   "metadata": {},
   "source": [
    "# Lists: Create\n",
    "\n",
    "\n",
    "```python\n",
    "x = [1,2,3,4,5]\t\t    # direct assignment\n",
    "y = [1, 'a', [1,2,3]]\n",
    "z = []                     # creates an empty list\n",
    "\n",
    "print(type(x), x)\n",
    "print(type(y), y)\n",
    "\n",
    "# build it incrementally (see below)\n",
    "\n",
    "# More advanced: List comprehensions (chk out for a potential lightning talk...)\n",
    "```"
   ]
  },
  {
   "cell_type": "code",
   "execution_count": 15,
   "metadata": {},
   "outputs": [
    {
     "name": "stdout",
     "output_type": "stream",
     "text": [
      "<class 'list'> [1, 2, 3, 4, 5]\n",
      "<class 'list'> [1, 'a', [1, 2, 3]]\n"
     ]
    }
   ],
   "source": [
    "x = [1,2,3,4,5]            # direct assignment\n",
    "y = [1, 'a', [1,2,3]]\n",
    "z = []    \n",
    "\n",
    "print(type(x), x)\n",
    "print(type(y), y)"
   ]
  },
  {
   "cell_type": "code",
   "execution_count": null,
   "metadata": {
    "collapsed": true
   },
   "outputs": [],
   "source": []
  },
  {
   "cell_type": "markdown",
   "metadata": {},
   "source": [
    "# Lists: Access and Modify\n",
    "+ All sequences (lists, strings, ...) support two basic access operations:\n",
    "    - Indexing\n",
    "    - Slicing\n",
    "```python\n",
    "vowels = ['a', 'e', 'i', 'o', 'u']\n",
    "print(vowels[0]) # indexing starts with '0'\n",
    "print(vowels[1])\n",
    "print(vowels[-1]) # negative indices go backwards\n",
    "print(vowels[10]) # out of range raises IndexError: You're responsible to respect list length\n",
    "print(vowels[1:3]) # slicing syntax: [start_idx : stop_idx[ : step_size]]; excludes stop_idx; \n",
    "print(vowels[::2])  # step_size is optional\n",
    "print(vowels[::-1])  # what does this do?\n",
    "```\n",
    "\n",
    "+ Indices are like mappings\n"
   ]
  },
  {
   "cell_type": "code",
   "execution_count": 22,
   "metadata": {},
   "outputs": [
    {
     "name": "stdout",
     "output_type": "stream",
     "text": [
      "a\n",
      "e\n",
      "u\n",
      "['e', 'i']\n",
      "['a', 'i', 'u']\n",
      "['u', 'o', 'i', 'e', 'a']\n",
      "['u', 'o', 'i', 'e']\n"
     ]
    }
   ],
   "source": [
    "vowels = ['a', 'e', 'i', 'o', 'u']\n",
    "print(vowels[0]) # indexing starts with '0'\n",
    "print(vowels[1])\n",
    "print(vowels[-1]) # negative indices go backwards\n",
    "# print(vowels[10]) # out of range raises IndexError: You're responsible to respect list length\n",
    "print(vowels[1:3]) # slicing syntax: [start_idx : stop_idx[ : step_size]]; excludes stop_idx; \n",
    "print(vowels[::2])  # step_size is optional\n",
    "print(vowels[::-1])  # what does this do?\n",
    "print(vowels[4:0:-1])  # what does this do?"
   ]
  },
  {
   "cell_type": "markdown",
   "metadata": {},
   "source": [
    "# Lists are mutable (unlike strings)\n",
    "\n",
    "```python\n",
    "vowels = ['a', 'e', 'i', 'o', 'u']\n",
    "print(id(vowels), vowels)\n",
    "vowels[0] = 'A'\n",
    "vowels[1:3] = ['E', 'I']    # slice reassignment\n",
    "print(id(vowels), vowels)\n",
    "```"
   ]
  },
  {
   "cell_type": "code",
   "execution_count": 27,
   "metadata": {},
   "outputs": [
    {
     "name": "stdout",
     "output_type": "stream",
     "text": [
      "4577242184 ['a', 'e', 'i', 'o', 'u']\n",
      "4577242184 ['A', 'E', 'I', 'O', 'o', 'u']\n"
     ]
    }
   ],
   "source": [
    "vowels = ['a', 'e', 'i', 'o', 'u']\n",
    "print(id(vowels), vowels)\n",
    "vowels[0] = 'A'\n",
    "vowels[1:3] = ['E', 'I', 'O']    # slice reassignment\n",
    "print(id(vowels), vowels)"
   ]
  },
  {
   "cell_type": "markdown",
   "metadata": {},
   "source": [
    "# Lists: Membership\n",
    "+ <font color='blue'>**in**</font> operator, similar to string type\n",
    "\n",
    "```python\n",
    "x = [1,2,3,4,5]\n",
    "print(1 in x)      # boolean expression: evaluates to True/False\n",
    "print(10 not in x) \n",
    "```"
   ]
  },
  {
   "cell_type": "code",
   "execution_count": 29,
   "metadata": {},
   "outputs": [
    {
     "name": "stdout",
     "output_type": "stream",
     "text": [
      "True\n",
      "True\n"
     ]
    }
   ],
   "source": [
    "x = [1,2,3,4,5]\n",
    "print(1 in x)      # boolean expression: evaluates to True/False\n",
    "print(not 10 in x)"
   ]
  },
  {
   "cell_type": "markdown",
   "metadata": {},
   "source": [
    "# Lists: index of a specific element\n",
    "```python\n",
    "x = ['a', 'b', 'c', 'd', 'e']\n",
    "print(x.index('b'))\n",
    "print(x.index('d'))          # ValueError exception\n",
    "```"
   ]
  },
  {
   "cell_type": "code",
   "execution_count": 37,
   "metadata": {},
   "outputs": [
    {
     "ename": "ValueError",
     "evalue": "'a' is not in list",
     "output_type": "error",
     "traceback": [
      "\u001b[0;31m---------------------------------------------------------------------------\u001b[0m",
      "\u001b[0;31mValueError\u001b[0m                                Traceback (most recent call last)",
      "\u001b[0;32m<ipython-input-37-a7b6ced8005b>\u001b[0m in \u001b[0;36m<module>\u001b[0;34m()\u001b[0m\n\u001b[1;32m      1\u001b[0m \u001b[0mx\u001b[0m \u001b[0;34m=\u001b[0m \u001b[0;34m[\u001b[0m\u001b[0;34m'a'\u001b[0m\u001b[0;34m,\u001b[0m \u001b[0;34m'b'\u001b[0m\u001b[0;34m,\u001b[0m \u001b[0;34m'c'\u001b[0m\u001b[0;34m,\u001b[0m \u001b[0;34m'd'\u001b[0m\u001b[0;34m,\u001b[0m \u001b[0;34m'e'\u001b[0m\u001b[0;34m,\u001b[0m\u001b[0;34m'b'\u001b[0m\u001b[0;34m]\u001b[0m\u001b[0;34m\u001b[0m\u001b[0m\n\u001b[0;32m----> 2\u001b[0;31m \u001b[0mprint\u001b[0m\u001b[0;34m(\u001b[0m\u001b[0mx\u001b[0m\u001b[0;34m.\u001b[0m\u001b[0mindex\u001b[0m\u001b[0;34m(\u001b[0m\u001b[0;34m'a'\u001b[0m\u001b[0;34m,\u001b[0m \u001b[0;36m2\u001b[0m\u001b[0;34m)\u001b[0m\u001b[0;34m)\u001b[0m\u001b[0;34m\u001b[0m\u001b[0m\n\u001b[0m\u001b[1;32m      3\u001b[0m \u001b[0;31m# print(x.index('d'))\u001b[0m\u001b[0;34m\u001b[0m\u001b[0;34m\u001b[0m\u001b[0m\n\u001b[1;32m      4\u001b[0m \u001b[0;34m\u001b[0m\u001b[0m\n\u001b[1;32m      5\u001b[0m \u001b[0;31m# position = []\u001b[0m\u001b[0;34m\u001b[0m\u001b[0;34m\u001b[0m\u001b[0m\n",
      "\u001b[0;31mValueError\u001b[0m: 'a' is not in list"
     ]
    }
   ],
   "source": [
    "x = ['a', 'b', 'c', 'd', 'e','b']\n",
    "# print(x.index('a', 2))\n",
    "# print(x.index('d'))\n",
    "\n",
    "# position = []\n",
    "# for i, c in enumerate(x):\n",
    "#     if c == 'b':\n",
    "#         position.append(i)\n",
    "# print(position)"
   ]
  },
  {
   "cell_type": "code",
   "execution_count": 32,
   "metadata": {},
   "outputs": [
    {
     "name": "stdout",
     "output_type": "stream",
     "text": [
      "Help on method_descriptor:\n",
      "\n",
      "index(...)\n",
      "    L.index(value, [start, [stop]]) -> integer -- return first index of value.\n",
      "    Raises ValueError if the value is not present.\n",
      "\n"
     ]
    }
   ],
   "source": [
    "help(list.index)"
   ]
  },
  {
   "cell_type": "markdown",
   "metadata": {},
   "source": [
    "# Lists: Add / remove elements\n",
    "\n",
    "```python\n",
    "x = [1,2,3,4,5]\n",
    "x.append(10)\n",
    "print(x)\n",
    "x.pop()\n",
    "print(x)\n",
    "x.pop(2)\n",
    "print(x)\n",
    "x.extend([11,12,13,14,15])     # or x + [11,12,13,14,15]\n",
    "print(x)\n",
    "```"
   ]
  },
  {
   "cell_type": "code",
   "execution_count": 38,
   "metadata": {},
   "outputs": [
    {
     "name": "stdout",
     "output_type": "stream",
     "text": [
      "[1, 2, 3, 4, 5, 10]\n",
      "[1, 2, 3, 4, 5]\n",
      "[1, 2, 4, 5]\n",
      "[1, 2, 4, 5, 11, 12, 13, 14, 15]\n"
     ]
    }
   ],
   "source": [
    "x = [1,2,3,4,5]\n",
    "x.append(10)\n",
    "print(x)\n",
    "x.pop()\n",
    "print(x)\n",
    "x.pop(2)\n",
    "print(x)\n",
    "x.extend([11,12,13,14,15])     # or x + [11,12,13,14,15]\n",
    "print(x)"
   ]
  },
  {
   "cell_type": "code",
   "execution_count": 46,
   "metadata": {},
   "outputs": [
    {
     "name": "stdout",
     "output_type": "stream",
     "text": [
      "[5, 5, 2, 6, 1, 9, 8, 3]\n",
      "None\n",
      "[1, 2, 3, 5, 5, 6, 8, 9]\n",
      "4577321864 [9, 8, 6, 5, 5, 3, 2, 1]\n",
      "4577321864 [9, 8, 6, 5, 5, 3, 2, 1]\n",
      "4577241672 [1, 2, 3, 5, 5, 6, 8, 9]\n"
     ]
    }
   ],
   "source": [
    "x = [5, 5, 2, 6, 1, 9, 8, 3]\n",
    "print(x)\n",
    "print(x.sort())\n",
    "print(x)\n",
    "x.reverse()\n",
    "print(id(x), x)\n",
    "x_1 = x[::-1]\n",
    "print(id(x), x)\n",
    "print(id(x_1), x_1)"
   ]
  },
  {
   "cell_type": "code",
   "execution_count": null,
   "metadata": {
    "collapsed": true
   },
   "outputs": [],
   "source": []
  },
  {
   "cell_type": "markdown",
   "metadata": {},
   "source": [
    "# Iteration: Repetitively apply some logic\n",
    "### Common patterns:\n",
    "+ Do **something** to/for each item in a sequence (ex. random patient assignment)\n",
    "+ Repeat **something _n_** times (ex. snooze)\n",
    "+ Repeat **something** as long as some condition is True (or False) (will be covered later) (ex. statistical model refinement)\n",
    "<br />  \n",
    "\n",
    "<font color='blue' size=5>_**for**_</font> compound statement is used to apply some logic to each item in any _**iterable**_ (string, list, dictionaries etc.)\n",
    "<br />\n",
    "+ Basic structure:  \n",
    "```python\n",
    "    for item in iterable:  \n",
    "        <do_action(s)>\n",
    "```\n",
    "For ex.:\n",
    "```python\n",
    "    for gene in list_of_genes:\n",
    "        translate(gene)\n",
    "```\n",
    "+ Use **indentation** to delineate from rest of the code"
   ]
  },
  {
   "cell_type": "markdown",
   "metadata": {},
   "source": [
    "# <font color='blue'>*for* loop pattern 1</font>: Sequence scans\n",
    "\n",
    "+ Ex. Simple list traversal\n",
    "```python\n",
    "    vowels = ['a', 'e', 'i', 'o', 'u']\n",
    "    for vowel in vowels:\n",
    "        print(vowel)\n",
    "```\n",
    "\n",
    "+ Ex: Find sum and prod of a list of numbers\n",
    "```python\n",
    "    num_list = [1,2,3,4]\n",
    "```"
   ]
  },
  {
   "cell_type": "code",
   "execution_count": 53,
   "metadata": {},
   "outputs": [
    {
     "name": "stdout",
     "output_type": "stream",
     "text": [
      "0\n",
      "1\n",
      "2\n",
      "3\n",
      "4\n"
     ]
    }
   ],
   "source": [
    "vowels = ['a', 'e', 'i', 'o', 'u']\n",
    "for i in range(len(vowels)):\n",
    "    print(i)"
   ]
  },
  {
   "cell_type": "code",
   "execution_count": 49,
   "metadata": {},
   "outputs": [
    {
     "name": "stdout",
     "output_type": "stream",
     "text": [
      "Help on class enumerate in module builtins:\n",
      "\n",
      "class enumerate(object)\n",
      " |  enumerate(iterable[, start]) -> iterator for index, value of iterable\n",
      " |  \n",
      " |  Return an enumerate object.  iterable must be another object that supports\n",
      " |  iteration.  The enumerate object yields pairs containing a count (from\n",
      " |  start, which defaults to zero) and a value yielded by the iterable argument.\n",
      " |  enumerate is useful for obtaining an indexed list:\n",
      " |      (0, seq[0]), (1, seq[1]), (2, seq[2]), ...\n",
      " |  \n",
      " |  Methods defined here:\n",
      " |  \n",
      " |  __getattribute__(self, name, /)\n",
      " |      Return getattr(self, name).\n",
      " |  \n",
      " |  __iter__(self, /)\n",
      " |      Implement iter(self).\n",
      " |  \n",
      " |  __new__(*args, **kwargs) from builtins.type\n",
      " |      Create and return a new object.  See help(type) for accurate signature.\n",
      " |  \n",
      " |  __next__(self, /)\n",
      " |      Implement next(self).\n",
      " |  \n",
      " |  __reduce__(...)\n",
      " |      Return state information for pickling.\n",
      "\n"
     ]
    }
   ],
   "source": [
    "help(enumerate)"
   ]
  },
  {
   "cell_type": "markdown",
   "metadata": {},
   "source": [
    "# General process of loop construction\n",
    "+ <font color='blue'>_**Initialize**_</font> some variable(s) before the loop starts.\n",
    "+ <font color='blue'>_**Apply**_</font> some computation(s) for each item in the loop body, possibly changing the variables.\n",
    "+ <font color='blue'>_**Use**_</font> the results after the loop terminates.\n",
    "```python\n",
    "import math\n",
    "num_list = [1,2,3,4]          # Input\n",
    "sum_ = 0                      # Initialize\n",
    "prod = 1                     \n",
    "for num in num_list:          # Apply\n",
    "    sum_ = sum_ + num\n",
    "\tprod *= num                 # shorthand notation\n",
    "print(\"sum: \", sum_)          # Use\n",
    "print(\"prod: \", prod)\n",
    "print(\"AM: \", sum_/len(num_list))\n",
    "print(\"GM: \", math.pow(prod_, 1/len(num_list))\n",
    "```\n",
    "\n",
    "**Notes**:\n",
    "- num is called **iteration variable**\n",
    "- sum and prod are called **accumulator variables**"
   ]
  },
  {
   "cell_type": "code",
   "execution_count": 58,
   "metadata": {},
   "outputs": [
    {
     "name": "stdout",
     "output_type": "stream",
     "text": [
      "cs:  0\n",
      "nn:  1\n",
      "cs:  1\n",
      "nn:  2\n",
      "cs:  3\n",
      "nn:  3\n",
      "cs:  6\n",
      "nn:  4\n",
      "sum:  10\n",
      "prod:  24\n",
      "AM:  2.5\n",
      "GM:  2.213363839400643\n"
     ]
    }
   ],
   "source": [
    "import math\n",
    "num_list = [1,2,3,4]          # Input\n",
    "sum_ = 0                      # Initialize\n",
    "prod = 1                     \n",
    "for num in num_list:          # Apply\n",
    "    print('cs: ', sum_)\n",
    "    print('nn: ', num)\n",
    "    sum_ = sum_ + num\n",
    "    prod *= num                 # shorthand notation\n",
    "print(\"sum: \", sum_)          # Use\n",
    "print(\"prod: \", prod)\n",
    "print(\"AM: \", sum_/len(num_list))\n",
    "print(\"GM: \", math.pow(prod, 1/len(num_list)))"
   ]
  },
  {
   "cell_type": "markdown",
   "metadata": {},
   "source": [
    "## Trace of a computation\n",
    "\n",
    "```\n",
    "------------------------------  \n",
    "  __________________\n",
    " | num  |sum_| prod |\n",
    " |______|____|______|\n",
    " |  _   | 0  |  1   | <-- Initialize\n",
    " |______|____|______|\n",
    " |  1   | 1  |  1   | <-- for loop begins\n",
    " |______|____|______|\n",
    " |  2   | 3  |  2   | \n",
    " |______|____|______|\n",
    " |  3   | 6  |  6   |\n",
    " |______|____|______|\n",
    " |  4   | 10 |  24  | <-- for loop ends\n",
    " |______|____|______|\n",
    "------------------------------\n",
    "\n",
    "```"
   ]
  },
  {
   "cell_type": "markdown",
   "metadata": {},
   "source": [
    "# <font color='blue'>*for* loop pattern 2</font>: range function\n",
    "+ Greater flexibility - access elements by index and reference rather in stead of direct access\n",
    "\n",
    "```\n",
    "------------------------------\n",
    "  ___________________________\n",
    " | Index| 0  | 1  | 2  | 3  |\n",
    " |______|____|___ |____|___ |\n",
    " | Data | 5  | 10 | 15 | 20 |\n",
    " |______|____|____|____|____|\n",
    "------------------------------\n",
    "\n",
    "```\n",
    "\n",
    "+ Built-in **range()** function returns a range object\n",
    "```python\n",
    "x = range(10)\n",
    "type(x)\n",
    "```\n",
    "\n",
    "- Lazy object\n",
    "- use list(x) to force-build the entire range"
   ]
  },
  {
   "cell_type": "code",
   "execution_count": 62,
   "metadata": {},
   "outputs": [
    {
     "name": "stdout",
     "output_type": "stream",
     "text": [
      "[0, 3, 6, 9]\n"
     ]
    }
   ],
   "source": [
    "x = range(0, 10, 3)\n",
    "print(list(x))"
   ]
  },
  {
   "cell_type": "code",
   "execution_count": 63,
   "metadata": {},
   "outputs": [
    {
     "name": "stdout",
     "output_type": "stream",
     "text": [
      "0 a\n",
      "1 b\n",
      "2 c\n"
     ]
    }
   ],
   "source": [
    "x = ['a','b','c']\n",
    "\n",
    "for idx in range(len(x)):\n",
    "    print(idx, x[idx])\n",
    "    \n",
    "\n"
   ]
  },
  {
   "cell_type": "markdown",
   "metadata": {},
   "source": [
    "```python\n",
    "# dot product of 2 vectors\n",
    "vector_1 = [1, 2, 3, 4]\n",
    "vector_2 = [5, 6, 7, 8]\n",
    "dot = 0.0\n",
    "for idx in range(len(vector_1)):\n",
    "    dot += vector_1[idx]*vector_2[idx]\n",
    "print(\"dot product of {} and {} is: {}\".format(vector_1, vector_2, dot))\n",
    "```"
   ]
  },
  {
   "cell_type": "code",
   "execution_count": 64,
   "metadata": {},
   "outputs": [
    {
     "name": "stdout",
     "output_type": "stream",
     "text": [
      "dot product of [1, 2, 3, 4] and [5, 6, 7, 8] is: 70.0\n"
     ]
    }
   ],
   "source": [
    "# dot product of 2 vectors\n",
    "vector_1 = [1, 2, 3, 4]\n",
    "vector_2 = [5, 6, 7, 8]\n",
    "dot = 0.0\n",
    "for idx in range(len(vector_1)):\n",
    "    dot += vector_1[idx]*vector_2[idx]\n",
    "print(\"dot product of {} and {} is: {}\".format(vector_1, vector_2, dot))"
   ]
  },
  {
   "cell_type": "code",
   "execution_count": 68,
   "metadata": {},
   "outputs": [
    {
     "data": {
      "text/plain": [
       "[0, 0, 0, 0]"
      ]
     },
     "execution_count": 68,
     "metadata": {},
     "output_type": "execute_result"
    }
   ],
   "source": [
    "[0]*4"
   ]
  },
  {
   "cell_type": "markdown",
   "metadata": {},
   "source": [
    "+ **Ex: build a list incrementally**\n",
    "\n",
    "+ Fibonacci numbers:\n",
    "    - 1, 1, 2, 3, 5, 8, 13, 21, ...\n",
    "    - F$_1$ = F$_2$=1\n",
    "    - F$_n$ = F$_n$$_-$$_1$ + F$_n$$_-$$_2$\n",
    "\n",
    "```python\n",
    "# Fibonacci\n",
    "n = 10\n",
    "z = [1]*2\t\t\t            \n",
    "for idx in range(2, n):\n",
    "    next = z[idx-1] + z[idx-2]    # Note: next is not a good variable name since it is a built-in function.\n",
    "                                  # Using it as a variable will mask the function\n",
    "    z.append(next)\n",
    "print(z)\n",
    "```\n"
   ]
  },
  {
   "cell_type": "code",
   "execution_count": 71,
   "metadata": {},
   "outputs": [
    {
     "name": "stdout",
     "output_type": "stream",
     "text": [
      "idx:  2\n",
      "lst:  [1, 1]\n",
      "n1:  1\n",
      "n2:  1\n",
      "sum:  2\n",
      "-----\n",
      "idx:  3\n",
      "lst:  [1, 1, 2]\n",
      "n1:  2\n",
      "n2:  1\n",
      "sum:  3\n",
      "-----\n",
      "idx:  4\n",
      "lst:  [1, 1, 2, 3]\n",
      "n1:  3\n",
      "n2:  2\n",
      "sum:  5\n",
      "-----\n",
      "idx:  5\n",
      "lst:  [1, 1, 2, 3, 5]\n",
      "n1:  5\n",
      "n2:  3\n",
      "sum:  8\n",
      "-----\n",
      "idx:  6\n",
      "lst:  [1, 1, 2, 3, 5, 8]\n",
      "n1:  8\n",
      "n2:  5\n",
      "sum:  13\n",
      "-----\n",
      "idx:  7\n",
      "lst:  [1, 1, 2, 3, 5, 8, 13]\n",
      "n1:  13\n",
      "n2:  8\n",
      "sum:  21\n",
      "-----\n",
      "idx:  8\n",
      "lst:  [1, 1, 2, 3, 5, 8, 13, 21]\n",
      "n1:  21\n",
      "n2:  13\n",
      "sum:  34\n",
      "-----\n",
      "idx:  9\n",
      "lst:  [1, 1, 2, 3, 5, 8, 13, 21, 34]\n",
      "n1:  34\n",
      "n2:  21\n",
      "sum:  55\n",
      "-----\n",
      "[1, 1, 2, 3, 5, 8, 13, 21, 34, 55]\n"
     ]
    }
   ],
   "source": [
    "# Fibonacci\n",
    "n = 10\n",
    "z = [1]*2                        \n",
    "for idx in range(2, n):\n",
    "    print('idx: ', idx)\n",
    "    print('lst: ', z)\n",
    "    print('n1: ', z[-1])\n",
    "    print('n2: ', z[-2])\n",
    "    print('sum: ', z[-1] + z[-2])\n",
    "    print('-'*5)\n",
    "    next_ = z[-1] + z[-2]    # Note: next is not a good variable name since it is a built-in function.\n",
    "                                  # Using it as a variable will mask the function\n",
    "    z.append(next_)\n",
    "print(z)\n",
    "\n",
    "\n",
    "# i : lst          : idx : result \n",
    "# 0 : [1, 1]       : 2   : 2\n",
    "# 1 : [1, 1, 2]    : 3   : 3\n",
    "# 2 : [1, 1, 2, 3] : 4   :             "
   ]
  },
  {
   "cell_type": "code",
   "execution_count": 70,
   "metadata": {},
   "outputs": [
    {
     "name": "stdout",
     "output_type": "stream",
     "text": [
      "2\n",
      "3\n",
      "4\n",
      "[3, 4, 5, 6, 7, 8, 9, 10, 11]\n"
     ]
    }
   ],
   "source": [
    "for idx in range(2, 5):\n",
    "    print(idx)\n",
    "\n",
    "print(list(range(3, 12)))"
   ]
  },
  {
   "cell_type": "markdown",
   "metadata": {},
   "source": [
    "# Use built-in functionality as much as possible\n",
    "+ Less code\n",
    "+ More efficient\n",
    "\n",
    "\n",
    "```python\n",
    "# DIY\n",
    "num_list = [1,2,3,4]\n",
    "sum_ = 0\n",
    "for num in num_list:\n",
    "\tsum_ = sum_ + num\n",
    "print(“avg: ”, sum_/len(num_list))\n",
    "\n",
    "# built-in tools\n",
    "avg = sum(num_list)/len(num_list)\n",
    "```"
   ]
  },
  {
   "cell_type": "code",
   "execution_count": null,
   "metadata": {
    "collapsed": true
   },
   "outputs": [],
   "source": []
  },
  {
   "cell_type": "markdown",
   "metadata": {},
   "source": [
    "## Nested Loops\n",
    "\n",
    "Putting a loop inside another loop.\n",
    "\n",
    "```python\n",
    "for j in range(5):\n",
    "    for i in range(2):\n",
    "        print(j, i)\n",
    "```\n",
    "\n",
    "The inner loop will be repeated for each iteration of the outer loop.\n",
    "\n",
    "You can calculate the number of times print will be called.\n",
    "+ Twice for each inner iteration\n",
    "+ The inner iteration is called 5 times\n",
    "+ The total number of prints: inner * outer = 10\n",
    "\n",
    "|||inner (i)|\n",
    "|--|--|\n",
    "||print(j, i)|print(j, i)|\n",
    "||0, 0|0, 1|\n",
    "||1, 0|1, 1|\n",
    "|**outer (j)**|2, 0|2, 1|\n",
    "||3, 0|3, 1|\n",
    "||4, 0|4, 1|"
   ]
  },
  {
   "cell_type": "markdown",
   "metadata": {},
   "source": [
    "#### Bubble Sort\n",
    "\n",
    "Pseudocode:\n",
    "```\n",
    "A: List of unsorted numbers\n",
    "n = length of A\n",
    "for j = 0 to n - 1\n",
    "  for i = 0 to n - 1\n",
    "    if  A[i + 1] < A[i]:\n",
    "      swap A[i + 1] and A[i]\n",
    "```\n",
    "\n",
    "About the bubble sort algorithm:\n",
    "+ It is one of the simplest sorting algorithms\n",
    "+ It is highly inefficient | **O(n<sup>2</sup>)**\n",
    "  + The O() is called Big O notation\n",
    "  + This is a measure of an algorithms worst case performance\n",
    "    + **O(1)** Constant Time: Number of elements does not change performance\n",
    "    + **O(log<sub>n</sub>)** Log Time: The algorithm never looks at all of the elements\n",
    "    + **O(n)** N time: The algorithm will look at each element once in the worst case \n",
    "    + ...\n",
    "    + **O(2<sup>n</sup>)** Exponential Time: You never want an algorithm with performance like this\n",
    "  + In this case, **O(n<sup>2</sup>)**, the algorithm will evaluate each number twice]\n",
    "  + This is due to the nested loops both iterating **n - 1** times\n",
    "+ This is called a destructive sort as the original list is sorted and the order before sorting is lost\n"
   ]
  },
  {
   "cell_type": "code",
   "execution_count": 76,
   "metadata": {},
   "outputs": [
    {
     "name": "stdout",
     "output_type": "stream",
     "text": [
      "[0, 34, 43, 17, 18, 15, 41, 22, 1, 40, 38, 42, 31, 19, 36]\n"
     ]
    }
   ],
   "source": [
    "import random\n",
    "# this selects 5 random numbers between 0 and 49\n",
    "number_list = random.sample(range(50), 15)\n",
    "print(number_list)"
   ]
  },
  {
   "cell_type": "code",
   "execution_count": 74,
   "metadata": {},
   "outputs": [
    {
     "name": "stdout",
     "output_type": "stream",
     "text": [
      "[0, 3, 4, 5, 7, 9, 11, 13, 18, 21, 23, 24, 26, 27, 28, 29, 32, 35, 36, 38, 39, 40, 42, 44, 45]\n"
     ]
    }
   ],
   "source": [
    "import random\n",
    "\n",
    "# Bubble Sort\n",
    "\n",
    "number_list = random.sample(range(50), 25)\n",
    "n = len(number_list)\n",
    "\n",
    "for j in range(n - 1):\n",
    "    for i in range(n - 1):\n",
    "        if number_list[i + 1] < number_list[i]:\n",
    "            tmp = number_list[i + 1]\n",
    "            number_list[i + 1] = number_list[i]\n",
    "            number_list [i] = tmp\n",
    "print(number_list)"
   ]
  },
  {
   "cell_type": "code",
   "execution_count": 78,
   "metadata": {},
   "outputs": [
    {
     "name": "stdout",
     "output_type": "stream",
     "text": [
      "iteration0\n",
      "               5 ↔  4    3    2    1  \n",
      "               4    5 ↔  3    2    1  \n",
      "               4    3    5 ↔  2    1  \n",
      "               4    3    2    5 ↔  1  \n",
      "iteration1\n",
      "               4 ↔  3    2    1    5  \n",
      "               3    4 ↔  2    1    5  \n",
      "               3    2    4 ↔  1    5  \n",
      "               3    2    1    4 <  5  \n",
      "iteration2\n",
      "               3 ↔  2    1    4    5  \n",
      "               2    3 ↔  1    4    5  \n",
      "               2    1    3 <  4    5  \n",
      "               2    1    3    4 <  5  \n",
      "iteration3\n",
      "               2 ↔  1    3    4    5  \n",
      "               1    2 <  3    4    5  \n",
      "               1    2    3 <  4    5  \n",
      "               1    2    3    4 <  5  \n",
      "iteration4\n",
      "               1 <  2    3    4    5  \n",
      "               1    2 <  3    4    5  \n",
      "               1    2    3 <  4    5  \n",
      "               1    2    3    4 <  5  \n",
      "sorted: [1, 2, 3, 4, 5]\n"
     ]
    }
   ],
   "source": [
    "import random\n",
    "\n",
    "def print_list(lst, row_idx, char):\n",
    "    result = ''\n",
    "    for idx, element in enumerate(lst):\n",
    "        result += '{:>3}  '.format(element)\n",
    "        if idx == row_idx:\n",
    "            result = result[:-2] + ' {}'.format(char)\n",
    "    print(' '*12, result)\n",
    "\n",
    "# Bubble Sort\n",
    "\n",
    "# number_list = random.sample(range(50), 5)\n",
    "number_list = [5, 4, 3, 2, 1]\n",
    "n = len(number_list)\n",
    "\n",
    "for j in range(n):\n",
    "    print('iteration{}'.format(j))\n",
    "    for i in range(n - 1):\n",
    "        if number_list[i + 1] < number_list[i]:\n",
    "            print_list(number_list, i, '↔')\n",
    "            tmp = number_list[i + 1]\n",
    "            number_list[i + 1] = number_list[i]\n",
    "            number_list [i] = tmp\n",
    "        else:\n",
    "            print_list(number_list, i, '<')\n",
    "            \n",
    "print('sorted:', number_list)"
   ]
  },
  {
   "cell_type": "markdown",
   "metadata": {},
   "source": [
    "### Practice"
   ]
  },
  {
   "cell_type": "code",
   "execution_count": 83,
   "metadata": {},
   "outputs": [
    {
     "name": "stdout",
     "output_type": "stream",
     "text": [
      "*****\n"
     ]
    }
   ],
   "source": [
    "# Given a number 'n', build a string with that number of * characters in it and print it\n",
    "\n",
    "# EG:\n",
    "#    'n'   = 5\n",
    "#   result = '*****'\n",
    "\n",
    "# Psuedocode:\n",
    "# 1. get the number 'n' from the user (Assume that it will always be an int)\n",
    "# 2. create a variable to hold the result\n",
    "# 3. iterate 'n' times\n",
    "# 4.    add '*' to result\n",
    "# 5. print the result\n",
    "\n",
    "n = 5\n",
    "\n",
    "# result = '*'*5\n",
    "# print(result)\n",
    "for i in range(n):\n",
    "    result += '*'\n",
    "\n",
    "    print(result)"
   ]
  },
  {
   "cell_type": "code",
   "execution_count": 87,
   "metadata": {},
   "outputs": [
    {
     "name": "stdout",
     "output_type": "stream",
     "text": [
      "0\n",
      "01\n",
      "012\n",
      "0123\n",
      "01234\n"
     ]
    }
   ],
   "source": [
    "# Given a number 'n', build a string using the index instead of the * characters\n",
    "\n",
    "# EG:\n",
    "#    'n'   = 5\n",
    "#   result = '01234'\n",
    "\n",
    "# Psuedocode:\n",
    "# 1. get the number 'n' from the user (Assume that it will always be an int)\n",
    "# 2. create a variable to hold the result\n",
    "# 3. iterate 'n' times\n",
    "# 4.    add index to result\n",
    "# 5. print the result\n",
    "\n",
    "n = 5\n",
    "\n",
    "result = ''\n",
    "for i in range(n):\n",
    "    result += '{}'.format(i)\n",
    "    print(result)\n"
   ]
  },
  {
   "cell_type": "code",
   "execution_count": 93,
   "metadata": {},
   "outputs": [
    {
     "name": "stdout",
     "output_type": "stream",
     "text": [
      " * * * * *\n",
      " * * * * *\n",
      " * * * * *\n",
      " * * * * *\n",
      " * * * * *\n"
     ]
    }
   ],
   "source": [
    "# Given a number 'n', create a n X n square of * characters\n",
    "\n",
    "# EG:\n",
    "#    'n'   | 5\n",
    "#   result | *****\n",
    "#          | *****\n",
    "#          | *****\n",
    "#          | *****\n",
    "#          | *****\n",
    "    \n",
    "\n",
    "# Psuedocode:\n",
    "# 1. get the number 'n' from the user (Assume that it will always be an int)\n",
    "# 2. iterate n times, once for each row\n",
    "# 3.   create a variable to hold the result for that row\n",
    "# 4.   iterate 'n' times, once for each column in the row\n",
    "# 5.     add '*' to result\n",
    "# 6.   print the result for that row\n",
    "\n",
    "n = 5\n",
    "\n",
    "for j in range(n):\n",
    "    result = ''\n",
    "    for i in range(n):\n",
    "        result += '{:>2}'.format('*')\n",
    "    print(result)\n",
    "    \n"
   ]
  },
  {
   "cell_type": "code",
   "execution_count": 95,
   "metadata": {},
   "outputs": [
    {
     "name": "stdout",
     "output_type": "stream",
     "text": [
      " 0 0 0 0 0\n",
      " 1 1 1 1 1\n",
      " 2 2 2 2 2\n",
      " 3 3 3 3 3\n",
      " 4 4 4 4 4\n"
     ]
    }
   ],
   "source": [
    "# Given a number 'n', create a n X n square of int characters representing the row\n",
    "\n",
    "# EG:\n",
    "#    'n'   | 5\n",
    "#   result | 00000\n",
    "#          | 11111\n",
    "#          | 22222\n",
    "#          | 33333\n",
    "#          | 44444\n",
    "    \n",
    "\n",
    "# Psuedocode:\n",
    "# 1. get the number 'n' from the user (Assume that it will always be an int)\n",
    "# 2. iterate n times, once for each row\n",
    "# 3.   create a variable to hold the result for that row\n",
    "# 4.   iterate 'n' times, once for each column in the row\n",
    "# 5.     add row_index to result\n",
    "# 6.   print the result for that row\n",
    "\n",
    "n = 5\n",
    "\n",
    "for j in range(n):\n",
    "    result = ''\n",
    "    for i in range(n):\n",
    "        result += '{:>2}'.format(j)\n",
    "    print(result)\n"
   ]
  },
  {
   "cell_type": "code",
   "execution_count": 96,
   "metadata": {},
   "outputs": [
    {
     "name": "stdout",
     "output_type": "stream",
     "text": [
      " 0 1 2 3 4\n",
      " 0 1 2 3 4\n",
      " 0 1 2 3 4\n",
      " 0 1 2 3 4\n",
      " 0 1 2 3 4\n"
     ]
    }
   ],
   "source": [
    "# Given a number 'n', create a n X n square of int characters representing the column\n",
    "\n",
    "# EG:\n",
    "#    'n'   | 5\n",
    "#   result | 01234\n",
    "#          | 01234\n",
    "#          | 01234\n",
    "#          | 01234\n",
    "#          | 01234\n",
    "    \n",
    "\n",
    "# Psuedocode:\n",
    "# 1. get the number 'n' from the user (Assume that it will always be an int)\n",
    "# 2. iterate n times, once for each row\n",
    "# 3.   create a variable to hold the result for that row\n",
    "# 4.   iterate 'n' times, once for each column in the row\n",
    "# 5.     add col_index to result\n",
    "# 6.   print the result for that row\n",
    "\n",
    "n = 5\n",
    "\n",
    "for j in range(n):\n",
    "    result = ''\n",
    "    for i in range(n):\n",
    "        result += '{:>2}'.format(i)\n",
    "    print(result)\n"
   ]
  },
  {
   "cell_type": "code",
   "execution_count": 101,
   "metadata": {},
   "outputs": [
    {
     "name": "stdout",
     "output_type": "stream",
     "text": [
      "  0  1  2  3  4\n",
      "  5  6  7  8  9\n",
      " 10 11 12 13 14\n",
      " 15 16 17 18 19\n",
      " 20 21 22 23 24\n"
     ]
    }
   ],
   "source": [
    "# Given a number 'n', create a n X n square of int characters representing the cumulative total\n",
    "\n",
    "# It helps to use formatting for this example as the numbers are not all going to be a single character\n",
    "\n",
    "# '{:>3}'.format(int) will pad the integer with blank spaces so that the total length is 3 in this case\n",
    "    # '  1' : single characters will have two blank spaces in front\n",
    "    # ' 12' : double characters will have a single blank space\n",
    "    # '132' : triple characters will have no blank spaces\n",
    "    \n",
    "    # the direction of the 'arrow' indicates which side to align the characters\n",
    "    # > : align to the right\n",
    "    # ^ : align to the center\n",
    "    # < : align to the right\n",
    "    \n",
    "    # We will cover this in more detail in a few lectures time\n",
    "\n",
    "# EG:\n",
    "#    'n'   | 5\n",
    "#   result |  0  1  2  3  4\n",
    "#          |  5  6  7  8  9\n",
    "#          | 10 11 12 13 14\n",
    "#          | 15 16 17 18 19\n",
    "#          | 20 21 22 23 24\n",
    "    \n",
    "\n",
    "# Psuedocode:\n",
    "# 1. get the number 'n' from the user (Assume that it will always be an int)\n",
    "# 2. iterate n times, once for each row\n",
    "# 3.   create a variable to hold the result for that row\n",
    "# 4.   iterate 'n' times, once for each column in the row\n",
    "# 5.     add row_index * n + col_index to result\n",
    "# 6.   print the result for that row\n",
    "\n",
    "n = 5\n",
    "\n",
    "# count = 0\n",
    "\n",
    "for j in range(n):\n",
    "    result = ''\n",
    "    for i in range(n):\n",
    "#         result += '{:>3}'.format(count)\n",
    "        result += '{:>3}'.format(j * n + i)\n",
    "        count += 1\n",
    "    print(result)\n"
   ]
  },
  {
   "cell_type": "markdown",
   "metadata": {},
   "source": [
    "# Next class:\n",
    "+ Dictionaries\n",
    "+ sets, tuples\n",
    "+ while loops\n",
    "+ break and continue statements"
   ]
  },
  {
   "cell_type": "code",
   "execution_count": null,
   "metadata": {
    "collapsed": true
   },
   "outputs": [],
   "source": []
  }
 ],
 "metadata": {
  "anaconda-cloud": {},
  "kernelspec": {
   "display_name": "Python 3",
   "language": "python",
   "name": "python3"
  },
  "language_info": {
   "codemirror_mode": {
    "name": "ipython",
    "version": 3
   },
   "file_extension": ".py",
   "mimetype": "text/x-python",
   "name": "python",
   "nbconvert_exporter": "python",
   "pygments_lexer": "ipython3",
   "version": "3.6.2"
  }
 },
 "nbformat": 4,
 "nbformat_minor": 1
}
